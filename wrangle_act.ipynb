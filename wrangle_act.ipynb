{
 "cells": [
  {
   "cell_type": "markdown",
   "metadata": {},
   "source": [
    "# Wrangle & Analyze WeRateDogs Data\n",
    "\n",
    "<hr>\n",
    "\n",
    "#### Table of Contents:\n",
    "* [Project Description](#Project-Description)  \n",
    "* [Notebook Setup](#Notebook-Setup)  \n",
    "<br/> \n",
    "* [Gathering Data](#Gathering-Data)\n",
    "    * [Enhanced Twitter Archive](#Gether:-Enhanced-Twitter-Archive)  \n",
    "    * [Image Predictions File](#Gether:-Image-Predictions-File)  \n",
    "    * [Twitter API File](#Gether:-Twitter-API-File)  \n",
    "<br/> \n",
    "* [Assessing Data](#Assessing-Data)\n",
    "    * [Twitter Archive Data](#Assess:-Twitter-Archive-Data)  \n",
    "    * [Image Predictions](#Assess:-Image-Predictions)  \n",
    "    * [Twitter API Data](#Assess:-Twitter-API-Data)  \n",
    "<br/> \n",
    "* [Cleaning Data](#Cleaning-Data)\n",
    "    * [Twitter Archive Data](#Clean:-Twitter-Archive-Data)  \n",
    "    * [Image Predictions](#Clean:-Image-Predictions)  \n",
    "    * [Twitter API Data](#Clean:-Twitter-API-Data)  \n",
    "    * [Merge Datasets](#Clean:-Merge-Datasets)  \n",
    "<br/> \n",
    "* [Analyzing Data](#Analyzing-Data)\n",
    "\n",
    "<hr>\n",
    "\n",
    "## Project Description\n",
    "\n",
    "Real-world data rarely comes clean. Using Python and its libraries, I will gather data from a variety of sources and in a variety of formats, assess its quality and tidiness, then clean it. This is called data wrangling. I will document my wrangling efforts in a Jupyter Notebook, plus showcase them through analyses and visualizations using Python.\n",
    "\n",
    "The dataset that I will be wrangling (and analyzing and visualizing) is the tweet archive of Twitter user @dog_rates, also known as WeRateDogs. WeRateDogs is a Twitter account that rates people's dogs with a humorous comment about the dog. These ratings almost always have a denominator of 10. The numerators, though? Almost always greater than 10. 11/10, 12/10, 13/10, etc. Why? Because \"they're good dogs Brent.\" WeRateDogs has over 4 million followers and has received international media coverage.\n",
    "\n",
    "<p align=\"center\">\n",
    "  <img src=\"img/dog-rates-social.jpg\" width=\"600\">\n",
    "</p>\n",
    "\n",
    "The WeRateDogs Twitter archive contains basic tweet data for all 5000+ of their tweets, but not everything. One column the archive does contain though: each tweet's text, which I used to extract rating, dog name, and dog \"stage\" (i.e. doggo, floofer, pupper, and puppo) to make this Twitter archive \"enhanced.\" Of the 5000+ tweets, I have filtered for tweets with ratings only (there are 2356).\n",
    "\n",
    "<p align=\"center\">\n",
    "  <img src=\"img/data.png\" width=\"1300\">\n",
    "</p>\n",
    "\n",
    "Retweet count and favorite count are two of the notable column omissions. Fortunately, this additional data can be gathered from Twitter's API, which I will do."
   ]
  },
  {
   "cell_type": "markdown",
   "metadata": {},
   "source": [
    "## Notebook Setup\n",
    "\n",
    "Load libraries and set pandas display options.\n",
    "\n",
    "<hr>"
   ]
  },
  {
   "cell_type": "code",
   "execution_count": 1,
   "metadata": {},
   "outputs": [],
   "source": [
    "# import libraries\n",
    "import numpy as np\n",
    "import pandas as pd\n",
    "import requests\n",
    "import json\n",
    "from stop_words import get_stop_words\n",
    "import re\n",
    "from functools import reduce\n",
    "import matplotlib.pyplot as plt\n",
    "from datetime import datetime\n",
    "from wordcloud import WordCloud, ImageColorGenerator\n",
    "import seaborn as sns\n",
    "\n",
    "# pandas settings\n",
    "pd.set_option('display.max_colwidth', -1)\n",
    "\n",
    "# matplotlib magic\n",
    "%matplotlib inline"
   ]
  },
  {
   "cell_type": "markdown",
   "metadata": {},
   "source": [
    "## Gathering Data\n",
    "\n",
    "Gather data from various sources and a variety of file formats.\n",
    "\n",
    "<hr>\n",
    "\n",
    "* [Enhanced Twitter Archive](#Gether:-Enhanced-Twitter-Archive)  \n",
    "* [Image Predictions File](#Gether:-Image-Predictions-File)  \n",
    "* [Twitter API File](#Gether:-Twitter-API-File)\n",
    "\n",
    "\n",
    "### Gather: Enhanced Twitter Archive\n",
    "\n",
    "This archive contains basic tweet data (tweet ID, timestamp, text, etc.) for all 5000+ of their tweets as they stood on August 1, 2017."
   ]
  },
  {
   "cell_type": "code",
   "execution_count": 2,
   "metadata": {},
   "outputs": [
    {
     "data": {
      "text/html": [
       "<div>\n",
       "<style scoped>\n",
       "    .dataframe tbody tr th:only-of-type {\n",
       "        vertical-align: middle;\n",
       "    }\n",
       "\n",
       "    .dataframe tbody tr th {\n",
       "        vertical-align: top;\n",
       "    }\n",
       "\n",
       "    .dataframe thead th {\n",
       "        text-align: right;\n",
       "    }\n",
       "</style>\n",
       "<table border=\"1\" class=\"dataframe\">\n",
       "  <thead>\n",
       "    <tr style=\"text-align: right;\">\n",
       "      <th></th>\n",
       "      <th>in_reply_to_status_id</th>\n",
       "      <th>in_reply_to_user_id</th>\n",
       "      <th>timestamp</th>\n",
       "      <th>source</th>\n",
       "      <th>text</th>\n",
       "      <th>retweeted_status_id</th>\n",
       "      <th>retweeted_status_user_id</th>\n",
       "      <th>retweeted_status_timestamp</th>\n",
       "      <th>expanded_urls</th>\n",
       "      <th>rating_numerator</th>\n",
       "      <th>rating_denominator</th>\n",
       "      <th>name</th>\n",
       "      <th>doggo</th>\n",
       "      <th>floofer</th>\n",
       "      <th>pupper</th>\n",
       "      <th>puppo</th>\n",
       "    </tr>\n",
       "    <tr>\n",
       "      <th>tweet_id</th>\n",
       "      <th></th>\n",
       "      <th></th>\n",
       "      <th></th>\n",
       "      <th></th>\n",
       "      <th></th>\n",
       "      <th></th>\n",
       "      <th></th>\n",
       "      <th></th>\n",
       "      <th></th>\n",
       "      <th></th>\n",
       "      <th></th>\n",
       "      <th></th>\n",
       "      <th></th>\n",
       "      <th></th>\n",
       "      <th></th>\n",
       "      <th></th>\n",
       "    </tr>\n",
       "  </thead>\n",
       "  <tbody>\n",
       "    <tr>\n",
       "      <th>892420643555336193</th>\n",
       "      <td>NaN</td>\n",
       "      <td>NaN</td>\n",
       "      <td>2017-08-01 16:23:56 +0000</td>\n",
       "      <td>&lt;a href=\"http://twitter.com/download/iphone\" rel=\"nofollow\"&gt;Twitter for iPhone&lt;/a&gt;</td>\n",
       "      <td>This is Phineas. He's a mystical boy. Only ever appears in the hole of a donut. 13/10 https://t.co/MgUWQ76dJU</td>\n",
       "      <td>NaN</td>\n",
       "      <td>NaN</td>\n",
       "      <td>NaN</td>\n",
       "      <td>https://twitter.com/dog_rates/status/892420643555336193/photo/1</td>\n",
       "      <td>13</td>\n",
       "      <td>10</td>\n",
       "      <td>Phineas</td>\n",
       "      <td>None</td>\n",
       "      <td>None</td>\n",
       "      <td>None</td>\n",
       "      <td>None</td>\n",
       "    </tr>\n",
       "    <tr>\n",
       "      <th>892177421306343426</th>\n",
       "      <td>NaN</td>\n",
       "      <td>NaN</td>\n",
       "      <td>2017-08-01 00:17:27 +0000</td>\n",
       "      <td>&lt;a href=\"http://twitter.com/download/iphone\" rel=\"nofollow\"&gt;Twitter for iPhone&lt;/a&gt;</td>\n",
       "      <td>This is Tilly. She's just checking pup on you. Hopes you're doing ok. If not, she's available for pats, snugs, boops, the whole bit. 13/10 https://t.co/0Xxu71qeIV</td>\n",
       "      <td>NaN</td>\n",
       "      <td>NaN</td>\n",
       "      <td>NaN</td>\n",
       "      <td>https://twitter.com/dog_rates/status/892177421306343426/photo/1</td>\n",
       "      <td>13</td>\n",
       "      <td>10</td>\n",
       "      <td>Tilly</td>\n",
       "      <td>None</td>\n",
       "      <td>None</td>\n",
       "      <td>None</td>\n",
       "      <td>None</td>\n",
       "    </tr>\n",
       "    <tr>\n",
       "      <th>891815181378084864</th>\n",
       "      <td>NaN</td>\n",
       "      <td>NaN</td>\n",
       "      <td>2017-07-31 00:18:03 +0000</td>\n",
       "      <td>&lt;a href=\"http://twitter.com/download/iphone\" rel=\"nofollow\"&gt;Twitter for iPhone&lt;/a&gt;</td>\n",
       "      <td>This is Archie. He is a rare Norwegian Pouncing Corgo. Lives in the tall grass. You never know when one may strike. 12/10 https://t.co/wUnZnhtVJB</td>\n",
       "      <td>NaN</td>\n",
       "      <td>NaN</td>\n",
       "      <td>NaN</td>\n",
       "      <td>https://twitter.com/dog_rates/status/891815181378084864/photo/1</td>\n",
       "      <td>12</td>\n",
       "      <td>10</td>\n",
       "      <td>Archie</td>\n",
       "      <td>None</td>\n",
       "      <td>None</td>\n",
       "      <td>None</td>\n",
       "      <td>None</td>\n",
       "    </tr>\n",
       "  </tbody>\n",
       "</table>\n",
       "</div>"
      ],
      "text/plain": [
       "                    in_reply_to_status_id  in_reply_to_user_id  \\\n",
       "tweet_id                                                         \n",
       "892420643555336193 NaN                    NaN                    \n",
       "892177421306343426 NaN                    NaN                    \n",
       "891815181378084864 NaN                    NaN                    \n",
       "\n",
       "                                    timestamp  \\\n",
       "tweet_id                                        \n",
       "892420643555336193  2017-08-01 16:23:56 +0000   \n",
       "892177421306343426  2017-08-01 00:17:27 +0000   \n",
       "891815181378084864  2017-07-31 00:18:03 +0000   \n",
       "\n",
       "                                                                                                source  \\\n",
       "tweet_id                                                                                                 \n",
       "892420643555336193  <a href=\"http://twitter.com/download/iphone\" rel=\"nofollow\">Twitter for iPhone</a>   \n",
       "892177421306343426  <a href=\"http://twitter.com/download/iphone\" rel=\"nofollow\">Twitter for iPhone</a>   \n",
       "891815181378084864  <a href=\"http://twitter.com/download/iphone\" rel=\"nofollow\">Twitter for iPhone</a>   \n",
       "\n",
       "                                                                                                                                                                                  text  \\\n",
       "tweet_id                                                                                                                                                                                 \n",
       "892420643555336193  This is Phineas. He's a mystical boy. Only ever appears in the hole of a donut. 13/10 https://t.co/MgUWQ76dJU                                                        \n",
       "892177421306343426  This is Tilly. She's just checking pup on you. Hopes you're doing ok. If not, she's available for pats, snugs, boops, the whole bit. 13/10 https://t.co/0Xxu71qeIV   \n",
       "891815181378084864  This is Archie. He is a rare Norwegian Pouncing Corgo. Lives in the tall grass. You never know when one may strike. 12/10 https://t.co/wUnZnhtVJB                    \n",
       "\n",
       "                    retweeted_status_id  retweeted_status_user_id  \\\n",
       "tweet_id                                                            \n",
       "892420643555336193 NaN                  NaN                         \n",
       "892177421306343426 NaN                  NaN                         \n",
       "891815181378084864 NaN                  NaN                         \n",
       "\n",
       "                   retweeted_status_timestamp  \\\n",
       "tweet_id                                        \n",
       "892420643555336193  NaN                         \n",
       "892177421306343426  NaN                         \n",
       "891815181378084864  NaN                         \n",
       "\n",
       "                                                                      expanded_urls  \\\n",
       "tweet_id                                                                              \n",
       "892420643555336193  https://twitter.com/dog_rates/status/892420643555336193/photo/1   \n",
       "892177421306343426  https://twitter.com/dog_rates/status/892177421306343426/photo/1   \n",
       "891815181378084864  https://twitter.com/dog_rates/status/891815181378084864/photo/1   \n",
       "\n",
       "                    rating_numerator  rating_denominator     name doggo  \\\n",
       "tweet_id                                                                  \n",
       "892420643555336193  13                10                  Phineas  None   \n",
       "892177421306343426  13                10                  Tilly    None   \n",
       "891815181378084864  12                10                  Archie   None   \n",
       "\n",
       "                   floofer pupper puppo  \n",
       "tweet_id                                 \n",
       "892420643555336193  None    None   None  \n",
       "892177421306343426  None    None   None  \n",
       "891815181378084864  None    None   None  "
      ]
     },
     "execution_count": 2,
     "metadata": {},
     "output_type": "execute_result"
    }
   ],
   "source": [
    "# load twitter archive\n",
    "twitter_arch = pd.read_csv(\"data/twitter-archive-enhanced.csv\")\n",
    "# use tweet id column as index\n",
    "twitter_arch.set_index(\"tweet_id\", inplace = True)\n",
    "# display few lines\n",
    "twitter_arch.head(3)"
   ]
  },
  {
   "cell_type": "markdown",
   "metadata": {},
   "source": [
    "### Gether: Image Predictions File\n",
    "\n",
    "This file contains top three predictions of dog breed for each dog image from the WeRateDogs archive. Table contains the top three predictions, tweet ID, image URL, and the image number that corresponded to the most confident prediction (numbered 1 to 4 since tweets can have up to four images)."
   ]
  },
  {
   "cell_type": "code",
   "execution_count": 3,
   "metadata": {},
   "outputs": [
    {
     "data": {
      "text/html": [
       "<div>\n",
       "<style scoped>\n",
       "    .dataframe tbody tr th:only-of-type {\n",
       "        vertical-align: middle;\n",
       "    }\n",
       "\n",
       "    .dataframe tbody tr th {\n",
       "        vertical-align: top;\n",
       "    }\n",
       "\n",
       "    .dataframe thead th {\n",
       "        text-align: right;\n",
       "    }\n",
       "</style>\n",
       "<table border=\"1\" class=\"dataframe\">\n",
       "  <thead>\n",
       "    <tr style=\"text-align: right;\">\n",
       "      <th></th>\n",
       "      <th>jpg_url</th>\n",
       "      <th>img_num</th>\n",
       "      <th>p1</th>\n",
       "      <th>p1_conf</th>\n",
       "      <th>p1_dog</th>\n",
       "      <th>p2</th>\n",
       "      <th>p2_conf</th>\n",
       "      <th>p2_dog</th>\n",
       "      <th>p3</th>\n",
       "      <th>p3_conf</th>\n",
       "      <th>p3_dog</th>\n",
       "    </tr>\n",
       "    <tr>\n",
       "      <th>tweet_id</th>\n",
       "      <th></th>\n",
       "      <th></th>\n",
       "      <th></th>\n",
       "      <th></th>\n",
       "      <th></th>\n",
       "      <th></th>\n",
       "      <th></th>\n",
       "      <th></th>\n",
       "      <th></th>\n",
       "      <th></th>\n",
       "      <th></th>\n",
       "    </tr>\n",
       "  </thead>\n",
       "  <tbody>\n",
       "    <tr>\n",
       "      <th>666020888022790149</th>\n",
       "      <td>https://pbs.twimg.com/media/CT4udn0WwAA0aMy.jpg</td>\n",
       "      <td>1</td>\n",
       "      <td>Welsh_springer_spaniel</td>\n",
       "      <td>0.465074</td>\n",
       "      <td>True</td>\n",
       "      <td>collie</td>\n",
       "      <td>0.156665</td>\n",
       "      <td>True</td>\n",
       "      <td>Shetland_sheepdog</td>\n",
       "      <td>0.061428</td>\n",
       "      <td>True</td>\n",
       "    </tr>\n",
       "    <tr>\n",
       "      <th>666029285002620928</th>\n",
       "      <td>https://pbs.twimg.com/media/CT42GRgUYAA5iDo.jpg</td>\n",
       "      <td>1</td>\n",
       "      <td>redbone</td>\n",
       "      <td>0.506826</td>\n",
       "      <td>True</td>\n",
       "      <td>miniature_pinscher</td>\n",
       "      <td>0.074192</td>\n",
       "      <td>True</td>\n",
       "      <td>Rhodesian_ridgeback</td>\n",
       "      <td>0.072010</td>\n",
       "      <td>True</td>\n",
       "    </tr>\n",
       "    <tr>\n",
       "      <th>666033412701032449</th>\n",
       "      <td>https://pbs.twimg.com/media/CT4521TWwAEvMyu.jpg</td>\n",
       "      <td>1</td>\n",
       "      <td>German_shepherd</td>\n",
       "      <td>0.596461</td>\n",
       "      <td>True</td>\n",
       "      <td>malinois</td>\n",
       "      <td>0.138584</td>\n",
       "      <td>True</td>\n",
       "      <td>bloodhound</td>\n",
       "      <td>0.116197</td>\n",
       "      <td>True</td>\n",
       "    </tr>\n",
       "  </tbody>\n",
       "</table>\n",
       "</div>"
      ],
      "text/plain": [
       "                                                            jpg_url  img_num  \\\n",
       "tweet_id                                                                       \n",
       "666020888022790149  https://pbs.twimg.com/media/CT4udn0WwAA0aMy.jpg  1         \n",
       "666029285002620928  https://pbs.twimg.com/media/CT42GRgUYAA5iDo.jpg  1         \n",
       "666033412701032449  https://pbs.twimg.com/media/CT4521TWwAEvMyu.jpg  1         \n",
       "\n",
       "                                        p1   p1_conf  p1_dog  \\\n",
       "tweet_id                                                       \n",
       "666020888022790149  Welsh_springer_spaniel  0.465074  True     \n",
       "666029285002620928  redbone                 0.506826  True     \n",
       "666033412701032449  German_shepherd         0.596461  True     \n",
       "\n",
       "                                    p2   p2_conf  p2_dog                   p3  \\\n",
       "tweet_id                                                                        \n",
       "666020888022790149  collie              0.156665  True    Shetland_sheepdog     \n",
       "666029285002620928  miniature_pinscher  0.074192  True    Rhodesian_ridgeback   \n",
       "666033412701032449  malinois            0.138584  True    bloodhound            \n",
       "\n",
       "                     p3_conf  p3_dog  \n",
       "tweet_id                              \n",
       "666020888022790149  0.061428  True    \n",
       "666029285002620928  0.072010  True    \n",
       "666033412701032449  0.116197  True    "
      ]
     },
     "execution_count": 3,
     "metadata": {},
     "output_type": "execute_result"
    }
   ],
   "source": [
    "# get file with the image predictions\n",
    "url = 'https://d17h27t6h515a5.cloudfront.net/topher/2017/August/599fd2ad_image-predictions/image-predictions.tsv'\n",
    "with open('data/image-predictions.tsv' , 'wb') as file:\n",
    "    predictions = requests.get(url)\n",
    "    file.write(predictions.content)\n",
    "\n",
    "# load image predictions\n",
    "image_pred = pd.read_csv('data/image-predictions.tsv', sep = '\\t')\n",
    "# use tweet id column as index\n",
    "image_pred.set_index(\"tweet_id\", inplace = True)\n",
    "# display few lines\n",
    "image_pred.head(3)"
   ]
  },
  {
   "cell_type": "markdown",
   "metadata": {},
   "source": [
    "### Gether: Twitter API File\n",
    "\n",
    "Retweet count and favorite count are two of the notable column omissions of Twitter data archive. Fortunately, this additional data can be gathered from Twitter's API. Twitter API file contains tweet id, favorite count and retweet count. "
   ]
  },
  {
   "cell_type": "code",
   "execution_count": 4,
   "metadata": {},
   "outputs": [
    {
     "data": {
      "text/html": [
       "<div>\n",
       "<style scoped>\n",
       "    .dataframe tbody tr th:only-of-type {\n",
       "        vertical-align: middle;\n",
       "    }\n",
       "\n",
       "    .dataframe tbody tr th {\n",
       "        vertical-align: top;\n",
       "    }\n",
       "\n",
       "    .dataframe thead th {\n",
       "        text-align: right;\n",
       "    }\n",
       "</style>\n",
       "<table border=\"1\" class=\"dataframe\">\n",
       "  <thead>\n",
       "    <tr style=\"text-align: right;\">\n",
       "      <th></th>\n",
       "      <th>favorites</th>\n",
       "      <th>retweets</th>\n",
       "    </tr>\n",
       "    <tr>\n",
       "      <th>tweet_id</th>\n",
       "      <th></th>\n",
       "      <th></th>\n",
       "    </tr>\n",
       "  </thead>\n",
       "  <tbody>\n",
       "    <tr>\n",
       "      <th>892420643555336193</th>\n",
       "      <td>39467</td>\n",
       "      <td>8853</td>\n",
       "    </tr>\n",
       "    <tr>\n",
       "      <th>892177421306343426</th>\n",
       "      <td>33819</td>\n",
       "      <td>6514</td>\n",
       "    </tr>\n",
       "    <tr>\n",
       "      <th>891815181378084864</th>\n",
       "      <td>25461</td>\n",
       "      <td>4328</td>\n",
       "    </tr>\n",
       "  </tbody>\n",
       "</table>\n",
       "</div>"
      ],
      "text/plain": [
       "                    favorites  retweets\n",
       "tweet_id                               \n",
       "892420643555336193  39467      8853    \n",
       "892177421306343426  33819      6514    \n",
       "891815181378084864  25461      4328    "
      ]
     },
     "execution_count": 4,
     "metadata": {},
     "output_type": "execute_result"
    }
   ],
   "source": [
    "# load twitter API data\n",
    "with open('data/tweet-json.txt') as f:\n",
    "    twitter_api = pd.DataFrame((json.loads(line) for line in f), columns = ['id', 'favorite_count', 'retweet_count'])\n",
    "\n",
    "# change column names\n",
    "twitter_api.columns = ['tweet_id', 'favorites', 'retweets']\n",
    "# use tweet id column as index\n",
    "twitter_api.set_index('tweet_id', inplace = True)\n",
    "# display few lines\n",
    "twitter_api.head(3)"
   ]
  },
  {
   "cell_type": "markdown",
   "metadata": {},
   "source": [
    "\n",
    "## Assessing Data\n",
    "\n",
    "Assess data visually and programmatically for quality and tidiness issues using pandas.\n",
    "\n",
    "<hr>\n",
    "\n",
    "* [Twitter Archive Data](#Assess:-Twitter-Archive-Data)  \n",
    "* [Image Predictions](#Assess:-Image-Predictions)  \n",
    "* [Twitter API Data](#Assess:-Twitter-API-Data)"
   ]
  },
  {
   "cell_type": "markdown",
   "metadata": {},
   "source": [
    "### Assess: Twitter Archive Data"
   ]
  },
  {
   "cell_type": "code",
   "execution_count": 5,
   "metadata": {},
   "outputs": [
    {
     "data": {
      "text/html": [
       "<div>\n",
       "<style scoped>\n",
       "    .dataframe tbody tr th:only-of-type {\n",
       "        vertical-align: middle;\n",
       "    }\n",
       "\n",
       "    .dataframe tbody tr th {\n",
       "        vertical-align: top;\n",
       "    }\n",
       "\n",
       "    .dataframe thead th {\n",
       "        text-align: right;\n",
       "    }\n",
       "</style>\n",
       "<table border=\"1\" class=\"dataframe\">\n",
       "  <thead>\n",
       "    <tr style=\"text-align: right;\">\n",
       "      <th></th>\n",
       "      <th>in_reply_to_status_id</th>\n",
       "      <th>in_reply_to_user_id</th>\n",
       "      <th>timestamp</th>\n",
       "      <th>source</th>\n",
       "      <th>text</th>\n",
       "      <th>retweeted_status_id</th>\n",
       "      <th>retweeted_status_user_id</th>\n",
       "      <th>retweeted_status_timestamp</th>\n",
       "      <th>expanded_urls</th>\n",
       "      <th>rating_numerator</th>\n",
       "      <th>rating_denominator</th>\n",
       "      <th>name</th>\n",
       "      <th>doggo</th>\n",
       "      <th>floofer</th>\n",
       "      <th>pupper</th>\n",
       "      <th>puppo</th>\n",
       "    </tr>\n",
       "    <tr>\n",
       "      <th>tweet_id</th>\n",
       "      <th></th>\n",
       "      <th></th>\n",
       "      <th></th>\n",
       "      <th></th>\n",
       "      <th></th>\n",
       "      <th></th>\n",
       "      <th></th>\n",
       "      <th></th>\n",
       "      <th></th>\n",
       "      <th></th>\n",
       "      <th></th>\n",
       "      <th></th>\n",
       "      <th></th>\n",
       "      <th></th>\n",
       "      <th></th>\n",
       "      <th></th>\n",
       "    </tr>\n",
       "  </thead>\n",
       "  <tbody>\n",
       "    <tr>\n",
       "      <th>691090071332753408</th>\n",
       "      <td>NaN</td>\n",
       "      <td>NaN</td>\n",
       "      <td>2016-01-24 02:48:07 +0000</td>\n",
       "      <td>&lt;a href=\"http://twitter.com/download/iphone\" rel=\"nofollow\"&gt;Twitter for iPhone&lt;/a&gt;</td>\n",
       "      <td>Happy Saturday here's a dog in a mailbox. 12/10 https://t.co/MM7tb4HpEY</td>\n",
       "      <td>NaN</td>\n",
       "      <td>NaN</td>\n",
       "      <td>NaN</td>\n",
       "      <td>https://twitter.com/dog_rates/status/691090071332753408/photo/1</td>\n",
       "      <td>12</td>\n",
       "      <td>10</td>\n",
       "      <td>None</td>\n",
       "      <td>None</td>\n",
       "      <td>None</td>\n",
       "      <td>None</td>\n",
       "      <td>None</td>\n",
       "    </tr>\n",
       "    <tr>\n",
       "      <th>699423671849451520</th>\n",
       "      <td>NaN</td>\n",
       "      <td>NaN</td>\n",
       "      <td>2016-02-16 02:42:52 +0000</td>\n",
       "      <td>&lt;a href=\"http://twitter.com/download/iphone\" rel=\"nofollow\"&gt;Twitter for iPhone&lt;/a&gt;</td>\n",
       "      <td>\"Don't ever talk to me or my son again.\" ...both 10/10 https://t.co/b8ncwl6TlE</td>\n",
       "      <td>NaN</td>\n",
       "      <td>NaN</td>\n",
       "      <td>NaN</td>\n",
       "      <td>https://twitter.com/dog_rates/status/699423671849451520/photo/1</td>\n",
       "      <td>10</td>\n",
       "      <td>10</td>\n",
       "      <td>None</td>\n",
       "      <td>None</td>\n",
       "      <td>None</td>\n",
       "      <td>None</td>\n",
       "      <td>None</td>\n",
       "    </tr>\n",
       "    <tr>\n",
       "      <th>756303284449767430</th>\n",
       "      <td>NaN</td>\n",
       "      <td>NaN</td>\n",
       "      <td>2016-07-22 01:42:09 +0000</td>\n",
       "      <td>&lt;a href=\"http://twitter.com/download/iphone\" rel=\"nofollow\"&gt;Twitter for iPhone&lt;/a&gt;</td>\n",
       "      <td>Pwease accept dis rose on behalf of dog. 11/10 https://t.co/az5BVcIV5I</td>\n",
       "      <td>NaN</td>\n",
       "      <td>NaN</td>\n",
       "      <td>NaN</td>\n",
       "      <td>https://twitter.com/dog_rates/status/756303284449767430/photo/1</td>\n",
       "      <td>11</td>\n",
       "      <td>10</td>\n",
       "      <td>None</td>\n",
       "      <td>None</td>\n",
       "      <td>None</td>\n",
       "      <td>None</td>\n",
       "      <td>None</td>\n",
       "    </tr>\n",
       "  </tbody>\n",
       "</table>\n",
       "</div>"
      ],
      "text/plain": [
       "                    in_reply_to_status_id  in_reply_to_user_id  \\\n",
       "tweet_id                                                         \n",
       "691090071332753408 NaN                    NaN                    \n",
       "699423671849451520 NaN                    NaN                    \n",
       "756303284449767430 NaN                    NaN                    \n",
       "\n",
       "                                    timestamp  \\\n",
       "tweet_id                                        \n",
       "691090071332753408  2016-01-24 02:48:07 +0000   \n",
       "699423671849451520  2016-02-16 02:42:52 +0000   \n",
       "756303284449767430  2016-07-22 01:42:09 +0000   \n",
       "\n",
       "                                                                                                source  \\\n",
       "tweet_id                                                                                                 \n",
       "691090071332753408  <a href=\"http://twitter.com/download/iphone\" rel=\"nofollow\">Twitter for iPhone</a>   \n",
       "699423671849451520  <a href=\"http://twitter.com/download/iphone\" rel=\"nofollow\">Twitter for iPhone</a>   \n",
       "756303284449767430  <a href=\"http://twitter.com/download/iphone\" rel=\"nofollow\">Twitter for iPhone</a>   \n",
       "\n",
       "                                                                                              text  \\\n",
       "tweet_id                                                                                             \n",
       "691090071332753408  Happy Saturday here's a dog in a mailbox. 12/10 https://t.co/MM7tb4HpEY          \n",
       "699423671849451520  \"Don't ever talk to me or my son again.\" ...both 10/10 https://t.co/b8ncwl6TlE   \n",
       "756303284449767430  Pwease accept dis rose on behalf of dog. 11/10 https://t.co/az5BVcIV5I           \n",
       "\n",
       "                    retweeted_status_id  retweeted_status_user_id  \\\n",
       "tweet_id                                                            \n",
       "691090071332753408 NaN                  NaN                         \n",
       "699423671849451520 NaN                  NaN                         \n",
       "756303284449767430 NaN                  NaN                         \n",
       "\n",
       "                   retweeted_status_timestamp  \\\n",
       "tweet_id                                        \n",
       "691090071332753408  NaN                         \n",
       "699423671849451520  NaN                         \n",
       "756303284449767430  NaN                         \n",
       "\n",
       "                                                                      expanded_urls  \\\n",
       "tweet_id                                                                              \n",
       "691090071332753408  https://twitter.com/dog_rates/status/691090071332753408/photo/1   \n",
       "699423671849451520  https://twitter.com/dog_rates/status/699423671849451520/photo/1   \n",
       "756303284449767430  https://twitter.com/dog_rates/status/756303284449767430/photo/1   \n",
       "\n",
       "                    rating_numerator  rating_denominator  name doggo floofer  \\\n",
       "tweet_id                                                                       \n",
       "691090071332753408  12                10                  None  None  None     \n",
       "699423671849451520  10                10                  None  None  None     \n",
       "756303284449767430  11                10                  None  None  None     \n",
       "\n",
       "                   pupper puppo  \n",
       "tweet_id                         \n",
       "691090071332753408  None   None  \n",
       "699423671849451520  None   None  \n",
       "756303284449767430  None   None  "
      ]
     },
     "execution_count": 5,
     "metadata": {},
     "output_type": "execute_result"
    }
   ],
   "source": [
    "# display sample of data\n",
    "twitter_arch.sample(3)"
   ]
  },
  {
   "cell_type": "code",
   "execution_count": 6,
   "metadata": {},
   "outputs": [
    {
     "name": "stdout",
     "output_type": "stream",
     "text": [
      "<class 'pandas.core.frame.DataFrame'>\n",
      "Int64Index: 2356 entries, 892420643555336193 to 666020888022790149\n",
      "Data columns (total 16 columns):\n",
      "in_reply_to_status_id         78 non-null float64\n",
      "in_reply_to_user_id           78 non-null float64\n",
      "timestamp                     2356 non-null object\n",
      "source                        2356 non-null object\n",
      "text                          2356 non-null object\n",
      "retweeted_status_id           181 non-null float64\n",
      "retweeted_status_user_id      181 non-null float64\n",
      "retweeted_status_timestamp    181 non-null object\n",
      "expanded_urls                 2297 non-null object\n",
      "rating_numerator              2356 non-null int64\n",
      "rating_denominator            2356 non-null int64\n",
      "name                          2356 non-null object\n",
      "doggo                         2356 non-null object\n",
      "floofer                       2356 non-null object\n",
      "pupper                        2356 non-null object\n",
      "puppo                         2356 non-null object\n",
      "dtypes: float64(4), int64(2), object(10)\n",
      "memory usage: 312.9+ KB\n"
     ]
    }
   ],
   "source": [
    "# print a summary of a DataFrame\n",
    "twitter_arch.info()"
   ]
  },
  {
   "cell_type": "code",
   "execution_count": 7,
   "metadata": {},
   "outputs": [
    {
     "data": {
      "text/plain": [
       "True"
      ]
     },
     "execution_count": 7,
     "metadata": {},
     "output_type": "execute_result"
    }
   ],
   "source": [
    "# check if ids are unique\n",
    "twitter_arch.index.is_unique"
   ]
  },
  {
   "cell_type": "code",
   "execution_count": 8,
   "metadata": {},
   "outputs": [
    {
     "data": {
      "text/plain": [
       "78"
      ]
     },
     "execution_count": 8,
     "metadata": {},
     "output_type": "execute_result"
    }
   ],
   "source": [
    "# check number of replies\n",
    "np.isfinite(twitter_arch.in_reply_to_status_id).sum()"
   ]
  },
  {
   "cell_type": "code",
   "execution_count": 9,
   "metadata": {},
   "outputs": [
    {
     "data": {
      "text/plain": [
       "<a href=\"http://twitter.com/download/iphone\" rel=\"nofollow\">Twitter for iPhone</a>     2221\n",
       "<a href=\"http://vine.co\" rel=\"nofollow\">Vine - Make a Scene</a>                        91  \n",
       "<a href=\"http://twitter.com\" rel=\"nofollow\">Twitter Web Client</a>                     33  \n",
       "<a href=\"https://about.twitter.com/products/tweetdeck\" rel=\"nofollow\">TweetDeck</a>    11  \n",
       "Name: source, dtype: int64"
      ]
     },
     "execution_count": 9,
     "metadata": {},
     "output_type": "execute_result"
    }
   ],
   "source": [
    "# check values in sources\n",
    "twitter_arch.source.value_counts()"
   ]
  },
  {
   "cell_type": "code",
   "execution_count": 10,
   "metadata": {},
   "outputs": [
    {
     "data": {
      "text/plain": [
       "tweet_id\n",
       "708479650088034305    Meet Bear. He's a Beneboop Cumberclap. Extremely unamused. 13/10 I'm in love with this picture https://t.co/uC8kUqAz0W                      \n",
       "668142349051129856    This lil pup is Oliver. Hops around. Has wings but doesn't fly (lame). Annoying chirp. Won't catch tennis balls 2/10 https://t.co/DnhUw0aBM2\n",
       "683481228088049664    Meet Banjo. He's a Peppercorn Shoop Da Whoop. Nails look lethal. Skeptical of luminescent orb 11/10 stay woke pupper https://t.co/H7NZFumpKq\n",
       "Name: text, dtype: object"
      ]
     },
     "execution_count": 10,
     "metadata": {},
     "output_type": "execute_result"
    }
   ],
   "source": [
    "# check quality of text\n",
    "twitter_arch.text.sample(3)"
   ]
  },
  {
   "cell_type": "code",
   "execution_count": 11,
   "metadata": {},
   "outputs": [
    {
     "data": {
      "text/plain": [
       "181"
      ]
     },
     "execution_count": 11,
     "metadata": {},
     "output_type": "execute_result"
    }
   ],
   "source": [
    "# check number of retweets\n",
    "np.isfinite(twitter_arch.retweeted_status_id).sum()"
   ]
  },
  {
   "cell_type": "code",
   "execution_count": 12,
   "metadata": {},
   "outputs": [
    {
     "data": {
      "text/html": [
       "<div>\n",
       "<style scoped>\n",
       "    .dataframe tbody tr th:only-of-type {\n",
       "        vertical-align: middle;\n",
       "    }\n",
       "\n",
       "    .dataframe tbody tr th {\n",
       "        vertical-align: top;\n",
       "    }\n",
       "\n",
       "    .dataframe thead th {\n",
       "        text-align: right;\n",
       "    }\n",
       "</style>\n",
       "<table border=\"1\" class=\"dataframe\">\n",
       "  <thead>\n",
       "    <tr style=\"text-align: right;\">\n",
       "      <th></th>\n",
       "      <th>text</th>\n",
       "      <th>expanded_urls</th>\n",
       "    </tr>\n",
       "    <tr>\n",
       "      <th>tweet_id</th>\n",
       "      <th></th>\n",
       "      <th></th>\n",
       "    </tr>\n",
       "  </thead>\n",
       "  <tbody>\n",
       "    <tr>\n",
       "      <th>811647686436880384</th>\n",
       "      <td>PUPDATE: I've been informed that Augie was actually bringing his family these flowers when he tripped. Very good boy. Pupgraded to 11/10</td>\n",
       "      <td>NaN</td>\n",
       "    </tr>\n",
       "    <tr>\n",
       "      <th>825120256414846976</th>\n",
       "      <td>RT @dog_rates: Say hello to Pablo. He's one gorgeous puppo. A true 12/10. Click the link to see why Pablo requests your assistance\\n\\nhttps:/…</td>\n",
       "      <td>https://www.gofundme.com/my-puppys-double-cataract-surgery,https://twitter.com/dog_rates/status/825026590719483904/photo/1,https://twitter.com/dog_rates/status/825026590719483904/photo/1</td>\n",
       "    </tr>\n",
       "    <tr>\n",
       "      <th>817415592588222464</th>\n",
       "      <td>Meet Strudel. He's rather h*ckin pupset that your clothes clash. 11/10 click the link to see how u can help Strudel\\n\\nhttps://t.co/3uxgLz8d0l https://t.co/O0ECL1StB2</td>\n",
       "      <td>https://www.gofundme.com/help-strudel-walk-again?rcid=ec2be8b6f825461f8ee0fd5dcdf43fea,https://twitter.com/dog_rates/status/817415592588222464/photo/1</td>\n",
       "    </tr>\n",
       "  </tbody>\n",
       "</table>\n",
       "</div>"
      ],
      "text/plain": [
       "                                                                                                                                                                                      text  \\\n",
       "tweet_id                                                                                                                                                                                     \n",
       "811647686436880384  PUPDATE: I've been informed that Augie was actually bringing his family these flowers when he tripped. Very good boy. Pupgraded to 11/10                                 \n",
       "825120256414846976  RT @dog_rates: Say hello to Pablo. He's one gorgeous puppo. A true 12/10. Click the link to see why Pablo requests your assistance\\n\\nhttps:/…                           \n",
       "817415592588222464  Meet Strudel. He's rather h*ckin pupset that your clothes clash. 11/10 click the link to see how u can help Strudel\\n\\nhttps://t.co/3uxgLz8d0l https://t.co/O0ECL1StB2   \n",
       "\n",
       "                                                                                                                                                                                                 expanded_urls  \n",
       "tweet_id                                                                                                                                                                                                        \n",
       "811647686436880384  NaN                                                                                                                                                                                         \n",
       "825120256414846976  https://www.gofundme.com/my-puppys-double-cataract-surgery,https://twitter.com/dog_rates/status/825026590719483904/photo/1,https://twitter.com/dog_rates/status/825026590719483904/photo/1  \n",
       "817415592588222464  https://www.gofundme.com/help-strudel-walk-again?rcid=ec2be8b6f825461f8ee0fd5dcdf43fea,https://twitter.com/dog_rates/status/817415592588222464/photo/1                                      "
      ]
     },
     "execution_count": 12,
     "metadata": {},
     "output_type": "execute_result"
    }
   ],
   "source": [
    "# check expanded urls\n",
    "twitter_arch[~twitter_arch.expanded_urls.str.startswith(('https://twitter.com','http://twitter.com', 'https://vine.co'), na=False)].sample(3)[['text','expanded_urls']]"
   ]
  },
  {
   "cell_type": "code",
   "execution_count": 13,
   "metadata": {},
   "outputs": [
    {
     "data": {
      "text/plain": [
       "639"
      ]
     },
     "execution_count": 13,
     "metadata": {},
     "output_type": "execute_result"
    }
   ],
   "source": [
    "# check for two or more urls in the expanded urls\n",
    "twitter_arch[twitter_arch.expanded_urls.str.contains(',', na = False)].expanded_urls.count()"
   ]
  },
  {
   "cell_type": "code",
   "execution_count": 14,
   "metadata": {},
   "outputs": [
    {
     "data": {
      "text/plain": [
       "10     2333\n",
       "11     3   \n",
       "50     3   \n",
       "80     2   \n",
       "20     2   \n",
       "2      1   \n",
       "16     1   \n",
       "40     1   \n",
       "70     1   \n",
       "15     1   \n",
       "90     1   \n",
       "110    1   \n",
       "120    1   \n",
       "130    1   \n",
       "150    1   \n",
       "170    1   \n",
       "7      1   \n",
       "0      1   \n",
       "Name: rating_denominator, dtype: int64"
      ]
     },
     "execution_count": 14,
     "metadata": {},
     "output_type": "execute_result"
    }
   ],
   "source": [
    "# check rating denominator\n",
    "twitter_arch.rating_denominator.value_counts()"
   ]
  },
  {
   "cell_type": "code",
   "execution_count": 15,
   "metadata": {},
   "outputs": [
    {
     "data": {
      "text/html": [
       "<div>\n",
       "<style scoped>\n",
       "    .dataframe tbody tr th:only-of-type {\n",
       "        vertical-align: middle;\n",
       "    }\n",
       "\n",
       "    .dataframe tbody tr th {\n",
       "        vertical-align: top;\n",
       "    }\n",
       "\n",
       "    .dataframe thead th {\n",
       "        text-align: right;\n",
       "    }\n",
       "</style>\n",
       "<table border=\"1\" class=\"dataframe\">\n",
       "  <thead>\n",
       "    <tr style=\"text-align: right;\">\n",
       "      <th></th>\n",
       "      <th>text</th>\n",
       "      <th>rating_denominator</th>\n",
       "    </tr>\n",
       "    <tr>\n",
       "      <th>tweet_id</th>\n",
       "      <th></th>\n",
       "      <th></th>\n",
       "    </tr>\n",
       "  </thead>\n",
       "  <tbody>\n",
       "    <tr>\n",
       "      <th>832088576586297345</th>\n",
       "      <td>@docmisterio account started on 11/15/15</td>\n",
       "      <td>15</td>\n",
       "    </tr>\n",
       "    <tr>\n",
       "      <th>820690176645140481</th>\n",
       "      <td>The floofs have been released I repeat the floofs have been released. 84/70 https://t.co/NIYC820tmd</td>\n",
       "      <td>70</td>\n",
       "    </tr>\n",
       "    <tr>\n",
       "      <th>775096608509886464</th>\n",
       "      <td>RT @dog_rates: After so many requests, this is Bretagne. She was the last surviving 9/11 search dog, and our second ever 14/10. RIP https:/…</td>\n",
       "      <td>11</td>\n",
       "    </tr>\n",
       "    <tr>\n",
       "      <th>758467244762497024</th>\n",
       "      <td>Why does this never happen at my front door... 165/150 https://t.co/HmwrdfEfUE</td>\n",
       "      <td>150</td>\n",
       "    </tr>\n",
       "    <tr>\n",
       "      <th>740373189193256964</th>\n",
       "      <td>After so many requests, this is Bretagne. She was the last surviving 9/11 search dog, and our second ever 14/10. RIP https://t.co/XAVDNDaVgQ</td>\n",
       "      <td>11</td>\n",
       "    </tr>\n",
       "    <tr>\n",
       "      <th>731156023742988288</th>\n",
       "      <td>Say hello to this unbelievably well behaved squad of doggos. 204/170 would try to pet all at once https://t.co/yGQI3He3xv</td>\n",
       "      <td>170</td>\n",
       "    </tr>\n",
       "    <tr>\n",
       "      <th>722974582966214656</th>\n",
       "      <td>Happy 4/20 from the squad! 13/10 for all https://t.co/eV1diwds8a</td>\n",
       "      <td>20</td>\n",
       "    </tr>\n",
       "    <tr>\n",
       "      <th>716439118184652801</th>\n",
       "      <td>This is Bluebert. He just saw that both #FinalFur match ups are split 50/50. Amazed af. 11/10 https://t.co/Kky1DPG4iq</td>\n",
       "      <td>50</td>\n",
       "    </tr>\n",
       "    <tr>\n",
       "      <th>713900603437621249</th>\n",
       "      <td>Happy Saturday here's 9 puppers on a bench. 99/90 good work everybody https://t.co/mpvaVxKmc1</td>\n",
       "      <td>90</td>\n",
       "    </tr>\n",
       "    <tr>\n",
       "      <th>710658690886586372</th>\n",
       "      <td>Here's a brigade of puppers. All look very prepared for whatever happens next. 80/80 https://t.co/0eb7R1Om12</td>\n",
       "      <td>80</td>\n",
       "    </tr>\n",
       "    <tr>\n",
       "      <th>709198395643068416</th>\n",
       "      <td>From left to right:\\nCletus, Jerome, Alejandro, Burp, &amp;amp; Titson\\nNone know where camera is. 45/50 would hug all at once https://t.co/sedre1ivTK</td>\n",
       "      <td>50</td>\n",
       "    </tr>\n",
       "    <tr>\n",
       "      <th>704054845121142784</th>\n",
       "      <td>Here is a whole flock of puppers.  60/50 I'll take the lot https://t.co/9dpcw6MdWa</td>\n",
       "      <td>50</td>\n",
       "    </tr>\n",
       "    <tr>\n",
       "      <th>697463031882764288</th>\n",
       "      <td>Happy Wednesday here's a bucket of pups. 44/40 would pet all at once https://t.co/HppvrYuamZ</td>\n",
       "      <td>40</td>\n",
       "    </tr>\n",
       "    <tr>\n",
       "      <th>686035780142297088</th>\n",
       "      <td>Yes I do realize a rating of 4/20 would've been fitting. However, it would be unjust to give these cooperative pups that low of a rating</td>\n",
       "      <td>20</td>\n",
       "    </tr>\n",
       "    <tr>\n",
       "      <th>684225744407494656</th>\n",
       "      <td>Two sneaky puppers were not initially seen, moving the rating to 143/130. Please forgive us. Thank you https://t.co/kRK51Y5ac3</td>\n",
       "      <td>130</td>\n",
       "    </tr>\n",
       "    <tr>\n",
       "      <th>684222868335505415</th>\n",
       "      <td>Someone help the girl is being mugged. Several are distracting her while two steal her shoes. Clever puppers 121/110 https://t.co/1zfnTJLt55</td>\n",
       "      <td>110</td>\n",
       "    </tr>\n",
       "    <tr>\n",
       "      <th>682962037429899265</th>\n",
       "      <td>This is Darrel. He just robbed a 7/11 and is in a high speed police chase. Was just spotted by the helicopter 10/10 https://t.co/7EsP8LmSp5</td>\n",
       "      <td>11</td>\n",
       "    </tr>\n",
       "    <tr>\n",
       "      <th>682808988178739200</th>\n",
       "      <td>I'm aware that I could've said 20/16, but here at WeRateDogs we are very professional. An inconsistent rating scale is simply irresponsible</td>\n",
       "      <td>16</td>\n",
       "    </tr>\n",
       "    <tr>\n",
       "      <th>677716515794329600</th>\n",
       "      <td>IT'S PUPPERGEDDON. Total of 144/120 ...I think https://t.co/ZanVtAtvIq</td>\n",
       "      <td>120</td>\n",
       "    </tr>\n",
       "    <tr>\n",
       "      <th>675853064436391936</th>\n",
       "      <td>Here we have an entire platoon of puppers. Total score: 88/80 would pet all at once https://t.co/y93p6FLvVw</td>\n",
       "      <td>80</td>\n",
       "    </tr>\n",
       "  </tbody>\n",
       "</table>\n",
       "</div>"
      ],
      "text/plain": [
       "                                                                                                                                                                  text  \\\n",
       "tweet_id                                                                                                                                                                 \n",
       "832088576586297345  @docmisterio account started on 11/15/15                                                                                                             \n",
       "820690176645140481  The floofs have been released I repeat the floofs have been released. 84/70 https://t.co/NIYC820tmd                                                  \n",
       "775096608509886464  RT @dog_rates: After so many requests, this is Bretagne. She was the last surviving 9/11 search dog, and our second ever 14/10. RIP https:/…         \n",
       "758467244762497024  Why does this never happen at my front door... 165/150 https://t.co/HmwrdfEfUE                                                                       \n",
       "740373189193256964  After so many requests, this is Bretagne. She was the last surviving 9/11 search dog, and our second ever 14/10. RIP https://t.co/XAVDNDaVgQ         \n",
       "731156023742988288  Say hello to this unbelievably well behaved squad of doggos. 204/170 would try to pet all at once https://t.co/yGQI3He3xv                            \n",
       "722974582966214656  Happy 4/20 from the squad! 13/10 for all https://t.co/eV1diwds8a                                                                                     \n",
       "716439118184652801  This is Bluebert. He just saw that both #FinalFur match ups are split 50/50. Amazed af. 11/10 https://t.co/Kky1DPG4iq                                \n",
       "713900603437621249  Happy Saturday here's 9 puppers on a bench. 99/90 good work everybody https://t.co/mpvaVxKmc1                                                        \n",
       "710658690886586372  Here's a brigade of puppers. All look very prepared for whatever happens next. 80/80 https://t.co/0eb7R1Om12                                         \n",
       "709198395643068416  From left to right:\\nCletus, Jerome, Alejandro, Burp, &amp; Titson\\nNone know where camera is. 45/50 would hug all at once https://t.co/sedre1ivTK   \n",
       "704054845121142784  Here is a whole flock of puppers.  60/50 I'll take the lot https://t.co/9dpcw6MdWa                                                                   \n",
       "697463031882764288  Happy Wednesday here's a bucket of pups. 44/40 would pet all at once https://t.co/HppvrYuamZ                                                         \n",
       "686035780142297088  Yes I do realize a rating of 4/20 would've been fitting. However, it would be unjust to give these cooperative pups that low of a rating             \n",
       "684225744407494656  Two sneaky puppers were not initially seen, moving the rating to 143/130. Please forgive us. Thank you https://t.co/kRK51Y5ac3                       \n",
       "684222868335505415  Someone help the girl is being mugged. Several are distracting her while two steal her shoes. Clever puppers 121/110 https://t.co/1zfnTJLt55         \n",
       "682962037429899265  This is Darrel. He just robbed a 7/11 and is in a high speed police chase. Was just spotted by the helicopter 10/10 https://t.co/7EsP8LmSp5          \n",
       "682808988178739200  I'm aware that I could've said 20/16, but here at WeRateDogs we are very professional. An inconsistent rating scale is simply irresponsible          \n",
       "677716515794329600  IT'S PUPPERGEDDON. Total of 144/120 ...I think https://t.co/ZanVtAtvIq                                                                               \n",
       "675853064436391936  Here we have an entire platoon of puppers. Total score: 88/80 would pet all at once https://t.co/y93p6FLvVw                                          \n",
       "\n",
       "                    rating_denominator  \n",
       "tweet_id                                \n",
       "832088576586297345  15                  \n",
       "820690176645140481  70                  \n",
       "775096608509886464  11                  \n",
       "758467244762497024  150                 \n",
       "740373189193256964  11                  \n",
       "731156023742988288  170                 \n",
       "722974582966214656  20                  \n",
       "716439118184652801  50                  \n",
       "713900603437621249  90                  \n",
       "710658690886586372  80                  \n",
       "709198395643068416  50                  \n",
       "704054845121142784  50                  \n",
       "697463031882764288  40                  \n",
       "686035780142297088  20                  \n",
       "684225744407494656  130                 \n",
       "684222868335505415  110                 \n",
       "682962037429899265  11                  \n",
       "682808988178739200  16                  \n",
       "677716515794329600  120                 \n",
       "675853064436391936  80                  "
      ]
     },
     "execution_count": 15,
     "metadata": {},
     "output_type": "execute_result"
    }
   ],
   "source": [
    "# check ratings with denominator greather than 10\n",
    "twitter_arch[twitter_arch.rating_denominator > 10][['text', 'rating_denominator']]"
   ]
  },
  {
   "cell_type": "code",
   "execution_count": 16,
   "metadata": {},
   "outputs": [
    {
     "data": {
      "text/plain": [
       "12      558\n",
       "11      464\n",
       "10      461\n",
       "13      351\n",
       "9       158\n",
       "8       102\n",
       "7       55 \n",
       "14      54 \n",
       "5       37 \n",
       "6       32 \n",
       "3       19 \n",
       "4       17 \n",
       "1       9  \n",
       "2       9  \n",
       "420     2  \n",
       "0       2  \n",
       "15      2  \n",
       "75      2  \n",
       "80      1  \n",
       "20      1  \n",
       "24      1  \n",
       "26      1  \n",
       "44      1  \n",
       "50      1  \n",
       "60      1  \n",
       "165     1  \n",
       "84      1  \n",
       "88      1  \n",
       "144     1  \n",
       "182     1  \n",
       "143     1  \n",
       "666     1  \n",
       "960     1  \n",
       "1776    1  \n",
       "17      1  \n",
       "27      1  \n",
       "45      1  \n",
       "99      1  \n",
       "121     1  \n",
       "204     1  \n",
       "Name: rating_numerator, dtype: int64"
      ]
     },
     "execution_count": 16,
     "metadata": {},
     "output_type": "execute_result"
    }
   ],
   "source": [
    "# check rating numerator\n",
    "twitter_arch.rating_numerator.value_counts()"
   ]
  },
  {
   "cell_type": "code",
   "execution_count": 17,
   "metadata": {},
   "outputs": [
    {
     "data": {
      "text/html": [
       "<div>\n",
       "<style scoped>\n",
       "    .dataframe tbody tr th:only-of-type {\n",
       "        vertical-align: middle;\n",
       "    }\n",
       "\n",
       "    .dataframe tbody tr th {\n",
       "        vertical-align: top;\n",
       "    }\n",
       "\n",
       "    .dataframe thead th {\n",
       "        text-align: right;\n",
       "    }\n",
       "</style>\n",
       "<table border=\"1\" class=\"dataframe\">\n",
       "  <thead>\n",
       "    <tr style=\"text-align: right;\">\n",
       "      <th></th>\n",
       "      <th>text</th>\n",
       "      <th>rating_denominator</th>\n",
       "      <th>rating_numerator</th>\n",
       "    </tr>\n",
       "    <tr>\n",
       "      <th>tweet_id</th>\n",
       "      <th></th>\n",
       "      <th></th>\n",
       "      <th></th>\n",
       "    </tr>\n",
       "  </thead>\n",
       "  <tbody>\n",
       "    <tr>\n",
       "      <th>883482846933004288</th>\n",
       "      <td>This is Bella. She hopes her smile made you smile. If not, she is also offering you her favorite monkey. 13.5/10 https://t.co/qjrljjt948</td>\n",
       "      <td>10</td>\n",
       "      <td>5</td>\n",
       "    </tr>\n",
       "    <tr>\n",
       "      <th>832215909146226688</th>\n",
       "      <td>RT @dog_rates: This is Logan, the Chow who lived. He solemnly swears he's up to lots of good. H*ckin magical af 9.75/10 https://t.co/yBO5wu…</td>\n",
       "      <td>10</td>\n",
       "      <td>75</td>\n",
       "    </tr>\n",
       "    <tr>\n",
       "      <th>786709082849828864</th>\n",
       "      <td>This is Logan, the Chow who lived. He solemnly swears he's up to lots of good. H*ckin magical af 9.75/10 https://t.co/yBO5wuqaPS</td>\n",
       "      <td>10</td>\n",
       "      <td>75</td>\n",
       "    </tr>\n",
       "    <tr>\n",
       "      <th>778027034220126208</th>\n",
       "      <td>This is Sophie. She's a Jubilant Bush Pupper. Super h*ckin rare. Appears at random just to smile at the locals. 11.27/10 would smile back https://t.co/QFaUiIHxHq</td>\n",
       "      <td>10</td>\n",
       "      <td>27</td>\n",
       "    </tr>\n",
       "    <tr>\n",
       "      <th>681340665377193984</th>\n",
       "      <td>I've been told there's a slight possibility he's checking his mirror. We'll bump to 9.5/10. Still a menace</td>\n",
       "      <td>10</td>\n",
       "      <td>5</td>\n",
       "    </tr>\n",
       "    <tr>\n",
       "      <th>680494726643068929</th>\n",
       "      <td>Here we have uncovered an entire battalion of holiday puppers. Average of 11.26/10 https://t.co/eNm2S6p9BD</td>\n",
       "      <td>10</td>\n",
       "      <td>26</td>\n",
       "    </tr>\n",
       "  </tbody>\n",
       "</table>\n",
       "</div>"
      ],
      "text/plain": [
       "                                                                                                                                                                                 text  \\\n",
       "tweet_id                                                                                                                                                                                \n",
       "883482846933004288  This is Bella. She hopes her smile made you smile. If not, she is also offering you her favorite monkey. 13.5/10 https://t.co/qjrljjt948                            \n",
       "832215909146226688  RT @dog_rates: This is Logan, the Chow who lived. He solemnly swears he's up to lots of good. H*ckin magical af 9.75/10 https://t.co/yBO5wu…                        \n",
       "786709082849828864  This is Logan, the Chow who lived. He solemnly swears he's up to lots of good. H*ckin magical af 9.75/10 https://t.co/yBO5wuqaPS                                    \n",
       "778027034220126208  This is Sophie. She's a Jubilant Bush Pupper. Super h*ckin rare. Appears at random just to smile at the locals. 11.27/10 would smile back https://t.co/QFaUiIHxHq   \n",
       "681340665377193984  I've been told there's a slight possibility he's checking his mirror. We'll bump to 9.5/10. Still a menace                                                          \n",
       "680494726643068929  Here we have uncovered an entire battalion of holiday puppers. Average of 11.26/10 https://t.co/eNm2S6p9BD                                                          \n",
       "\n",
       "                    rating_denominator  rating_numerator  \n",
       "tweet_id                                                  \n",
       "883482846933004288  10                  5                 \n",
       "832215909146226688  10                  75                \n",
       "786709082849828864  10                  75                \n",
       "778027034220126208  10                  27                \n",
       "681340665377193984  10                  5                 \n",
       "680494726643068929  10                  26                "
      ]
     },
     "execution_count": 17,
     "metadata": {},
     "output_type": "execute_result"
    }
   ],
   "source": [
    "# check for any float ratings in the text column\n",
    "twitter_arch[twitter_arch.text.str.contains(r'\\d+\\.\\d+\\/\\d+')][['text','rating_denominator', 'rating_numerator']]"
   ]
  },
  {
   "cell_type": "code",
   "execution_count": 18,
   "metadata": {},
   "outputs": [
    {
     "data": {
      "text/plain": [
       "None        745\n",
       "a           55 \n",
       "Charlie     12 \n",
       "Lucy        11 \n",
       "Oliver      11 \n",
       "Cooper      11 \n",
       "Penny       10 \n",
       "Tucker      10 \n",
       "Lola        10 \n",
       "Winston     9  \n",
       "Bo          9  \n",
       "Sadie       8  \n",
       "the         8  \n",
       "Bailey      7  \n",
       "Buddy       7  \n",
       "an          7  \n",
       "Toby        7  \n",
       "Daisy       7  \n",
       "Rusty       6  \n",
       "Stanley     6  \n",
       "Scout       6  \n",
       "Bella       6  \n",
       "Dave        6  \n",
       "Jack        6  \n",
       "Milo        6  \n",
       "Oscar       6  \n",
       "Koda        6  \n",
       "Jax         6  \n",
       "Leo         6  \n",
       "Sunny       5  \n",
       "           ..  \n",
       "Tilly       1  \n",
       "Edd         1  \n",
       "Champ       1  \n",
       "Aldrick     1  \n",
       "Jessiga     1  \n",
       "Bobbay      1  \n",
       "Nigel       1  \n",
       "Tug         1  \n",
       "Liam        1  \n",
       "Ralf        1  \n",
       "Sundance    1  \n",
       "Lipton      1  \n",
       "Gustav      1  \n",
       "Dutch       1  \n",
       "General     1  \n",
       "Fletcher    1  \n",
       "Clifford    1  \n",
       "Ralphy      1  \n",
       "Emanuel     1  \n",
       "Sandra      1  \n",
       "Superpup    1  \n",
       "Leonard     1  \n",
       "Franq       1  \n",
       "Tycho       1  \n",
       "Kallie      1  \n",
       "Jameson     1  \n",
       "Winifred    1  \n",
       "Chuck       1  \n",
       "Henry       1  \n",
       "Eriq        1  \n",
       "Name: name, Length: 957, dtype: int64"
      ]
     },
     "execution_count": 18,
     "metadata": {},
     "output_type": "execute_result"
    }
   ],
   "source": [
    "# check name of dog\n",
    "twitter_arch.name.value_counts()"
   ]
  },
  {
   "cell_type": "code",
   "execution_count": 19,
   "metadata": {},
   "outputs": [
    {
     "name": "stdout",
     "output_type": "stream",
     "text": [
      "Rows with stop words: 83\n"
     ]
    }
   ],
   "source": [
    "# check for stop words in dog name\n",
    "# https://stackoverflow.com/a/5486535/7382214\n",
    "stop_words = set(get_stop_words('en'))\n",
    "\n",
    "count = 0\n",
    "for word in twitter_arch.name:\n",
    "    if word.lower() in stop_words:\n",
    "        count += 1\n",
    "print('Rows with stop words:', count)"
   ]
  },
  {
   "cell_type": "code",
   "execution_count": 20,
   "metadata": {},
   "outputs": [],
   "source": [
    "# check if dogs have more than one category assigned\n",
    "categories = ['doggo', 'floofer', 'pupper', 'puppo']\n",
    "\n",
    "for category in categories:\n",
    "    twitter_arch[category] = twitter_arch[category].apply(lambda x: 0 if x == 'None' else 1)\n",
    "\n",
    "twitter_arch['number_categories'] = twitter_arch.loc[:,categories].sum(axis = 1)"
   ]
  },
  {
   "cell_type": "code",
   "execution_count": 21,
   "metadata": {},
   "outputs": [
    {
     "data": {
      "text/plain": [
       "0    1976\n",
       "1    366 \n",
       "2    14  \n",
       "Name: number_categories, dtype: int64"
      ]
     },
     "execution_count": 21,
     "metadata": {},
     "output_type": "execute_result"
    }
   ],
   "source": [
    "# dogs categories\n",
    "twitter_arch['number_categories'].value_counts()"
   ]
  },
  {
   "cell_type": "markdown",
   "metadata": {},
   "source": [
    "#### Quality & Tidiness Issues\n",
    "\n",
    "- some of the gathered tweets are replies and should be removed;\n",
    "- the timestamp has an incorrect datatype - is an object, should be DateTime;\n",
    "- source is an HTML element - its text should be extracted;\n",
    "- some rows in the text column begin from 'RT @dog_rates:';\n",
    "- some rows in the text column have leading and/or trailing whitespace;\n",
    "- some of the gathered tweets are retweets;\n",
    "- we have 59 missing expanded urls;\n",
    "- we have 639 expanded urls which contain more than one url address;\n",
    "- denominator of some ratings is not 10;\n",
    "- numerator of some ratings is greater than 10 (does not need to be cleaned);\n",
    "- float ratings have been incorrectly read from the text of tweet;\n",
    "- 'None' in the name should be convert to NaN;\n",
    "- we have stop words in the name column;\n",
    "- dog 'stage' classification (doggo, floofer, pupper or puppo) should be one column;\n",
    "- some dogs have more than one category assigned;"
   ]
  },
  {
   "cell_type": "markdown",
   "metadata": {},
   "source": [
    "### Assess: Image Predictions"
   ]
  },
  {
   "cell_type": "code",
   "execution_count": 22,
   "metadata": {},
   "outputs": [
    {
     "data": {
      "text/html": [
       "<div>\n",
       "<style scoped>\n",
       "    .dataframe tbody tr th:only-of-type {\n",
       "        vertical-align: middle;\n",
       "    }\n",
       "\n",
       "    .dataframe tbody tr th {\n",
       "        vertical-align: top;\n",
       "    }\n",
       "\n",
       "    .dataframe thead th {\n",
       "        text-align: right;\n",
       "    }\n",
       "</style>\n",
       "<table border=\"1\" class=\"dataframe\">\n",
       "  <thead>\n",
       "    <tr style=\"text-align: right;\">\n",
       "      <th></th>\n",
       "      <th>jpg_url</th>\n",
       "      <th>img_num</th>\n",
       "      <th>p1</th>\n",
       "      <th>p1_conf</th>\n",
       "      <th>p1_dog</th>\n",
       "      <th>p2</th>\n",
       "      <th>p2_conf</th>\n",
       "      <th>p2_dog</th>\n",
       "      <th>p3</th>\n",
       "      <th>p3_conf</th>\n",
       "      <th>p3_dog</th>\n",
       "    </tr>\n",
       "    <tr>\n",
       "      <th>tweet_id</th>\n",
       "      <th></th>\n",
       "      <th></th>\n",
       "      <th></th>\n",
       "      <th></th>\n",
       "      <th></th>\n",
       "      <th></th>\n",
       "      <th></th>\n",
       "      <th></th>\n",
       "      <th></th>\n",
       "      <th></th>\n",
       "      <th></th>\n",
       "    </tr>\n",
       "  </thead>\n",
       "  <tbody>\n",
       "    <tr>\n",
       "      <th>674767892831932416</th>\n",
       "      <td>https://pbs.twimg.com/media/CV1B0WkWwAEBKVx.jpg</td>\n",
       "      <td>1</td>\n",
       "      <td>shower_curtain</td>\n",
       "      <td>0.238855</td>\n",
       "      <td>False</td>\n",
       "      <td>sarong</td>\n",
       "      <td>0.092414</td>\n",
       "      <td>False</td>\n",
       "      <td>kimono</td>\n",
       "      <td>0.056412</td>\n",
       "      <td>False</td>\n",
       "    </tr>\n",
       "    <tr>\n",
       "      <th>670807719151067136</th>\n",
       "      <td>https://pbs.twimg.com/media/CU8v-rdXIAId12Z.jpg</td>\n",
       "      <td>1</td>\n",
       "      <td>Old_English_sheepdog</td>\n",
       "      <td>0.958035</td>\n",
       "      <td>True</td>\n",
       "      <td>Sealyham_terrier</td>\n",
       "      <td>0.013892</td>\n",
       "      <td>True</td>\n",
       "      <td>Border_collie</td>\n",
       "      <td>0.004601</td>\n",
       "      <td>True</td>\n",
       "    </tr>\n",
       "    <tr>\n",
       "      <th>669327207240699904</th>\n",
       "      <td>https://pbs.twimg.com/media/CUntin8WIAADmLk.jpg</td>\n",
       "      <td>1</td>\n",
       "      <td>golden_retriever</td>\n",
       "      <td>0.919584</td>\n",
       "      <td>True</td>\n",
       "      <td>Labrador_retriever</td>\n",
       "      <td>0.049669</td>\n",
       "      <td>True</td>\n",
       "      <td>kuvasz</td>\n",
       "      <td>0.010216</td>\n",
       "      <td>True</td>\n",
       "    </tr>\n",
       "  </tbody>\n",
       "</table>\n",
       "</div>"
      ],
      "text/plain": [
       "                                                            jpg_url  img_num  \\\n",
       "tweet_id                                                                       \n",
       "674767892831932416  https://pbs.twimg.com/media/CV1B0WkWwAEBKVx.jpg  1         \n",
       "670807719151067136  https://pbs.twimg.com/media/CU8v-rdXIAId12Z.jpg  1         \n",
       "669327207240699904  https://pbs.twimg.com/media/CUntin8WIAADmLk.jpg  1         \n",
       "\n",
       "                                      p1   p1_conf  p1_dog  \\\n",
       "tweet_id                                                     \n",
       "674767892831932416  shower_curtain        0.238855  False    \n",
       "670807719151067136  Old_English_sheepdog  0.958035  True     \n",
       "669327207240699904  golden_retriever      0.919584  True     \n",
       "\n",
       "                                    p2   p2_conf  p2_dog             p3  \\\n",
       "tweet_id                                                                  \n",
       "674767892831932416  sarong              0.092414  False   kimono          \n",
       "670807719151067136  Sealyham_terrier    0.013892  True    Border_collie   \n",
       "669327207240699904  Labrador_retriever  0.049669  True    kuvasz          \n",
       "\n",
       "                     p3_conf  p3_dog  \n",
       "tweet_id                              \n",
       "674767892831932416  0.056412  False   \n",
       "670807719151067136  0.004601  True    \n",
       "669327207240699904  0.010216  True    "
      ]
     },
     "execution_count": 22,
     "metadata": {},
     "output_type": "execute_result"
    }
   ],
   "source": [
    "# display sample of data\n",
    "image_pred.sample(3)"
   ]
  },
  {
   "cell_type": "code",
   "execution_count": 23,
   "metadata": {},
   "outputs": [
    {
     "name": "stdout",
     "output_type": "stream",
     "text": [
      "<class 'pandas.core.frame.DataFrame'>\n",
      "Int64Index: 2075 entries, 666020888022790149 to 892420643555336193\n",
      "Data columns (total 11 columns):\n",
      "jpg_url    2075 non-null object\n",
      "img_num    2075 non-null int64\n",
      "p1         2075 non-null object\n",
      "p1_conf    2075 non-null float64\n",
      "p1_dog     2075 non-null bool\n",
      "p2         2075 non-null object\n",
      "p2_conf    2075 non-null float64\n",
      "p2_dog     2075 non-null bool\n",
      "p3         2075 non-null object\n",
      "p3_conf    2075 non-null float64\n",
      "p3_dog     2075 non-null bool\n",
      "dtypes: bool(3), float64(3), int64(1), object(4)\n",
      "memory usage: 152.0+ KB\n"
     ]
    }
   ],
   "source": [
    "# print a summary of a DataFrame\n",
    "image_pred.info()"
   ]
  },
  {
   "cell_type": "code",
   "execution_count": 24,
   "metadata": {},
   "outputs": [
    {
     "data": {
      "text/plain": [
       "True"
      ]
     },
     "execution_count": 24,
     "metadata": {},
     "output_type": "execute_result"
    }
   ],
   "source": [
    "# check if ids are unique\n",
    "image_pred.index.is_unique"
   ]
  },
  {
   "cell_type": "code",
   "execution_count": 25,
   "metadata": {},
   "outputs": [
    {
     "data": {
      "text/plain": [
       "0"
      ]
     },
     "execution_count": 25,
     "metadata": {},
     "output_type": "execute_result"
    }
   ],
   "source": [
    "# check jpg_url\n",
    "image_pred[~image_pred.jpg_url.str.endswith(('.jpg', '.png'), na = False)].jpg_url.count()"
   ]
  },
  {
   "cell_type": "code",
   "execution_count": 26,
   "metadata": {},
   "outputs": [
    {
     "data": {
      "text/plain": [
       "1    1780\n",
       "2    198 \n",
       "3    66  \n",
       "4    31  \n",
       "Name: img_num, dtype: int64"
      ]
     },
     "execution_count": 26,
     "metadata": {},
     "output_type": "execute_result"
    }
   ],
   "source": [
    "# check image number\n",
    "image_pred.img_num.value_counts()"
   ]
  },
  {
   "cell_type": "code",
   "execution_count": 27,
   "metadata": {},
   "outputs": [
    {
     "data": {
      "text/plain": [
       "tweet_id\n",
       "838083903487373313    chow   \n",
       "794926597468000259    teddy  \n",
       "675047298674663426    Samoyed\n",
       "Name: p1, dtype: object"
      ]
     },
     "execution_count": 27,
     "metadata": {},
     "output_type": "execute_result"
    }
   ],
   "source": [
    "# check 1st prediction\n",
    "image_pred.p1.sample(3)"
   ]
  },
  {
   "cell_type": "code",
   "execution_count": 28,
   "metadata": {},
   "outputs": [
    {
     "data": {
      "text/plain": [
       "2075"
      ]
     },
     "execution_count": 28,
     "metadata": {},
     "output_type": "execute_result"
    }
   ],
   "source": [
    "# check dog predictions\n",
    "image_pred.p1_dog.count()"
   ]
  },
  {
   "cell_type": "markdown",
   "metadata": {},
   "source": [
    "#### Quality & Tidiness Issues\n",
    "\n",
    "- the dataset has 2075 entries, while twitter archive dataset has 2356 entries;\n",
    "- column names are confusing and do not give much information about the content;\n",
    "- dog breeds contain underscores, and have different case formatting;\n",
    "- only 2075 images have been classified as dog images for top prediction;\n",
    "- dataset should be merged with the twitter archive dataset;"
   ]
  },
  {
   "cell_type": "markdown",
   "metadata": {},
   "source": [
    "### Assess: Twitter API Data"
   ]
  },
  {
   "cell_type": "code",
   "execution_count": 29,
   "metadata": {},
   "outputs": [
    {
     "data": {
      "text/html": [
       "<div>\n",
       "<style scoped>\n",
       "    .dataframe tbody tr th:only-of-type {\n",
       "        vertical-align: middle;\n",
       "    }\n",
       "\n",
       "    .dataframe tbody tr th {\n",
       "        vertical-align: top;\n",
       "    }\n",
       "\n",
       "    .dataframe thead th {\n",
       "        text-align: right;\n",
       "    }\n",
       "</style>\n",
       "<table border=\"1\" class=\"dataframe\">\n",
       "  <thead>\n",
       "    <tr style=\"text-align: right;\">\n",
       "      <th></th>\n",
       "      <th>favorites</th>\n",
       "      <th>retweets</th>\n",
       "    </tr>\n",
       "    <tr>\n",
       "      <th>tweet_id</th>\n",
       "      <th></th>\n",
       "      <th></th>\n",
       "    </tr>\n",
       "  </thead>\n",
       "  <tbody>\n",
       "    <tr>\n",
       "      <th>771136648247640064</th>\n",
       "      <td>10223</td>\n",
       "      <td>3357</td>\n",
       "    </tr>\n",
       "    <tr>\n",
       "      <th>676776431406465024</th>\n",
       "      <td>5405</td>\n",
       "      <td>2249</td>\n",
       "    </tr>\n",
       "    <tr>\n",
       "      <th>671518598289059840</th>\n",
       "      <td>1010</td>\n",
       "      <td>319</td>\n",
       "    </tr>\n",
       "  </tbody>\n",
       "</table>\n",
       "</div>"
      ],
      "text/plain": [
       "                    favorites  retweets\n",
       "tweet_id                               \n",
       "771136648247640064  10223      3357    \n",
       "676776431406465024  5405       2249    \n",
       "671518598289059840  1010       319     "
      ]
     },
     "execution_count": 29,
     "metadata": {},
     "output_type": "execute_result"
    }
   ],
   "source": [
    "# display sample of data\n",
    "twitter_api.sample(3)"
   ]
  },
  {
   "cell_type": "code",
   "execution_count": 30,
   "metadata": {},
   "outputs": [
    {
     "name": "stdout",
     "output_type": "stream",
     "text": [
      "<class 'pandas.core.frame.DataFrame'>\n",
      "Int64Index: 2354 entries, 892420643555336193 to 666020888022790149\n",
      "Data columns (total 2 columns):\n",
      "favorites    2354 non-null int64\n",
      "retweets     2354 non-null int64\n",
      "dtypes: int64(2)\n",
      "memory usage: 55.2 KB\n"
     ]
    }
   ],
   "source": [
    "# print a summary of a DataFrame\n",
    "twitter_api.info()"
   ]
  },
  {
   "cell_type": "code",
   "execution_count": 31,
   "metadata": {},
   "outputs": [
    {
     "data": {
      "text/plain": [
       "True"
      ]
     },
     "execution_count": 31,
     "metadata": {},
     "output_type": "execute_result"
    }
   ],
   "source": [
    "# check if ids are unique\n",
    "twitter_arch.index.is_unique"
   ]
  },
  {
   "cell_type": "markdown",
   "metadata": {},
   "source": [
    "#### Quality & Tidiness Issues\n",
    "\n",
    "- twitter archive dataset has 2356 entries, while twitter API data has 2354;\n",
    "- dataset should be merged with the twitter archive dataset;"
   ]
  },
  {
   "cell_type": "markdown",
   "metadata": {},
   "source": [
    "## Cleaning Data\n",
    "\n",
    "Using pandas, clean the quality and tidiness issues identified in the [Assessing Data](#Assessing-Data) section.\n",
    "\n",
    "<hr>\n",
    "\n",
    "* [Twitter Archive Data](#Clean:-Twitter-Archive-Data)  \n",
    "* [Image Predictions](#Clean:-Image-Predictions)  \n",
    "* [Twitter API Data](#Clean:-Twitter-API-Data)\n",
    "* [Merge Datasets](#Merge-Datasets)"
   ]
  },
  {
   "cell_type": "markdown",
   "metadata": {},
   "source": [
    "### Clean: Twitter Archive Data"
   ]
  },
  {
   "cell_type": "code",
   "execution_count": 32,
   "metadata": {},
   "outputs": [],
   "source": [
    "# create a copy of dataset\n",
    "twitter_arch_clean = twitter_arch.copy()"
   ]
  },
  {
   "cell_type": "code",
   "execution_count": 33,
   "metadata": {},
   "outputs": [
    {
     "data": {
      "text/html": [
       "<div>\n",
       "<style scoped>\n",
       "    .dataframe tbody tr th:only-of-type {\n",
       "        vertical-align: middle;\n",
       "    }\n",
       "\n",
       "    .dataframe tbody tr th {\n",
       "        vertical-align: top;\n",
       "    }\n",
       "\n",
       "    .dataframe thead th {\n",
       "        text-align: right;\n",
       "    }\n",
       "</style>\n",
       "<table border=\"1\" class=\"dataframe\">\n",
       "  <thead>\n",
       "    <tr style=\"text-align: right;\">\n",
       "      <th></th>\n",
       "      <th>in_reply_to_status_id</th>\n",
       "      <th>in_reply_to_user_id</th>\n",
       "      <th>timestamp</th>\n",
       "      <th>source</th>\n",
       "      <th>text</th>\n",
       "      <th>retweeted_status_id</th>\n",
       "      <th>retweeted_status_user_id</th>\n",
       "      <th>retweeted_status_timestamp</th>\n",
       "      <th>expanded_urls</th>\n",
       "      <th>rating_numerator</th>\n",
       "      <th>rating_denominator</th>\n",
       "      <th>name</th>\n",
       "      <th>doggo</th>\n",
       "      <th>floofer</th>\n",
       "      <th>pupper</th>\n",
       "      <th>puppo</th>\n",
       "      <th>number_categories</th>\n",
       "    </tr>\n",
       "    <tr>\n",
       "      <th>tweet_id</th>\n",
       "      <th></th>\n",
       "      <th></th>\n",
       "      <th></th>\n",
       "      <th></th>\n",
       "      <th></th>\n",
       "      <th></th>\n",
       "      <th></th>\n",
       "      <th></th>\n",
       "      <th></th>\n",
       "      <th></th>\n",
       "      <th></th>\n",
       "      <th></th>\n",
       "      <th></th>\n",
       "      <th></th>\n",
       "      <th></th>\n",
       "      <th></th>\n",
       "      <th></th>\n",
       "    </tr>\n",
       "  </thead>\n",
       "  <tbody>\n",
       "    <tr>\n",
       "      <th>885518971528720385</th>\n",
       "      <td>NaN</td>\n",
       "      <td>NaN</td>\n",
       "      <td>2017-07-13 15:19:09 +0000</td>\n",
       "      <td>&lt;a href=\"http://twitter.com/download/iphone\" rel=\"nofollow\"&gt;Twitter for iPhone&lt;/a&gt;</td>\n",
       "      <td>I have a new hero and his name is Howard. 14/10 https://t.co/gzLHboL7Sk</td>\n",
       "      <td>NaN</td>\n",
       "      <td>NaN</td>\n",
       "      <td>NaN</td>\n",
       "      <td>https://twitter.com/4bonds2carbon/status/885517367337512960</td>\n",
       "      <td>14</td>\n",
       "      <td>10</td>\n",
       "      <td>None</td>\n",
       "      <td>0</td>\n",
       "      <td>0</td>\n",
       "      <td>0</td>\n",
       "      <td>0</td>\n",
       "      <td>0</td>\n",
       "    </tr>\n",
       "    <tr>\n",
       "      <th>719367763014393856</th>\n",
       "      <td>NaN</td>\n",
       "      <td>NaN</td>\n",
       "      <td>2016-04-11 03:33:34 +0000</td>\n",
       "      <td>&lt;a href=\"http://twitter.com/download/iphone\" rel=\"nofollow\"&gt;Twitter for iPhone&lt;/a&gt;</td>\n",
       "      <td>Meet Sid &amp;amp; Murphy. Murphy floats alongside Sid and whispers motivational quotes in his ear. Magical af. Both 11/10 https://t.co/7mmjyearQW</td>\n",
       "      <td>NaN</td>\n",
       "      <td>NaN</td>\n",
       "      <td>NaN</td>\n",
       "      <td>https://twitter.com/dog_rates/status/719367763014393856/photo/1</td>\n",
       "      <td>11</td>\n",
       "      <td>10</td>\n",
       "      <td>Sid</td>\n",
       "      <td>0</td>\n",
       "      <td>0</td>\n",
       "      <td>0</td>\n",
       "      <td>0</td>\n",
       "      <td>0</td>\n",
       "    </tr>\n",
       "    <tr>\n",
       "      <th>780601303617732608</th>\n",
       "      <td>NaN</td>\n",
       "      <td>NaN</td>\n",
       "      <td>2016-09-27 02:53:48 +0000</td>\n",
       "      <td>&lt;a href=\"http://twitter.com/download/iphone\" rel=\"nofollow\"&gt;Twitter for iPhone&lt;/a&gt;</td>\n",
       "      <td>Meet Hercules. He can have whatever he wants for the rest of eternity. 12/10 would snug passionately https://t.co/mH0IOyFdIG</td>\n",
       "      <td>NaN</td>\n",
       "      <td>NaN</td>\n",
       "      <td>NaN</td>\n",
       "      <td>https://twitter.com/dog_rates/status/780601303617732608/photo/1</td>\n",
       "      <td>12</td>\n",
       "      <td>10</td>\n",
       "      <td>Hercules</td>\n",
       "      <td>0</td>\n",
       "      <td>0</td>\n",
       "      <td>0</td>\n",
       "      <td>0</td>\n",
       "      <td>0</td>\n",
       "    </tr>\n",
       "  </tbody>\n",
       "</table>\n",
       "</div>"
      ],
      "text/plain": [
       "                    in_reply_to_status_id  in_reply_to_user_id  \\\n",
       "tweet_id                                                         \n",
       "885518971528720385 NaN                    NaN                    \n",
       "719367763014393856 NaN                    NaN                    \n",
       "780601303617732608 NaN                    NaN                    \n",
       "\n",
       "                                    timestamp  \\\n",
       "tweet_id                                        \n",
       "885518971528720385  2017-07-13 15:19:09 +0000   \n",
       "719367763014393856  2016-04-11 03:33:34 +0000   \n",
       "780601303617732608  2016-09-27 02:53:48 +0000   \n",
       "\n",
       "                                                                                                source  \\\n",
       "tweet_id                                                                                                 \n",
       "885518971528720385  <a href=\"http://twitter.com/download/iphone\" rel=\"nofollow\">Twitter for iPhone</a>   \n",
       "719367763014393856  <a href=\"http://twitter.com/download/iphone\" rel=\"nofollow\">Twitter for iPhone</a>   \n",
       "780601303617732608  <a href=\"http://twitter.com/download/iphone\" rel=\"nofollow\">Twitter for iPhone</a>   \n",
       "\n",
       "                                                                                                                                                              text  \\\n",
       "tweet_id                                                                                                                                                             \n",
       "885518971528720385  I have a new hero and his name is Howard. 14/10 https://t.co/gzLHboL7Sk                                                                          \n",
       "719367763014393856  Meet Sid &amp; Murphy. Murphy floats alongside Sid and whispers motivational quotes in his ear. Magical af. Both 11/10 https://t.co/7mmjyearQW   \n",
       "780601303617732608  Meet Hercules. He can have whatever he wants for the rest of eternity. 12/10 would snug passionately https://t.co/mH0IOyFdIG                     \n",
       "\n",
       "                    retweeted_status_id  retweeted_status_user_id  \\\n",
       "tweet_id                                                            \n",
       "885518971528720385 NaN                  NaN                         \n",
       "719367763014393856 NaN                  NaN                         \n",
       "780601303617732608 NaN                  NaN                         \n",
       "\n",
       "                   retweeted_status_timestamp  \\\n",
       "tweet_id                                        \n",
       "885518971528720385  NaN                         \n",
       "719367763014393856  NaN                         \n",
       "780601303617732608  NaN                         \n",
       "\n",
       "                                                                      expanded_urls  \\\n",
       "tweet_id                                                                              \n",
       "885518971528720385  https://twitter.com/4bonds2carbon/status/885517367337512960       \n",
       "719367763014393856  https://twitter.com/dog_rates/status/719367763014393856/photo/1   \n",
       "780601303617732608  https://twitter.com/dog_rates/status/780601303617732608/photo/1   \n",
       "\n",
       "                    rating_numerator  rating_denominator      name  doggo  \\\n",
       "tweet_id                                                                    \n",
       "885518971528720385  14                10                  None      0       \n",
       "719367763014393856  11                10                  Sid       0       \n",
       "780601303617732608  12                10                  Hercules  0       \n",
       "\n",
       "                    floofer  pupper  puppo  number_categories  \n",
       "tweet_id                                                       \n",
       "885518971528720385  0        0       0      0                  \n",
       "719367763014393856  0        0       0      0                  \n",
       "780601303617732608  0        0       0      0                  "
      ]
     },
     "execution_count": 33,
     "metadata": {},
     "output_type": "execute_result"
    }
   ],
   "source": [
    "# display sample of data\n",
    "twitter_arch_clean.sample(3)"
   ]
  },
  {
   "cell_type": "markdown",
   "metadata": {},
   "source": [
    "#### Define\n",
    "\n",
    "Some of the gathered tweets are replies and retweets\n",
    "- remove retweets data from the dataset\n",
    "- remove columns with retweet and replies information\n",
    "\n",
    "#### Code"
   ]
  },
  {
   "cell_type": "code",
   "execution_count": 34,
   "metadata": {},
   "outputs": [
    {
     "data": {
      "text/plain": [
       "(2356, 17)"
      ]
     },
     "execution_count": 34,
     "metadata": {},
     "output_type": "execute_result"
    }
   ],
   "source": [
    "# display shape of dataframe\n",
    "twitter_arch_clean.shape"
   ]
  },
  {
   "cell_type": "code",
   "execution_count": 35,
   "metadata": {},
   "outputs": [],
   "source": [
    "# drop retweets                                                 \n",
    "twitter_arch_clean = twitter_arch_clean[twitter_arch_clean['retweeted_status_id'].isnull()]"
   ]
  },
  {
   "cell_type": "code",
   "execution_count": 36,
   "metadata": {},
   "outputs": [
    {
     "data": {
      "text/plain": [
       "Index(['in_reply_to_status_id', 'in_reply_to_user_id', 'timestamp', 'source',\n",
       "       'text', 'retweeted_status_id', 'retweeted_status_user_id',\n",
       "       'retweeted_status_timestamp', 'expanded_urls', 'rating_numerator',\n",
       "       'rating_denominator', 'name', 'doggo', 'floofer', 'pupper', 'puppo',\n",
       "       'number_categories'],\n",
       "      dtype='object')"
      ]
     },
     "execution_count": 36,
     "metadata": {},
     "output_type": "execute_result"
    }
   ],
   "source": [
    "# display all columns\n",
    "twitter_arch_clean.columns"
   ]
  },
  {
   "cell_type": "code",
   "execution_count": 37,
   "metadata": {},
   "outputs": [],
   "source": [
    "# drop unnecessary columns\n",
    "twitter_arch_clean.drop(['in_reply_to_status_id','in_reply_to_user_id','retweeted_status_id',\n",
    "           'retweeted_status_user_id','retweeted_status_timestamp'], axis = 1, inplace = True)"
   ]
  },
  {
   "cell_type": "code",
   "execution_count": 38,
   "metadata": {},
   "outputs": [
    {
     "data": {
      "text/plain": [
       "(2175, 12)"
      ]
     },
     "execution_count": 38,
     "metadata": {},
     "output_type": "execute_result"
    }
   ],
   "source": [
    "# display shape of dataframe\n",
    "twitter_arch_clean.shape"
   ]
  },
  {
   "cell_type": "code",
   "execution_count": 39,
   "metadata": {},
   "outputs": [
    {
     "data": {
      "text/html": [
       "<div>\n",
       "<style scoped>\n",
       "    .dataframe tbody tr th:only-of-type {\n",
       "        vertical-align: middle;\n",
       "    }\n",
       "\n",
       "    .dataframe tbody tr th {\n",
       "        vertical-align: top;\n",
       "    }\n",
       "\n",
       "    .dataframe thead th {\n",
       "        text-align: right;\n",
       "    }\n",
       "</style>\n",
       "<table border=\"1\" class=\"dataframe\">\n",
       "  <thead>\n",
       "    <tr style=\"text-align: right;\">\n",
       "      <th></th>\n",
       "      <th>timestamp</th>\n",
       "      <th>source</th>\n",
       "      <th>text</th>\n",
       "      <th>expanded_urls</th>\n",
       "      <th>rating_numerator</th>\n",
       "      <th>rating_denominator</th>\n",
       "      <th>name</th>\n",
       "      <th>doggo</th>\n",
       "      <th>floofer</th>\n",
       "      <th>pupper</th>\n",
       "      <th>puppo</th>\n",
       "      <th>number_categories</th>\n",
       "    </tr>\n",
       "    <tr>\n",
       "      <th>tweet_id</th>\n",
       "      <th></th>\n",
       "      <th></th>\n",
       "      <th></th>\n",
       "      <th></th>\n",
       "      <th></th>\n",
       "      <th></th>\n",
       "      <th></th>\n",
       "      <th></th>\n",
       "      <th></th>\n",
       "      <th></th>\n",
       "      <th></th>\n",
       "      <th></th>\n",
       "    </tr>\n",
       "  </thead>\n",
       "  <tbody>\n",
       "    <tr>\n",
       "      <th>892420643555336193</th>\n",
       "      <td>2017-08-01 16:23:56 +0000</td>\n",
       "      <td>&lt;a href=\"http://twitter.com/download/iphone\" rel=\"nofollow\"&gt;Twitter for iPhone&lt;/a&gt;</td>\n",
       "      <td>This is Phineas. He's a mystical boy. Only ever appears in the hole of a donut. 13/10 https://t.co/MgUWQ76dJU</td>\n",
       "      <td>https://twitter.com/dog_rates/status/892420643555336193/photo/1</td>\n",
       "      <td>13</td>\n",
       "      <td>10</td>\n",
       "      <td>Phineas</td>\n",
       "      <td>0</td>\n",
       "      <td>0</td>\n",
       "      <td>0</td>\n",
       "      <td>0</td>\n",
       "      <td>0</td>\n",
       "    </tr>\n",
       "    <tr>\n",
       "      <th>739932936087216128</th>\n",
       "      <td>2016-06-06 21:32:13 +0000</td>\n",
       "      <td>&lt;a href=\"http://twitter.com/download/iphone\" rel=\"nofollow\"&gt;Twitter for iPhone&lt;/a&gt;</td>\n",
       "      <td>Say hello to Rorie. She's zen af. Just enjoying a treat in the sunlight. 10/10 would immediately trade lives with https://t.co/yctnFptdQ1</td>\n",
       "      <td>https://twitter.com/dog_rates/status/739932936087216128/photo/1</td>\n",
       "      <td>10</td>\n",
       "      <td>10</td>\n",
       "      <td>Rorie</td>\n",
       "      <td>0</td>\n",
       "      <td>0</td>\n",
       "      <td>0</td>\n",
       "      <td>0</td>\n",
       "      <td>0</td>\n",
       "    </tr>\n",
       "    <tr>\n",
       "      <th>855860136149123072</th>\n",
       "      <td>2017-04-22 19:05:32 +0000</td>\n",
       "      <td>&lt;a href=\"http://twitter.com/download/iphone\" rel=\"nofollow\"&gt;Twitter for iPhone&lt;/a&gt;</td>\n",
       "      <td>@s8n You tried very hard to portray this good boy as not so good, but you have ultimately failed. His goodness shines through. 666/10</td>\n",
       "      <td>NaN</td>\n",
       "      <td>666</td>\n",
       "      <td>10</td>\n",
       "      <td>None</td>\n",
       "      <td>0</td>\n",
       "      <td>0</td>\n",
       "      <td>0</td>\n",
       "      <td>0</td>\n",
       "      <td>0</td>\n",
       "    </tr>\n",
       "  </tbody>\n",
       "</table>\n",
       "</div>"
      ],
      "text/plain": [
       "                                    timestamp  \\\n",
       "tweet_id                                        \n",
       "892420643555336193  2017-08-01 16:23:56 +0000   \n",
       "739932936087216128  2016-06-06 21:32:13 +0000   \n",
       "855860136149123072  2017-04-22 19:05:32 +0000   \n",
       "\n",
       "                                                                                                source  \\\n",
       "tweet_id                                                                                                 \n",
       "892420643555336193  <a href=\"http://twitter.com/download/iphone\" rel=\"nofollow\">Twitter for iPhone</a>   \n",
       "739932936087216128  <a href=\"http://twitter.com/download/iphone\" rel=\"nofollow\">Twitter for iPhone</a>   \n",
       "855860136149123072  <a href=\"http://twitter.com/download/iphone\" rel=\"nofollow\">Twitter for iPhone</a>   \n",
       "\n",
       "                                                                                                                                                         text  \\\n",
       "tweet_id                                                                                                                                                        \n",
       "892420643555336193  This is Phineas. He's a mystical boy. Only ever appears in the hole of a donut. 13/10 https://t.co/MgUWQ76dJU                               \n",
       "739932936087216128  Say hello to Rorie. She's zen af. Just enjoying a treat in the sunlight. 10/10 would immediately trade lives with https://t.co/yctnFptdQ1   \n",
       "855860136149123072  @s8n You tried very hard to portray this good boy as not so good, but you have ultimately failed. His goodness shines through. 666/10       \n",
       "\n",
       "                                                                      expanded_urls  \\\n",
       "tweet_id                                                                              \n",
       "892420643555336193  https://twitter.com/dog_rates/status/892420643555336193/photo/1   \n",
       "739932936087216128  https://twitter.com/dog_rates/status/739932936087216128/photo/1   \n",
       "855860136149123072  NaN                                                               \n",
       "\n",
       "                    rating_numerator  rating_denominator     name  doggo  \\\n",
       "tweet_id                                                                   \n",
       "892420643555336193  13                10                  Phineas  0       \n",
       "739932936087216128  10                10                  Rorie    0       \n",
       "855860136149123072  666               10                  None     0       \n",
       "\n",
       "                    floofer  pupper  puppo  number_categories  \n",
       "tweet_id                                                       \n",
       "892420643555336193  0        0       0      0                  \n",
       "739932936087216128  0        0       0      0                  \n",
       "855860136149123072  0        0       0      0                  "
      ]
     },
     "execution_count": 39,
     "metadata": {},
     "output_type": "execute_result"
    }
   ],
   "source": [
    "# display cleaned dataset\n",
    "twitter_arch_clean.sample(3)"
   ]
  },
  {
   "cell_type": "markdown",
   "metadata": {},
   "source": [
    "#### Define\n",
    "\n",
    "The timestamp has an incorrect datatype - is an object, should be DateTime\n",
    "* convert to datetime\n",
    "\n",
    "#### Code"
   ]
  },
  {
   "cell_type": "code",
   "execution_count": 40,
   "metadata": {},
   "outputs": [],
   "source": [
    "# convert to datetime\n",
    "twitter_arch_clean.timestamp = pd.to_datetime(twitter_arch_clean.timestamp)"
   ]
  },
  {
   "cell_type": "code",
   "execution_count": 41,
   "metadata": {},
   "outputs": [
    {
     "name": "stdout",
     "output_type": "stream",
     "text": [
      "<class 'pandas.core.frame.DataFrame'>\n",
      "Int64Index: 2175 entries, 892420643555336193 to 666020888022790149\n",
      "Data columns (total 12 columns):\n",
      "timestamp             2175 non-null datetime64[ns]\n",
      "source                2175 non-null object\n",
      "text                  2175 non-null object\n",
      "expanded_urls         2117 non-null object\n",
      "rating_numerator      2175 non-null int64\n",
      "rating_denominator    2175 non-null int64\n",
      "name                  2175 non-null object\n",
      "doggo                 2175 non-null int64\n",
      "floofer               2175 non-null int64\n",
      "pupper                2175 non-null int64\n",
      "puppo                 2175 non-null int64\n",
      "number_categories     2175 non-null int64\n",
      "dtypes: datetime64[ns](1), int64(7), object(4)\n",
      "memory usage: 220.9+ KB\n"
     ]
    }
   ],
   "source": [
    "# display dataset types\n",
    "twitter_arch_clean.info()"
   ]
  },
  {
   "cell_type": "markdown",
   "metadata": {},
   "source": [
    "#### Define\n",
    "\n",
    "Source is an HTML element - its text should be extracted\n",
    "* extract inner text of the HTML elements\n",
    "\n",
    "#### Code"
   ]
  },
  {
   "cell_type": "code",
   "execution_count": 42,
   "metadata": {},
   "outputs": [],
   "source": [
    "# extract inner text from HTML\n",
    "twitter_arch_clean.source = twitter_arch_clean.source.apply(lambda x: re.findall(r'>(.*)<', x)[0])"
   ]
  },
  {
   "cell_type": "code",
   "execution_count": 43,
   "metadata": {},
   "outputs": [
    {
     "data": {
      "text/plain": [
       "Twitter for iPhone     2042\n",
       "Vine - Make a Scene    91  \n",
       "Twitter Web Client     31  \n",
       "TweetDeck              11  \n",
       "Name: source, dtype: int64"
      ]
     },
     "execution_count": 43,
     "metadata": {},
     "output_type": "execute_result"
    }
   ],
   "source": [
    "# display new source\n",
    "twitter_arch_clean.source.value_counts()"
   ]
  },
  {
   "cell_type": "markdown",
   "metadata": {},
   "source": [
    "#### Define\n",
    "\n",
    "Some rows have leading and/or trailing whitespace:\n",
    "- strip whitespace\n",
    "\n",
    "#### Code"
   ]
  },
  {
   "cell_type": "code",
   "execution_count": 44,
   "metadata": {},
   "outputs": [],
   "source": [
    "# strip leading and trailing space\n",
    "twitter_arch_clean.text = twitter_arch_clean.text.str.strip()"
   ]
  },
  {
   "cell_type": "markdown",
   "metadata": {},
   "source": [
    "#### Define\n",
    "\n",
    "We have 639 expanded urls which contain more than one url address and 59 missing expanded urls\n",
    "- build correct links by using tweet id\n",
    "\n",
    "#### Code"
   ]
  },
  {
   "cell_type": "code",
   "execution_count": 45,
   "metadata": {},
   "outputs": [
    {
     "data": {
      "text/html": [
       "<div>\n",
       "<style scoped>\n",
       "    .dataframe tbody tr th:only-of-type {\n",
       "        vertical-align: middle;\n",
       "    }\n",
       "\n",
       "    .dataframe tbody tr th {\n",
       "        vertical-align: top;\n",
       "    }\n",
       "\n",
       "    .dataframe thead th {\n",
       "        text-align: right;\n",
       "    }\n",
       "</style>\n",
       "<table border=\"1\" class=\"dataframe\">\n",
       "  <thead>\n",
       "    <tr style=\"text-align: right;\">\n",
       "      <th></th>\n",
       "      <th>timestamp</th>\n",
       "      <th>source</th>\n",
       "      <th>text</th>\n",
       "      <th>expanded_urls</th>\n",
       "      <th>rating_numerator</th>\n",
       "      <th>rating_denominator</th>\n",
       "      <th>name</th>\n",
       "      <th>doggo</th>\n",
       "      <th>floofer</th>\n",
       "      <th>pupper</th>\n",
       "      <th>puppo</th>\n",
       "      <th>number_categories</th>\n",
       "    </tr>\n",
       "    <tr>\n",
       "      <th>tweet_id</th>\n",
       "      <th></th>\n",
       "      <th></th>\n",
       "      <th></th>\n",
       "      <th></th>\n",
       "      <th></th>\n",
       "      <th></th>\n",
       "      <th></th>\n",
       "      <th></th>\n",
       "      <th></th>\n",
       "      <th></th>\n",
       "      <th></th>\n",
       "      <th></th>\n",
       "    </tr>\n",
       "  </thead>\n",
       "  <tbody>\n",
       "    <tr>\n",
       "      <th>773547596996571136</th>\n",
       "      <td>2016-09-07 15:44:53</td>\n",
       "      <td>Twitter for iPhone</td>\n",
       "      <td>This is Chelsea. She forgot how to dog. 11/10 get it together pupper https://t.co/nBJ5RE4yHb</td>\n",
       "      <td>https://twitter.com/dog_rates/status/773547596996571136</td>\n",
       "      <td>11</td>\n",
       "      <td>10</td>\n",
       "      <td>Chelsea</td>\n",
       "      <td>0</td>\n",
       "      <td>0</td>\n",
       "      <td>1</td>\n",
       "      <td>0</td>\n",
       "      <td>1</td>\n",
       "    </tr>\n",
       "    <tr>\n",
       "      <th>672995267319328768</th>\n",
       "      <td>2015-12-05 04:25:50</td>\n",
       "      <td>Twitter for iPhone</td>\n",
       "      <td>This is Pumpkin. He can look in two different directions at once. Great with a screwdriver. 8/10 https://t.co/odpuqtz2Fq</td>\n",
       "      <td>https://twitter.com/dog_rates/status/672995267319328768</td>\n",
       "      <td>8</td>\n",
       "      <td>10</td>\n",
       "      <td>Pumpkin</td>\n",
       "      <td>0</td>\n",
       "      <td>0</td>\n",
       "      <td>0</td>\n",
       "      <td>0</td>\n",
       "      <td>0</td>\n",
       "    </tr>\n",
       "    <tr>\n",
       "      <th>819588359383371776</th>\n",
       "      <td>2017-01-12 16:54:26</td>\n",
       "      <td>Twitter for iPhone</td>\n",
       "      <td>This is Jazzy. She just found out that sandwich wasn't for her. Shocked and puppalled. 13/10 deep breaths Jazzy https://t.co/52cItP0vIO</td>\n",
       "      <td>https://twitter.com/dog_rates/status/819588359383371776</td>\n",
       "      <td>13</td>\n",
       "      <td>10</td>\n",
       "      <td>Jazzy</td>\n",
       "      <td>0</td>\n",
       "      <td>0</td>\n",
       "      <td>0</td>\n",
       "      <td>0</td>\n",
       "      <td>0</td>\n",
       "    </tr>\n",
       "  </tbody>\n",
       "</table>\n",
       "</div>"
      ],
      "text/plain": [
       "                             timestamp              source  \\\n",
       "tweet_id                                                     \n",
       "773547596996571136 2016-09-07 15:44:53  Twitter for iPhone   \n",
       "672995267319328768 2015-12-05 04:25:50  Twitter for iPhone   \n",
       "819588359383371776 2017-01-12 16:54:26  Twitter for iPhone   \n",
       "\n",
       "                                                                                                                                                       text  \\\n",
       "tweet_id                                                                                                                                                      \n",
       "773547596996571136  This is Chelsea. She forgot how to dog. 11/10 get it together pupper https://t.co/nBJ5RE4yHb                                              \n",
       "672995267319328768  This is Pumpkin. He can look in two different directions at once. Great with a screwdriver. 8/10 https://t.co/odpuqtz2Fq                  \n",
       "819588359383371776  This is Jazzy. She just found out that sandwich wasn't for her. Shocked and puppalled. 13/10 deep breaths Jazzy https://t.co/52cItP0vIO   \n",
       "\n",
       "                                                              expanded_urls  \\\n",
       "tweet_id                                                                      \n",
       "773547596996571136  https://twitter.com/dog_rates/status/773547596996571136   \n",
       "672995267319328768  https://twitter.com/dog_rates/status/672995267319328768   \n",
       "819588359383371776  https://twitter.com/dog_rates/status/819588359383371776   \n",
       "\n",
       "                    rating_numerator  rating_denominator     name  doggo  \\\n",
       "tweet_id                                                                   \n",
       "773547596996571136  11                10                  Chelsea  0       \n",
       "672995267319328768  8                 10                  Pumpkin  0       \n",
       "819588359383371776  13                10                  Jazzy    0       \n",
       "\n",
       "                    floofer  pupper  puppo  number_categories  \n",
       "tweet_id                                                       \n",
       "773547596996571136  0        1       0      1                  \n",
       "672995267319328768  0        0       0      0                  \n",
       "819588359383371776  0        0       0      0                  "
      ]
     },
     "execution_count": 45,
     "metadata": {},
     "output_type": "execute_result"
    }
   ],
   "source": [
    "# fix expanded urls\n",
    "for index, column in twitter_arch_clean.iterrows():\n",
    "    twitter_arch_clean.loc[index, 'expanded_urls'] = 'https://twitter.com/dog_rates/status/' + str(index)\n",
    "\n",
    "twitter_arch_clean.sample(3)"
   ]
  },
  {
   "cell_type": "markdown",
   "metadata": {},
   "source": [
    "#### Define\n",
    "\n",
    "Float ratings have been incorrectly read from the text of tweet\n",
    "\n",
    "- gather correct rating when rating is a fraction\n",
    "\n",
    "#### Code"
   ]
  },
  {
   "cell_type": "code",
   "execution_count": 46,
   "metadata": {},
   "outputs": [
    {
     "data": {
      "text/html": [
       "<div>\n",
       "<style scoped>\n",
       "    .dataframe tbody tr th:only-of-type {\n",
       "        vertical-align: middle;\n",
       "    }\n",
       "\n",
       "    .dataframe tbody tr th {\n",
       "        vertical-align: top;\n",
       "    }\n",
       "\n",
       "    .dataframe thead th {\n",
       "        text-align: right;\n",
       "    }\n",
       "</style>\n",
       "<table border=\"1\" class=\"dataframe\">\n",
       "  <thead>\n",
       "    <tr style=\"text-align: right;\">\n",
       "      <th></th>\n",
       "      <th>text</th>\n",
       "      <th>rating_denominator</th>\n",
       "      <th>rating_numerator</th>\n",
       "    </tr>\n",
       "    <tr>\n",
       "      <th>tweet_id</th>\n",
       "      <th></th>\n",
       "      <th></th>\n",
       "      <th></th>\n",
       "    </tr>\n",
       "  </thead>\n",
       "  <tbody>\n",
       "    <tr>\n",
       "      <th>778027034220126208</th>\n",
       "      <td>This is Sophie. She's a Jubilant Bush Pupper. Super h*ckin rare. Appears at random just to smile at the locals. 11.27/10 would smile back https://t.co/QFaUiIHxHq</td>\n",
       "      <td>10</td>\n",
       "      <td>27</td>\n",
       "    </tr>\n",
       "  </tbody>\n",
       "</table>\n",
       "</div>"
      ],
      "text/plain": [
       "                                                                                                                                                                                 text  \\\n",
       "tweet_id                                                                                                                                                                                \n",
       "778027034220126208  This is Sophie. She's a Jubilant Bush Pupper. Super h*ckin rare. Appears at random just to smile at the locals. 11.27/10 would smile back https://t.co/QFaUiIHxHq   \n",
       "\n",
       "                    rating_denominator  rating_numerator  \n",
       "tweet_id                                                  \n",
       "778027034220126208  10                  27                "
      ]
     },
     "execution_count": 46,
     "metadata": {},
     "output_type": "execute_result"
    }
   ],
   "source": [
    "# example of tweet with incorrect rating\n",
    "twitter_arch_clean[twitter_arch_clean.text.str.contains(r'\\d+\\.\\d+\\/\\d+')][['text','rating_denominator', 'rating_numerator']].sample(1)"
   ]
  },
  {
   "cell_type": "code",
   "execution_count": 47,
   "metadata": {},
   "outputs": [],
   "source": [
    "# convert both columns to floats\n",
    "twitter_arch_clean['rating_numerator'] = twitter_arch_clean['rating_numerator'].astype(float)\n",
    "twitter_arch_clean['rating_denominator'] = twitter_arch_clean['rating_denominator'].astype(float)\n",
    "\n",
    "# find columns with fractions\n",
    "fraction_ratings = twitter_arch_clean[twitter_arch_clean.text.str.contains(r'\\d+\\.\\d+\\/\\d+', na = False)].index\n",
    "\n",
    "# extract correct rating and replace incorrect one\n",
    "for index in fraction_ratings:\n",
    "    rating = re.search('\\d+\\.\\d+\\/\\d+', twitter_arch_clean.loc[index,:].text).group(0)\n",
    "    twitter_arch_clean.at[index,'rating_numerator'], twitter_arch_clean.at[index,'rating_denominator'] = rating.split('/')"
   ]
  },
  {
   "cell_type": "code",
   "execution_count": 48,
   "metadata": {},
   "outputs": [
    {
     "data": {
      "text/html": [
       "<div>\n",
       "<style scoped>\n",
       "    .dataframe tbody tr th:only-of-type {\n",
       "        vertical-align: middle;\n",
       "    }\n",
       "\n",
       "    .dataframe tbody tr th {\n",
       "        vertical-align: top;\n",
       "    }\n",
       "\n",
       "    .dataframe thead th {\n",
       "        text-align: right;\n",
       "    }\n",
       "</style>\n",
       "<table border=\"1\" class=\"dataframe\">\n",
       "  <thead>\n",
       "    <tr style=\"text-align: right;\">\n",
       "      <th></th>\n",
       "      <th>text</th>\n",
       "      <th>rating_denominator</th>\n",
       "      <th>rating_numerator</th>\n",
       "    </tr>\n",
       "    <tr>\n",
       "      <th>tweet_id</th>\n",
       "      <th></th>\n",
       "      <th></th>\n",
       "      <th></th>\n",
       "    </tr>\n",
       "  </thead>\n",
       "  <tbody>\n",
       "    <tr>\n",
       "      <th>786709082849828864</th>\n",
       "      <td>This is Logan, the Chow who lived. He solemnly swears he's up to lots of good. H*ckin magical af 9.75/10 https://t.co/yBO5wuqaPS</td>\n",
       "      <td>10.0</td>\n",
       "      <td>9.75</td>\n",
       "    </tr>\n",
       "  </tbody>\n",
       "</table>\n",
       "</div>"
      ],
      "text/plain": [
       "                                                                                                                                                text  \\\n",
       "tweet_id                                                                                                                                               \n",
       "786709082849828864  This is Logan, the Chow who lived. He solemnly swears he's up to lots of good. H*ckin magical af 9.75/10 https://t.co/yBO5wuqaPS   \n",
       "\n",
       "                    rating_denominator  rating_numerator  \n",
       "tweet_id                                                  \n",
       "786709082849828864  10.0                9.75              "
      ]
     },
     "execution_count": 48,
     "metadata": {},
     "output_type": "execute_result"
    }
   ],
   "source": [
    "# display sample of fixed data\n",
    "twitter_arch_clean.loc[fraction_ratings,:][['text','rating_denominator', 'rating_numerator']].sample(1)"
   ]
  },
  {
   "cell_type": "markdown",
   "metadata": {},
   "source": [
    "#### Define\n",
    "\n",
    "Denominator of some ratings is not 10. Numerator of some ratings is greater than 10. The fact that the rating numerators are greater than the denominators does not need to be cleaned, however I will introduce a normalized rating which will be easier to plot.\n",
    "\n",
    "- fix incorrectly read ratings\n",
    "- add normalized rating\n",
    "\n",
    "#### Code"
   ]
  },
  {
   "cell_type": "code",
   "execution_count": 49,
   "metadata": {},
   "outputs": [
    {
     "name": "stderr",
     "output_type": "stream",
     "text": [
      "C:\\Users\\StempBar\\AppData\\Local\\Continuum\\anaconda3\\lib\\site-packages\\pandas\\core\\indexing.py:1472: FutureWarning: \n",
      "Passing list-likes to .loc or [] with any missing label will raise\n",
      "KeyError in the future, you can use .reindex() as an alternative.\n",
      "\n",
      "See the documentation here:\n",
      "https://pandas.pydata.org/pandas-docs/stable/indexing.html#deprecate-loc-reindex-listlike\n",
      "  return self._getitem_tuple(key)\n"
     ]
    },
    {
     "data": {
      "text/html": [
       "<div>\n",
       "<style scoped>\n",
       "    .dataframe tbody tr th:only-of-type {\n",
       "        vertical-align: middle;\n",
       "    }\n",
       "\n",
       "    .dataframe tbody tr th {\n",
       "        vertical-align: top;\n",
       "    }\n",
       "\n",
       "    .dataframe thead th {\n",
       "        text-align: right;\n",
       "    }\n",
       "</style>\n",
       "<table border=\"1\" class=\"dataframe\">\n",
       "  <thead>\n",
       "    <tr style=\"text-align: right;\">\n",
       "      <th></th>\n",
       "      <th>text</th>\n",
       "      <th>rating_denominator</th>\n",
       "      <th>rating_numerator</th>\n",
       "    </tr>\n",
       "    <tr>\n",
       "      <th>tweet_id</th>\n",
       "      <th></th>\n",
       "      <th></th>\n",
       "      <th></th>\n",
       "    </tr>\n",
       "  </thead>\n",
       "  <tbody>\n",
       "    <tr>\n",
       "      <th>686035780142297088</th>\n",
       "      <td>Yes I do realize a rating of 4/20 would've been fitting. However, it would be unjust to give these cooperative pups that low of a rating</td>\n",
       "      <td>20.0</td>\n",
       "      <td>4.0</td>\n",
       "    </tr>\n",
       "  </tbody>\n",
       "</table>\n",
       "</div>"
      ],
      "text/plain": [
       "                                                                                                                                                        text  \\\n",
       "tweet_id                                                                                                                                                       \n",
       "686035780142297088  Yes I do realize a rating of 4/20 would've been fitting. However, it would be unjust to give these cooperative pups that low of a rating   \n",
       "\n",
       "                    rating_denominator  rating_numerator  \n",
       "tweet_id                                                  \n",
       "686035780142297088  20.0                4.0               "
      ]
     },
     "execution_count": 49,
     "metadata": {},
     "output_type": "execute_result"
    }
   ],
   "source": [
    "# save index of tweets with denominator greater than 10\n",
    "high_denominator = twitter_arch[twitter_arch.rating_denominator > 10].index\n",
    "\n",
    "# display sample of data with denominator greater than 10\n",
    "twitter_arch_clean.loc[high_denominator,:][['text','rating_denominator', 'rating_numerator']].sample(1)"
   ]
  },
  {
   "cell_type": "code",
   "execution_count": 50,
   "metadata": {},
   "outputs": [],
   "source": [
    "# fix rating manually for tweets for which rating was read incorrectly\n",
    "twitter_arch_clean.loc[832088576586297345, 'rating_denominator'] = 0\n",
    "twitter_arch_clean.loc[832088576586297345, 'rating_numerator'] = 0\n",
    "\n",
    "twitter_arch_clean.loc[775096608509886464, 'rating_denominator'] = 10\n",
    "twitter_arch_clean.loc[775096608509886464, 'rating_numerator'] = 14\n",
    "\n",
    "twitter_arch_clean.loc[740373189193256964, 'rating_denominator'] = 10\n",
    "twitter_arch_clean.loc[740373189193256964, 'rating_numerator'] = 14\n",
    "\n",
    "twitter_arch_clean.loc[722974582966214656, 'rating_denominator'] = 10\n",
    "twitter_arch_clean.loc[722974582966214656, 'rating_numerator'] = 13\n",
    "\n",
    "twitter_arch_clean.loc[716439118184652801, 'rating_denominator'] = 10\n",
    "twitter_arch_clean.loc[716439118184652801, 'rating_numerator'] = 11\n",
    "\n",
    "twitter_arch_clean.loc[682962037429899265, 'rating_denominator'] = 10\n",
    "twitter_arch_clean.loc[682962037429899265, 'rating_numerator'] = 10"
   ]
  },
  {
   "cell_type": "code",
   "execution_count": 51,
   "metadata": {},
   "outputs": [
    {
     "data": {
      "text/html": [
       "<div>\n",
       "<style scoped>\n",
       "    .dataframe tbody tr th:only-of-type {\n",
       "        vertical-align: middle;\n",
       "    }\n",
       "\n",
       "    .dataframe tbody tr th {\n",
       "        vertical-align: top;\n",
       "    }\n",
       "\n",
       "    .dataframe thead th {\n",
       "        text-align: right;\n",
       "    }\n",
       "</style>\n",
       "<table border=\"1\" class=\"dataframe\">\n",
       "  <thead>\n",
       "    <tr style=\"text-align: right;\">\n",
       "      <th></th>\n",
       "      <th>text</th>\n",
       "      <th>rating_denominator</th>\n",
       "      <th>rating_numerator</th>\n",
       "    </tr>\n",
       "    <tr>\n",
       "      <th>tweet_id</th>\n",
       "      <th></th>\n",
       "      <th></th>\n",
       "      <th></th>\n",
       "    </tr>\n",
       "  </thead>\n",
       "  <tbody>\n",
       "    <tr>\n",
       "      <th>684222868335505415</th>\n",
       "      <td>Someone help the girl is being mugged. Several are distracting her while two steal her shoes. Clever puppers 121/110 https://t.co/1zfnTJLt55</td>\n",
       "      <td>110.0</td>\n",
       "      <td>121.0</td>\n",
       "    </tr>\n",
       "  </tbody>\n",
       "</table>\n",
       "</div>"
      ],
      "text/plain": [
       "                                                                                                                                                            text  \\\n",
       "tweet_id                                                                                                                                                           \n",
       "684222868335505415  Someone help the girl is being mugged. Several are distracting her while two steal her shoes. Clever puppers 121/110 https://t.co/1zfnTJLt55   \n",
       "\n",
       "                    rating_denominator  rating_numerator  \n",
       "tweet_id                                                  \n",
       "684222868335505415  110.0               121.0             "
      ]
     },
     "execution_count": 51,
     "metadata": {},
     "output_type": "execute_result"
    }
   ],
   "source": [
    "# display sample of fixed rating\n",
    "twitter_arch_clean.loc[high_denominator,:][['text','rating_denominator', 'rating_numerator']].sample(1)"
   ]
  },
  {
   "cell_type": "code",
   "execution_count": 52,
   "metadata": {},
   "outputs": [],
   "source": [
    "# add normalized rating\n",
    "twitter_arch_clean['rating'] = twitter_arch_clean['rating_numerator'] / twitter_arch_clean['rating_denominator']"
   ]
  },
  {
   "cell_type": "code",
   "execution_count": 53,
   "metadata": {},
   "outputs": [
    {
     "data": {
      "text/html": [
       "<div>\n",
       "<style scoped>\n",
       "    .dataframe tbody tr th:only-of-type {\n",
       "        vertical-align: middle;\n",
       "    }\n",
       "\n",
       "    .dataframe tbody tr th {\n",
       "        vertical-align: top;\n",
       "    }\n",
       "\n",
       "    .dataframe thead th {\n",
       "        text-align: right;\n",
       "    }\n",
       "</style>\n",
       "<table border=\"1\" class=\"dataframe\">\n",
       "  <thead>\n",
       "    <tr style=\"text-align: right;\">\n",
       "      <th></th>\n",
       "      <th>text</th>\n",
       "      <th>rating_denominator</th>\n",
       "      <th>rating_numerator</th>\n",
       "      <th>rating</th>\n",
       "    </tr>\n",
       "    <tr>\n",
       "      <th>tweet_id</th>\n",
       "      <th></th>\n",
       "      <th></th>\n",
       "      <th></th>\n",
       "      <th></th>\n",
       "    </tr>\n",
       "  </thead>\n",
       "  <tbody>\n",
       "    <tr>\n",
       "      <th>707059547140169728</th>\n",
       "      <td>Say hello to Cupcake. She's an Icelandic Dippen Dot. Confused by the oddly geometric lawn pattern. 11/10 https://t.co/D7rorf4YKL</td>\n",
       "      <td>10.0</td>\n",
       "      <td>11.0</td>\n",
       "      <td>1.1</td>\n",
       "    </tr>\n",
       "  </tbody>\n",
       "</table>\n",
       "</div>"
      ],
      "text/plain": [
       "                                                                                                                                                text  \\\n",
       "tweet_id                                                                                                                                               \n",
       "707059547140169728  Say hello to Cupcake. She's an Icelandic Dippen Dot. Confused by the oddly geometric lawn pattern. 11/10 https://t.co/D7rorf4YKL   \n",
       "\n",
       "                    rating_denominator  rating_numerator  rating  \n",
       "tweet_id                                                          \n",
       "707059547140169728  10.0                11.0              1.1     "
      ]
     },
     "execution_count": 53,
     "metadata": {},
     "output_type": "execute_result"
    }
   ],
   "source": [
    "# display sample of data with the new column\n",
    "twitter_arch_clean[['text','rating_denominator', 'rating_numerator', 'rating']].sample(1)"
   ]
  },
  {
   "cell_type": "markdown",
   "metadata": {},
   "source": [
    "#### Define\n",
    "\n",
    "We have stop words in the name column and 'None' values\n",
    "- replace stop words with the correct name\n",
    "- replace None with Nan\n",
    "\n",
    "#### Code"
   ]
  },
  {
   "cell_type": "code",
   "execution_count": 54,
   "metadata": {
    "scrolled": false
   },
   "outputs": [],
   "source": [
    "# adapted from https://stackoverflow.com/a/35976915/7382214\n",
    "\n",
    "# keywords after which a dog name appears in the sentence\n",
    "keywords = ('named', 'This is', 'Say hello to', 'Meet', 'Here we have', 'name is', 'name to')\n",
    "# build regex pattern to find names\n",
    "regex = r\"\\b(?:{})\\b (\\w+)\".format(\"|\".join(keywords))\n",
    "\n",
    "# loop over the rows, and find dog names\n",
    "for index, column in twitter_arch_clean.iterrows():\n",
    "    split_list = re.split(regex, str(twitter_arch_clean.loc[index, 'text']), flags = re.IGNORECASE)\n",
    "    if len(split_list) > 1 and split_list[1] not in stop_words:\n",
    "        twitter_arch_clean.loc[index, 'name'] = split_list[1].title()\n",
    "    else:\n",
    "        twitter_arch_clean.loc[index, 'name'] = np.nan"
   ]
  },
  {
   "cell_type": "markdown",
   "metadata": {},
   "source": [
    "#### Define\n",
    "\n",
    "Dog 'stage' classification (doggo, floofer, pupper or puppo) should be one column. Some dogs have more than one category assigned\n",
    "\n",
    "#### Code"
   ]
  },
  {
   "cell_type": "code",
   "execution_count": 55,
   "metadata": {},
   "outputs": [
    {
     "data": {
      "text/html": [
       "<div>\n",
       "<style scoped>\n",
       "    .dataframe tbody tr th:only-of-type {\n",
       "        vertical-align: middle;\n",
       "    }\n",
       "\n",
       "    .dataframe tbody tr th {\n",
       "        vertical-align: top;\n",
       "    }\n",
       "\n",
       "    .dataframe thead th {\n",
       "        text-align: right;\n",
       "    }\n",
       "</style>\n",
       "<table border=\"1\" class=\"dataframe\">\n",
       "  <thead>\n",
       "    <tr style=\"text-align: right;\">\n",
       "      <th></th>\n",
       "      <th>timestamp</th>\n",
       "      <th>source</th>\n",
       "      <th>text</th>\n",
       "      <th>expanded_urls</th>\n",
       "      <th>rating_numerator</th>\n",
       "      <th>rating_denominator</th>\n",
       "      <th>name</th>\n",
       "      <th>doggo</th>\n",
       "      <th>floofer</th>\n",
       "      <th>pupper</th>\n",
       "      <th>puppo</th>\n",
       "      <th>number_categories</th>\n",
       "      <th>rating</th>\n",
       "    </tr>\n",
       "    <tr>\n",
       "      <th>tweet_id</th>\n",
       "      <th></th>\n",
       "      <th></th>\n",
       "      <th></th>\n",
       "      <th></th>\n",
       "      <th></th>\n",
       "      <th></th>\n",
       "      <th></th>\n",
       "      <th></th>\n",
       "      <th></th>\n",
       "      <th></th>\n",
       "      <th></th>\n",
       "      <th></th>\n",
       "      <th></th>\n",
       "    </tr>\n",
       "  </thead>\n",
       "  <tbody>\n",
       "    <tr>\n",
       "      <th>892420643555336193</th>\n",
       "      <td>2017-08-01 16:23:56</td>\n",
       "      <td>Twitter for iPhone</td>\n",
       "      <td>This is Phineas. He's a mystical boy. Only ever appears in the hole of a donut. 13/10 https://t.co/MgUWQ76dJU</td>\n",
       "      <td>https://twitter.com/dog_rates/status/892420643555336193</td>\n",
       "      <td>13.0</td>\n",
       "      <td>10.0</td>\n",
       "      <td>Phineas</td>\n",
       "      <td>0.0</td>\n",
       "      <td>0.0</td>\n",
       "      <td>0.0</td>\n",
       "      <td>0.0</td>\n",
       "      <td>0.0</td>\n",
       "      <td>1.3</td>\n",
       "    </tr>\n",
       "    <tr>\n",
       "      <th>892177421306343426</th>\n",
       "      <td>2017-08-01 00:17:27</td>\n",
       "      <td>Twitter for iPhone</td>\n",
       "      <td>This is Tilly. She's just checking pup on you. Hopes you're doing ok. If not, she's available for pats, snugs, boops, the whole bit. 13/10 https://t.co/0Xxu71qeIV</td>\n",
       "      <td>https://twitter.com/dog_rates/status/892177421306343426</td>\n",
       "      <td>13.0</td>\n",
       "      <td>10.0</td>\n",
       "      <td>Tilly</td>\n",
       "      <td>0.0</td>\n",
       "      <td>0.0</td>\n",
       "      <td>0.0</td>\n",
       "      <td>0.0</td>\n",
       "      <td>0.0</td>\n",
       "      <td>1.3</td>\n",
       "    </tr>\n",
       "  </tbody>\n",
       "</table>\n",
       "</div>"
      ],
      "text/plain": [
       "                             timestamp              source  \\\n",
       "tweet_id                                                     \n",
       "892420643555336193 2017-08-01 16:23:56  Twitter for iPhone   \n",
       "892177421306343426 2017-08-01 00:17:27  Twitter for iPhone   \n",
       "\n",
       "                                                                                                                                                                                  text  \\\n",
       "tweet_id                                                                                                                                                                                 \n",
       "892420643555336193  This is Phineas. He's a mystical boy. Only ever appears in the hole of a donut. 13/10 https://t.co/MgUWQ76dJU                                                        \n",
       "892177421306343426  This is Tilly. She's just checking pup on you. Hopes you're doing ok. If not, she's available for pats, snugs, boops, the whole bit. 13/10 https://t.co/0Xxu71qeIV   \n",
       "\n",
       "                                                              expanded_urls  \\\n",
       "tweet_id                                                                      \n",
       "892420643555336193  https://twitter.com/dog_rates/status/892420643555336193   \n",
       "892177421306343426  https://twitter.com/dog_rates/status/892177421306343426   \n",
       "\n",
       "                    rating_numerator  rating_denominator     name  doggo  \\\n",
       "tweet_id                                                                   \n",
       "892420643555336193  13.0              10.0                Phineas  0.0     \n",
       "892177421306343426  13.0              10.0                Tilly    0.0     \n",
       "\n",
       "                    floofer  pupper  puppo  number_categories  rating  \n",
       "tweet_id                                                               \n",
       "892420643555336193  0.0      0.0     0.0    0.0                1.3     \n",
       "892177421306343426  0.0      0.0     0.0    0.0                1.3     "
      ]
     },
     "execution_count": 55,
     "metadata": {},
     "output_type": "execute_result"
    }
   ],
   "source": [
    "# display sample of dataframe\n",
    "twitter_arch_clean.head(2)"
   ]
  },
  {
   "cell_type": "code",
   "execution_count": 56,
   "metadata": {},
   "outputs": [],
   "source": [
    "# read dog types from text column\n",
    "for index, column in twitter_arch_clean.iterrows():\n",
    "    for word in ['puppo', 'pupper', 'doggo', 'floofer']:\n",
    "        if word.lower() in str(twitter_arch_clean.loc[index, 'text']).lower():\n",
    "            twitter_arch_clean.loc[index, 'dog_type'] = word.title()\n",
    "            \n",
    "# drop old columns\n",
    "twitter_arch_clean.drop(['puppo',\n",
    "                       'pupper',\n",
    "                       'doggo',\n",
    "                       'floofer'],\n",
    "                      axis=1, inplace=True)"
   ]
  },
  {
   "cell_type": "code",
   "execution_count": 57,
   "metadata": {},
   "outputs": [
    {
     "data": {
      "text/html": [
       "<div>\n",
       "<style scoped>\n",
       "    .dataframe tbody tr th:only-of-type {\n",
       "        vertical-align: middle;\n",
       "    }\n",
       "\n",
       "    .dataframe tbody tr th {\n",
       "        vertical-align: top;\n",
       "    }\n",
       "\n",
       "    .dataframe thead th {\n",
       "        text-align: right;\n",
       "    }\n",
       "</style>\n",
       "<table border=\"1\" class=\"dataframe\">\n",
       "  <thead>\n",
       "    <tr style=\"text-align: right;\">\n",
       "      <th></th>\n",
       "      <th>timestamp</th>\n",
       "      <th>source</th>\n",
       "      <th>text</th>\n",
       "      <th>expanded_urls</th>\n",
       "      <th>rating_numerator</th>\n",
       "      <th>rating_denominator</th>\n",
       "      <th>name</th>\n",
       "      <th>number_categories</th>\n",
       "      <th>rating</th>\n",
       "      <th>dog_type</th>\n",
       "    </tr>\n",
       "    <tr>\n",
       "      <th>tweet_id</th>\n",
       "      <th></th>\n",
       "      <th></th>\n",
       "      <th></th>\n",
       "      <th></th>\n",
       "      <th></th>\n",
       "      <th></th>\n",
       "      <th></th>\n",
       "      <th></th>\n",
       "      <th></th>\n",
       "      <th></th>\n",
       "    </tr>\n",
       "  </thead>\n",
       "  <tbody>\n",
       "    <tr>\n",
       "      <th>674664755118911488</th>\n",
       "      <td>2015-12-09 18:59:46</td>\n",
       "      <td>Twitter for iPhone</td>\n",
       "      <td>This is Rodman. He's getting destroyed by the surfs. Valiant effort though. 10/10 better than most puppers probably https://t.co/S8wCLemrNb</td>\n",
       "      <td>https://twitter.com/dog_rates/status/674664755118911488</td>\n",
       "      <td>10.0</td>\n",
       "      <td>10.0</td>\n",
       "      <td>Rodman</td>\n",
       "      <td>0.0</td>\n",
       "      <td>1.0</td>\n",
       "      <td>Pupper</td>\n",
       "    </tr>\n",
       "    <tr>\n",
       "      <th>723673163800948736</th>\n",
       "      <td>2016-04-23 00:41:42</td>\n",
       "      <td>Twitter for iPhone</td>\n",
       "      <td>This is Ivar. She is a badass Viking warrior. Will sack your village. 10/10 savage af https://t.co/Dz6MiVssVU</td>\n",
       "      <td>https://twitter.com/dog_rates/status/723673163800948736</td>\n",
       "      <td>10.0</td>\n",
       "      <td>10.0</td>\n",
       "      <td>Ivar</td>\n",
       "      <td>0.0</td>\n",
       "      <td>1.0</td>\n",
       "      <td>NaN</td>\n",
       "    </tr>\n",
       "    <tr>\n",
       "      <th>684147889187209216</th>\n",
       "      <td>2016-01-04 23:02:22</td>\n",
       "      <td>Vine - Make a Scene</td>\n",
       "      <td>This is Sweets the English Bulldog. Waves back to other bikers. 12/10 just a fantastic friendly pupper https://t.co/WYiFzuX7D4</td>\n",
       "      <td>https://twitter.com/dog_rates/status/684147889187209216</td>\n",
       "      <td>12.0</td>\n",
       "      <td>10.0</td>\n",
       "      <td>Sweets</td>\n",
       "      <td>1.0</td>\n",
       "      <td>1.2</td>\n",
       "      <td>Pupper</td>\n",
       "    </tr>\n",
       "  </tbody>\n",
       "</table>\n",
       "</div>"
      ],
      "text/plain": [
       "                             timestamp               source  \\\n",
       "tweet_id                                                      \n",
       "674664755118911488 2015-12-09 18:59:46  Twitter for iPhone    \n",
       "723673163800948736 2016-04-23 00:41:42  Twitter for iPhone    \n",
       "684147889187209216 2016-01-04 23:02:22  Vine - Make a Scene   \n",
       "\n",
       "                                                                                                                                                           text  \\\n",
       "tweet_id                                                                                                                                                          \n",
       "674664755118911488  This is Rodman. He's getting destroyed by the surfs. Valiant effort though. 10/10 better than most puppers probably https://t.co/S8wCLemrNb   \n",
       "723673163800948736  This is Ivar. She is a badass Viking warrior. Will sack your village. 10/10 savage af https://t.co/Dz6MiVssVU                                 \n",
       "684147889187209216  This is Sweets the English Bulldog. Waves back to other bikers. 12/10 just a fantastic friendly pupper https://t.co/WYiFzuX7D4                \n",
       "\n",
       "                                                              expanded_urls  \\\n",
       "tweet_id                                                                      \n",
       "674664755118911488  https://twitter.com/dog_rates/status/674664755118911488   \n",
       "723673163800948736  https://twitter.com/dog_rates/status/723673163800948736   \n",
       "684147889187209216  https://twitter.com/dog_rates/status/684147889187209216   \n",
       "\n",
       "                    rating_numerator  rating_denominator    name  \\\n",
       "tweet_id                                                           \n",
       "674664755118911488  10.0              10.0                Rodman   \n",
       "723673163800948736  10.0              10.0                Ivar     \n",
       "684147889187209216  12.0              10.0                Sweets   \n",
       "\n",
       "                    number_categories  rating dog_type  \n",
       "tweet_id                                                \n",
       "674664755118911488  0.0                1.0     Pupper   \n",
       "723673163800948736  0.0                1.0     NaN      \n",
       "684147889187209216  1.0                1.2     Pupper   "
      ]
     },
     "execution_count": 57,
     "metadata": {},
     "output_type": "execute_result"
    }
   ],
   "source": [
    "# display sample of fixed data\n",
    "twitter_arch_clean.sample(3)"
   ]
  },
  {
   "cell_type": "markdown",
   "metadata": {},
   "source": [
    "### Clean: Image Predictions"
   ]
  },
  {
   "cell_type": "code",
   "execution_count": 58,
   "metadata": {},
   "outputs": [],
   "source": [
    "# create a copy of dataset\n",
    "image_pred_clean = image_pred.copy()"
   ]
  },
  {
   "cell_type": "code",
   "execution_count": 59,
   "metadata": {},
   "outputs": [
    {
     "data": {
      "text/html": [
       "<div>\n",
       "<style scoped>\n",
       "    .dataframe tbody tr th:only-of-type {\n",
       "        vertical-align: middle;\n",
       "    }\n",
       "\n",
       "    .dataframe tbody tr th {\n",
       "        vertical-align: top;\n",
       "    }\n",
       "\n",
       "    .dataframe thead th {\n",
       "        text-align: right;\n",
       "    }\n",
       "</style>\n",
       "<table border=\"1\" class=\"dataframe\">\n",
       "  <thead>\n",
       "    <tr style=\"text-align: right;\">\n",
       "      <th></th>\n",
       "      <th>jpg_url</th>\n",
       "      <th>img_num</th>\n",
       "      <th>p1</th>\n",
       "      <th>p1_conf</th>\n",
       "      <th>p1_dog</th>\n",
       "      <th>p2</th>\n",
       "      <th>p2_conf</th>\n",
       "      <th>p2_dog</th>\n",
       "      <th>p3</th>\n",
       "      <th>p3_conf</th>\n",
       "      <th>p3_dog</th>\n",
       "    </tr>\n",
       "    <tr>\n",
       "      <th>tweet_id</th>\n",
       "      <th></th>\n",
       "      <th></th>\n",
       "      <th></th>\n",
       "      <th></th>\n",
       "      <th></th>\n",
       "      <th></th>\n",
       "      <th></th>\n",
       "      <th></th>\n",
       "      <th></th>\n",
       "      <th></th>\n",
       "      <th></th>\n",
       "    </tr>\n",
       "  </thead>\n",
       "  <tbody>\n",
       "    <tr>\n",
       "      <th>883838122936631299</th>\n",
       "      <td>https://pbs.twimg.com/media/DEQGFgAXUAAEvfi.jpg</td>\n",
       "      <td>1</td>\n",
       "      <td>Doberman</td>\n",
       "      <td>0.610946</td>\n",
       "      <td>True</td>\n",
       "      <td>miniature_pinscher</td>\n",
       "      <td>0.299603</td>\n",
       "      <td>True</td>\n",
       "      <td>kelpie</td>\n",
       "      <td>0.063020</td>\n",
       "      <td>True</td>\n",
       "    </tr>\n",
       "    <tr>\n",
       "      <th>695446424020918272</th>\n",
       "      <td>https://pbs.twimg.com/media/Caa407jWwAAJPH3.jpg</td>\n",
       "      <td>1</td>\n",
       "      <td>basenji</td>\n",
       "      <td>0.748904</td>\n",
       "      <td>True</td>\n",
       "      <td>Cardigan</td>\n",
       "      <td>0.121102</td>\n",
       "      <td>True</td>\n",
       "      <td>Pembroke</td>\n",
       "      <td>0.111767</td>\n",
       "      <td>True</td>\n",
       "    </tr>\n",
       "    <tr>\n",
       "      <th>669324657376567296</th>\n",
       "      <td>https://pbs.twimg.com/media/CUnrN7vUcAAfGvN.jpg</td>\n",
       "      <td>1</td>\n",
       "      <td>seashore</td>\n",
       "      <td>0.201659</td>\n",
       "      <td>False</td>\n",
       "      <td>Cardigan</td>\n",
       "      <td>0.131544</td>\n",
       "      <td>True</td>\n",
       "      <td>sandbar</td>\n",
       "      <td>0.101430</td>\n",
       "      <td>False</td>\n",
       "    </tr>\n",
       "  </tbody>\n",
       "</table>\n",
       "</div>"
      ],
      "text/plain": [
       "                                                            jpg_url  img_num  \\\n",
       "tweet_id                                                                       \n",
       "883838122936631299  https://pbs.twimg.com/media/DEQGFgAXUAAEvfi.jpg  1         \n",
       "695446424020918272  https://pbs.twimg.com/media/Caa407jWwAAJPH3.jpg  1         \n",
       "669324657376567296  https://pbs.twimg.com/media/CUnrN7vUcAAfGvN.jpg  1         \n",
       "\n",
       "                          p1   p1_conf  p1_dog                  p2   p2_conf  \\\n",
       "tweet_id                                                                       \n",
       "883838122936631299  Doberman  0.610946  True    miniature_pinscher  0.299603   \n",
       "695446424020918272  basenji   0.748904  True    Cardigan            0.121102   \n",
       "669324657376567296  seashore  0.201659  False   Cardigan            0.131544   \n",
       "\n",
       "                    p2_dog        p3   p3_conf  p3_dog  \n",
       "tweet_id                                                \n",
       "883838122936631299  True    kelpie    0.063020  True    \n",
       "695446424020918272  True    Pembroke  0.111767  True    \n",
       "669324657376567296  True    sandbar   0.101430  False   "
      ]
     },
     "execution_count": 59,
     "metadata": {},
     "output_type": "execute_result"
    }
   ],
   "source": [
    "# display sample of data\n",
    "image_pred_clean.sample(3)"
   ]
  },
  {
   "cell_type": "markdown",
   "metadata": {},
   "source": [
    "#### Define\n",
    "\n",
    "Column names are confusing and do not give much information about the content.  \n",
    "- Change column names to more descriptive ones.\n",
    "\n",
    "#### Code"
   ]
  },
  {
   "cell_type": "code",
   "execution_count": 60,
   "metadata": {},
   "outputs": [
    {
     "data": {
      "text/plain": [
       "Index(['jpg_url', 'img_num', 'p1', 'p1_conf', 'p1_dog', 'p2', 'p2_conf',\n",
       "       'p2_dog', 'p3', 'p3_conf', 'p3_dog'],\n",
       "      dtype='object')"
      ]
     },
     "execution_count": 60,
     "metadata": {},
     "output_type": "execute_result"
    }
   ],
   "source": [
    "# display current labels\n",
    "image_pred_clean.columns"
   ]
  },
  {
   "cell_type": "code",
   "execution_count": 61,
   "metadata": {},
   "outputs": [],
   "source": [
    "# change labels\n",
    "image_pred_clean.columns = ['image_url', \n",
    "                            'img_number', \n",
    "                            '1st_prediction',\n",
    "                            '1st_prediction_confidence',\n",
    "                            '1st_prediction_isdog',\n",
    "                            '2nd_prediction',\n",
    "                            '2nd_prediction_confidence',\n",
    "                            '2nd_prediction_isdog',\n",
    "                            '3rd_prediction',\n",
    "                            '3rd_prediction_confidence',\n",
    "                            '3rd_prediction_isdog']"
   ]
  },
  {
   "cell_type": "code",
   "execution_count": 62,
   "metadata": {},
   "outputs": [
    {
     "data": {
      "text/plain": [
       "Index(['image_url', 'img_number', '1st_prediction',\n",
       "       '1st_prediction_confidence', '1st_prediction_isdog', '2nd_prediction',\n",
       "       '2nd_prediction_confidence', '2nd_prediction_isdog', '3rd_prediction',\n",
       "       '3rd_prediction_confidence', '3rd_prediction_isdog'],\n",
       "      dtype='object')"
      ]
     },
     "execution_count": 62,
     "metadata": {},
     "output_type": "execute_result"
    }
   ],
   "source": [
    "# display new labels\n",
    "image_pred_clean.columns"
   ]
  },
  {
   "cell_type": "markdown",
   "metadata": {},
   "source": [
    "#### Define\n",
    "\n",
    "Dog breeds contain underscores, and have different case formatting\n",
    "- Replace underscores with whitespace\n",
    "- Capitalize the first letter of each word\n",
    "\n",
    "#### Code"
   ]
  },
  {
   "cell_type": "code",
   "execution_count": 63,
   "metadata": {},
   "outputs": [],
   "source": [
    "# columns with dog breed\n",
    "dog_breed_cols = ['1st_prediction', '2nd_prediction', '3rd_prediction']\n",
    "\n",
    "# remove underscore and capitalize the first letter of each word \n",
    "for column in dog_breed_cols:\n",
    "    image_pred_clean[column] = image_pred_clean[column].str.replace('_', ' ').str.title()"
   ]
  },
  {
   "cell_type": "code",
   "execution_count": 64,
   "metadata": {},
   "outputs": [
    {
     "data": {
      "text/html": [
       "<div>\n",
       "<style scoped>\n",
       "    .dataframe tbody tr th:only-of-type {\n",
       "        vertical-align: middle;\n",
       "    }\n",
       "\n",
       "    .dataframe tbody tr th {\n",
       "        vertical-align: top;\n",
       "    }\n",
       "\n",
       "    .dataframe thead th {\n",
       "        text-align: right;\n",
       "    }\n",
       "</style>\n",
       "<table border=\"1\" class=\"dataframe\">\n",
       "  <thead>\n",
       "    <tr style=\"text-align: right;\">\n",
       "      <th></th>\n",
       "      <th>1st_prediction</th>\n",
       "      <th>2nd_prediction</th>\n",
       "      <th>3rd_prediction</th>\n",
       "    </tr>\n",
       "    <tr>\n",
       "      <th>tweet_id</th>\n",
       "      <th></th>\n",
       "      <th></th>\n",
       "      <th></th>\n",
       "    </tr>\n",
       "  </thead>\n",
       "  <tbody>\n",
       "    <tr>\n",
       "      <th>745314880350101504</th>\n",
       "      <td>Ice Bear</td>\n",
       "      <td>Great White Shark</td>\n",
       "      <td>Fountain</td>\n",
       "    </tr>\n",
       "    <tr>\n",
       "      <th>835574547218894849</th>\n",
       "      <td>Staffordshire Bullterrier</td>\n",
       "      <td>Muzzle</td>\n",
       "      <td>American Staffordshire Terrier</td>\n",
       "    </tr>\n",
       "    <tr>\n",
       "      <th>814530161257443328</th>\n",
       "      <td>Miniature Poodle</td>\n",
       "      <td>Toy Poodle</td>\n",
       "      <td>Soft-Coated Wheaten Terrier</td>\n",
       "    </tr>\n",
       "  </tbody>\n",
       "</table>\n",
       "</div>"
      ],
      "text/plain": [
       "                               1st_prediction     2nd_prediction  \\\n",
       "tweet_id                                                           \n",
       "745314880350101504  Ice Bear                   Great White Shark   \n",
       "835574547218894849  Staffordshire Bullterrier  Muzzle              \n",
       "814530161257443328  Miniature Poodle           Toy Poodle          \n",
       "\n",
       "                                    3rd_prediction  \n",
       "tweet_id                                            \n",
       "745314880350101504  Fountain                        \n",
       "835574547218894849  American Staffordshire Terrier  \n",
       "814530161257443328  Soft-Coated Wheaten Terrier     "
      ]
     },
     "execution_count": 64,
     "metadata": {},
     "output_type": "execute_result"
    }
   ],
   "source": [
    "# display sample of changes\n",
    "image_pred_clean[dog_breed_cols].sample(3)"
   ]
  },
  {
   "cell_type": "markdown",
   "metadata": {},
   "source": [
    "#### Define\n",
    "\n",
    "Only 2075 images have been classified as dog images for top prediction\n",
    "- If 1st predictions is not a dog breed, then use dog breed predicted in the 2nd or 3rd predicion\n",
    "\n",
    "#### Code"
   ]
  },
  {
   "cell_type": "code",
   "execution_count": 65,
   "metadata": {},
   "outputs": [],
   "source": [
    "# adapted from https://stackoverflow.com/a/26887820/7382214\n",
    "# build function to determine dog breed\n",
    "# if no breed detected, set value to NaN\n",
    "\n",
    "def get_breed(row):\n",
    "    if row['1st_prediction_isdog'] == True:\n",
    "        return row['1st_prediction'], row['1st_prediction_confidence']\n",
    "    if row['2nd_prediction_isdog'] == True:\n",
    "        return row['2nd_prediction'], row['2nd_prediction_confidence']\n",
    "    if row['3rd_prediction_isdog'] == True:\n",
    "        return row['3rd_prediction'], row['3rd_prediction_confidence']\n",
    "    return np.nan, np.nan\n",
    "\n",
    "# apply function to dataset\n",
    "# create new columns with data\n",
    "image_pred_clean[['breed_predicted', 'prediction_confidence']] = pd.DataFrame(image_pred_clean.apply(lambda row: get_breed(row), axis = 1).tolist(), index = image_pred_clean.index) \n",
    "\n",
    "# drop old columns\n",
    "image_pred_clean.drop(['1st_prediction',\n",
    "                       '1st_prediction_confidence',\n",
    "                       '1st_prediction_isdog',\n",
    "                       '2nd_prediction',\n",
    "                       '2nd_prediction_confidence',\n",
    "                       '2nd_prediction_isdog',\n",
    "                       '3rd_prediction',\n",
    "                       '3rd_prediction_confidence',\n",
    "                       '3rd_prediction_isdog'],\n",
    "                      axis=1, inplace=True)\n",
    "\n",
    "# drop rows without dog breed prediction\n",
    "image_pred_clean.dropna(subset = ['breed_predicted', 'prediction_confidence'], inplace = True)"
   ]
  },
  {
   "cell_type": "code",
   "execution_count": 66,
   "metadata": {},
   "outputs": [
    {
     "data": {
      "text/html": [
       "<div>\n",
       "<style scoped>\n",
       "    .dataframe tbody tr th:only-of-type {\n",
       "        vertical-align: middle;\n",
       "    }\n",
       "\n",
       "    .dataframe tbody tr th {\n",
       "        vertical-align: top;\n",
       "    }\n",
       "\n",
       "    .dataframe thead th {\n",
       "        text-align: right;\n",
       "    }\n",
       "</style>\n",
       "<table border=\"1\" class=\"dataframe\">\n",
       "  <thead>\n",
       "    <tr style=\"text-align: right;\">\n",
       "      <th></th>\n",
       "      <th>image_url</th>\n",
       "      <th>img_number</th>\n",
       "      <th>breed_predicted</th>\n",
       "      <th>prediction_confidence</th>\n",
       "    </tr>\n",
       "    <tr>\n",
       "      <th>tweet_id</th>\n",
       "      <th></th>\n",
       "      <th></th>\n",
       "      <th></th>\n",
       "      <th></th>\n",
       "    </tr>\n",
       "  </thead>\n",
       "  <tbody>\n",
       "    <tr>\n",
       "      <th>853760880890318849</th>\n",
       "      <td>https://pbs.twimg.com/media/C9kq_bbVwAAuRZd.jpg</td>\n",
       "      <td>1</td>\n",
       "      <td>Miniature Pinscher</td>\n",
       "      <td>0.292519</td>\n",
       "    </tr>\n",
       "    <tr>\n",
       "      <th>673708611235921920</th>\n",
       "      <td>https://pbs.twimg.com/media/CVl-Z0dWcAAs7wr.jpg</td>\n",
       "      <td>1</td>\n",
       "      <td>Golden Retriever</td>\n",
       "      <td>0.936333</td>\n",
       "    </tr>\n",
       "    <tr>\n",
       "      <th>683828599284170753</th>\n",
       "      <td>https://pbs.twimg.com/media/CX1ye7HUMAADDzh.jpg</td>\n",
       "      <td>1</td>\n",
       "      <td>Malamute</td>\n",
       "      <td>0.577376</td>\n",
       "    </tr>\n",
       "  </tbody>\n",
       "</table>\n",
       "</div>"
      ],
      "text/plain": [
       "                                                          image_url  \\\n",
       "tweet_id                                                              \n",
       "853760880890318849  https://pbs.twimg.com/media/C9kq_bbVwAAuRZd.jpg   \n",
       "673708611235921920  https://pbs.twimg.com/media/CVl-Z0dWcAAs7wr.jpg   \n",
       "683828599284170753  https://pbs.twimg.com/media/CX1ye7HUMAADDzh.jpg   \n",
       "\n",
       "                    img_number     breed_predicted  prediction_confidence  \n",
       "tweet_id                                                                   \n",
       "853760880890318849  1           Miniature Pinscher  0.292519               \n",
       "673708611235921920  1           Golden Retriever    0.936333               \n",
       "683828599284170753  1           Malamute            0.577376               "
      ]
     },
     "execution_count": 66,
     "metadata": {},
     "output_type": "execute_result"
    }
   ],
   "source": [
    "# display sample of cleaned dataset\n",
    "image_pred_clean.sample(3)"
   ]
  },
  {
   "cell_type": "markdown",
   "metadata": {},
   "source": [
    "This concludes cleaning activities for the Image Predictions dataset. The remaining task is to merge it with the Twitter archive data, which is covered in the [Clean: Merge Datasets](#Clean:-Merge-Datasets) section."
   ]
  },
  {
   "cell_type": "markdown",
   "metadata": {},
   "source": [
    "### Clean: Twitter API Data"
   ]
  },
  {
   "cell_type": "code",
   "execution_count": 67,
   "metadata": {},
   "outputs": [
    {
     "data": {
      "text/html": [
       "<div>\n",
       "<style scoped>\n",
       "    .dataframe tbody tr th:only-of-type {\n",
       "        vertical-align: middle;\n",
       "    }\n",
       "\n",
       "    .dataframe tbody tr th {\n",
       "        vertical-align: top;\n",
       "    }\n",
       "\n",
       "    .dataframe thead th {\n",
       "        text-align: right;\n",
       "    }\n",
       "</style>\n",
       "<table border=\"1\" class=\"dataframe\">\n",
       "  <thead>\n",
       "    <tr style=\"text-align: right;\">\n",
       "      <th></th>\n",
       "      <th>favorites</th>\n",
       "      <th>retweets</th>\n",
       "    </tr>\n",
       "    <tr>\n",
       "      <th>tweet_id</th>\n",
       "      <th></th>\n",
       "      <th></th>\n",
       "    </tr>\n",
       "  </thead>\n",
       "  <tbody>\n",
       "    <tr>\n",
       "      <th>674764817387900928</th>\n",
       "      <td>852</td>\n",
       "      <td>263</td>\n",
       "    </tr>\n",
       "    <tr>\n",
       "      <th>741793263812808706</th>\n",
       "      <td>4982</td>\n",
       "      <td>1698</td>\n",
       "    </tr>\n",
       "    <tr>\n",
       "      <th>862457590147678208</th>\n",
       "      <td>21492</td>\n",
       "      <td>5388</td>\n",
       "    </tr>\n",
       "  </tbody>\n",
       "</table>\n",
       "</div>"
      ],
      "text/plain": [
       "                    favorites  retweets\n",
       "tweet_id                               \n",
       "674764817387900928  852        263     \n",
       "741793263812808706  4982       1698    \n",
       "862457590147678208  21492      5388    "
      ]
     },
     "execution_count": 67,
     "metadata": {},
     "output_type": "execute_result"
    }
   ],
   "source": [
    "# display sample of data\n",
    "twitter_api.sample(3)"
   ]
  },
  {
   "cell_type": "markdown",
   "metadata": {},
   "source": [
    "There is no need to perform cleaning tasks in this data set, except for merging it with the Twitter archive data, which is covered in the next section."
   ]
  },
  {
   "cell_type": "markdown",
   "metadata": {},
   "source": [
    "### Clean: Merge Datasets"
   ]
  },
  {
   "cell_type": "code",
   "execution_count": 68,
   "metadata": {},
   "outputs": [],
   "source": [
    "# join datasets\n",
    "df = reduce(lambda left, right: pd.merge(left, right, on='tweet_id'), [twitter_arch_clean, image_pred_clean, twitter_api])"
   ]
  },
  {
   "cell_type": "code",
   "execution_count": 69,
   "metadata": {},
   "outputs": [
    {
     "data": {
      "text/html": [
       "<div>\n",
       "<style scoped>\n",
       "    .dataframe tbody tr th:only-of-type {\n",
       "        vertical-align: middle;\n",
       "    }\n",
       "\n",
       "    .dataframe tbody tr th {\n",
       "        vertical-align: top;\n",
       "    }\n",
       "\n",
       "    .dataframe thead th {\n",
       "        text-align: right;\n",
       "    }\n",
       "</style>\n",
       "<table border=\"1\" class=\"dataframe\">\n",
       "  <thead>\n",
       "    <tr style=\"text-align: right;\">\n",
       "      <th></th>\n",
       "      <th>timestamp</th>\n",
       "      <th>source</th>\n",
       "      <th>text</th>\n",
       "      <th>expanded_urls</th>\n",
       "      <th>rating_numerator</th>\n",
       "      <th>rating_denominator</th>\n",
       "      <th>name</th>\n",
       "      <th>number_categories</th>\n",
       "      <th>rating</th>\n",
       "      <th>dog_type</th>\n",
       "      <th>image_url</th>\n",
       "      <th>img_number</th>\n",
       "      <th>breed_predicted</th>\n",
       "      <th>prediction_confidence</th>\n",
       "      <th>favorites</th>\n",
       "      <th>retweets</th>\n",
       "    </tr>\n",
       "    <tr>\n",
       "      <th>tweet_id</th>\n",
       "      <th></th>\n",
       "      <th></th>\n",
       "      <th></th>\n",
       "      <th></th>\n",
       "      <th></th>\n",
       "      <th></th>\n",
       "      <th></th>\n",
       "      <th></th>\n",
       "      <th></th>\n",
       "      <th></th>\n",
       "      <th></th>\n",
       "      <th></th>\n",
       "      <th></th>\n",
       "      <th></th>\n",
       "      <th></th>\n",
       "      <th></th>\n",
       "    </tr>\n",
       "  </thead>\n",
       "  <tbody>\n",
       "    <tr>\n",
       "      <th>670003130994700288</th>\n",
       "      <td>2015-11-26 22:16:09</td>\n",
       "      <td>Twitter for iPhone</td>\n",
       "      <td>This is Raphael. He is a Baskerville Conquistador. Entertains at all the gatherings. 10/10 simply magnificent https://t.co/3NTykJmtHt</td>\n",
       "      <td>https://twitter.com/dog_rates/status/670003130994700288</td>\n",
       "      <td>10.0</td>\n",
       "      <td>10.0</td>\n",
       "      <td>Raphael</td>\n",
       "      <td>0.0</td>\n",
       "      <td>1.0</td>\n",
       "      <td>NaN</td>\n",
       "      <td>https://pbs.twimg.com/media/CUxUSuaW4AAdQzv.jpg</td>\n",
       "      <td>1</td>\n",
       "      <td>Beagle</td>\n",
       "      <td>0.375313</td>\n",
       "      <td>352</td>\n",
       "      <td>100</td>\n",
       "    </tr>\n",
       "    <tr>\n",
       "      <th>675798442703122432</th>\n",
       "      <td>2015-12-12 22:04:39</td>\n",
       "      <td>Twitter for iPhone</td>\n",
       "      <td>This is Bernie. He just touched a boob for the first time. 10/10 https://t.co/whQKMygnK6</td>\n",
       "      <td>https://twitter.com/dog_rates/status/675798442703122432</td>\n",
       "      <td>10.0</td>\n",
       "      <td>10.0</td>\n",
       "      <td>Bernie</td>\n",
       "      <td>0.0</td>\n",
       "      <td>1.0</td>\n",
       "      <td>NaN</td>\n",
       "      <td>https://pbs.twimg.com/media/CWDrGH4UYAARoq_.jpg</td>\n",
       "      <td>1</td>\n",
       "      <td>Beagle</td>\n",
       "      <td>0.681218</td>\n",
       "      <td>11101</td>\n",
       "      <td>3787</td>\n",
       "    </tr>\n",
       "    <tr>\n",
       "      <th>762464539388485633</th>\n",
       "      <td>2016-08-08 01:44:46</td>\n",
       "      <td>Twitter for iPhone</td>\n",
       "      <td>This is Buddy. His father was a bear and his mother was a perfectly toasted marshmallow. 12/10 would snug so well https://t.co/zGSj1oUgxx</td>\n",
       "      <td>https://twitter.com/dog_rates/status/762464539388485633</td>\n",
       "      <td>12.0</td>\n",
       "      <td>10.0</td>\n",
       "      <td>Buddy</td>\n",
       "      <td>0.0</td>\n",
       "      <td>1.2</td>\n",
       "      <td>NaN</td>\n",
       "      <td>https://pbs.twimg.com/media/CpTRc4DUEAAYTq6.jpg</td>\n",
       "      <td>4</td>\n",
       "      <td>Chow</td>\n",
       "      <td>0.999953</td>\n",
       "      <td>11503</td>\n",
       "      <td>4839</td>\n",
       "    </tr>\n",
       "  </tbody>\n",
       "</table>\n",
       "</div>"
      ],
      "text/plain": [
       "                             timestamp              source  \\\n",
       "tweet_id                                                     \n",
       "670003130994700288 2015-11-26 22:16:09  Twitter for iPhone   \n",
       "675798442703122432 2015-12-12 22:04:39  Twitter for iPhone   \n",
       "762464539388485633 2016-08-08 01:44:46  Twitter for iPhone   \n",
       "\n",
       "                                                                                                                                                         text  \\\n",
       "tweet_id                                                                                                                                                        \n",
       "670003130994700288  This is Raphael. He is a Baskerville Conquistador. Entertains at all the gatherings. 10/10 simply magnificent https://t.co/3NTykJmtHt       \n",
       "675798442703122432  This is Bernie. He just touched a boob for the first time. 10/10 https://t.co/whQKMygnK6                                                    \n",
       "762464539388485633  This is Buddy. His father was a bear and his mother was a perfectly toasted marshmallow. 12/10 would snug so well https://t.co/zGSj1oUgxx   \n",
       "\n",
       "                                                              expanded_urls  \\\n",
       "tweet_id                                                                      \n",
       "670003130994700288  https://twitter.com/dog_rates/status/670003130994700288   \n",
       "675798442703122432  https://twitter.com/dog_rates/status/675798442703122432   \n",
       "762464539388485633  https://twitter.com/dog_rates/status/762464539388485633   \n",
       "\n",
       "                    rating_numerator  rating_denominator     name  \\\n",
       "tweet_id                                                            \n",
       "670003130994700288  10.0              10.0                Raphael   \n",
       "675798442703122432  10.0              10.0                Bernie    \n",
       "762464539388485633  12.0              10.0                Buddy     \n",
       "\n",
       "                    number_categories  rating dog_type  \\\n",
       "tweet_id                                                 \n",
       "670003130994700288  0.0                1.0     NaN       \n",
       "675798442703122432  0.0                1.0     NaN       \n",
       "762464539388485633  0.0                1.2     NaN       \n",
       "\n",
       "                                                          image_url  \\\n",
       "tweet_id                                                              \n",
       "670003130994700288  https://pbs.twimg.com/media/CUxUSuaW4AAdQzv.jpg   \n",
       "675798442703122432  https://pbs.twimg.com/media/CWDrGH4UYAARoq_.jpg   \n",
       "762464539388485633  https://pbs.twimg.com/media/CpTRc4DUEAAYTq6.jpg   \n",
       "\n",
       "                    img_number breed_predicted  prediction_confidence  \\\n",
       "tweet_id                                                                \n",
       "670003130994700288  1           Beagle          0.375313                \n",
       "675798442703122432  1           Beagle          0.681218                \n",
       "762464539388485633  4           Chow            0.999953                \n",
       "\n",
       "                    favorites  retweets  \n",
       "tweet_id                                 \n",
       "670003130994700288  352        100       \n",
       "675798442703122432  11101      3787      \n",
       "762464539388485633  11503      4839      "
      ]
     },
     "execution_count": 69,
     "metadata": {},
     "output_type": "execute_result"
    }
   ],
   "source": [
    "# display new dataset\n",
    "df.sample(3)"
   ]
  },
  {
   "cell_type": "code",
   "execution_count": 70,
   "metadata": {},
   "outputs": [],
   "source": [
    "# save new dataset to csv\n",
    "df.to_csv('twitter_archive_master.csv')"
   ]
  },
  {
   "cell_type": "markdown",
   "metadata": {},
   "source": [
    "## Analyzing Data\n",
    "\n",
    "Analyze and visualize data using matplotlib.\n",
    "\n",
    "<hr>"
   ]
  },
  {
   "cell_type": "code",
   "execution_count": 71,
   "metadata": {},
   "outputs": [],
   "source": [
    "# scatter plot function\n",
    "def plot_scatter(x, y, title=\"\", xlabel=\"\", ylabel=\"\", xscale=\"linear\", yscale=\"linear\", color=\"#3F5D7D\"):\n",
    "    \n",
    "    plt.figure(figsize=(10,7))   \n",
    "\n",
    "    ax = plt.subplot(111)    \n",
    "    ax.spines[\"top\"].set_visible(False)    \n",
    "    ax.spines[\"right\"].set_visible(False)    \n",
    "    ax.grid(which='major', axis='both', linestyle='--', alpha=0.5, color=\"#3F5D7D\")\n",
    "\n",
    "    plt.yticks(fontsize=14)    \n",
    "    plt.xticks(fontsize=14)   \n",
    "\n",
    "    plt.scatter(x, \n",
    "                y,\n",
    "                color=color)\n",
    "\n",
    "    ax.set_xscale(xscale)\n",
    "    ax.set_yscale(yscale)\n",
    "\n",
    "    plt.title(title,\n",
    "              fontsize=18,\n",
    "              ha=\"center\",\n",
    "              pad=24)\n",
    "\n",
    "    plt.xlabel(xlabel,\n",
    "               fontsize=14,\n",
    "               labelpad=20)\n",
    "\n",
    "    plt.ylabel(ylabel, \n",
    "               fontsize=14,\n",
    "               labelpad=20)\n",
    "\n",
    "    return plt.show()\n",
    "\n",
    "# hist plot function\n",
    "def plot_hist(data, bins='auto', title=\"\", xlabel=\"\", ylabel=\"\", rwidth=1, xlim=None, ylim=None):\n",
    "    \n",
    "    plt.figure(figsize=(10,7)) \n",
    "\n",
    "    ax = plt.subplot(111)  \n",
    "    ax.spines[\"top\"].set_visible(False)  \n",
    "    ax.spines[\"right\"].set_visible(False)    \n",
    "    ax.grid(which='major', axis='y', linestyle='--', alpha=0.5, color=\"#3F5D7D\")\n",
    "    \n",
    "    plt.xticks(fontsize=14)\n",
    "    plt.yticks(fontsize=14) \n",
    "\n",
    "    if xlim is None:\n",
    "        plt.xlim()\n",
    "    else:\n",
    "        plt.xlim(xlim)\n",
    "\n",
    "    if ylim is None:\n",
    "        plt.ylim()\n",
    "    else:\n",
    "        plt.ylim(ylim)\n",
    "        \n",
    "    plt.tick_params(axis=\"both\", which=\"both\", bottom=True, top=False,    \n",
    "                labelbottom=True, left=False, right=False, labelleft=True) \n",
    "    \n",
    "    plt.hist(data, color=\"#3F5D7D\", edgecolor=\"k\", bins=bins, rwidth=rwidth)\n",
    "    \n",
    "    plt.title(title,\n",
    "              fontsize=18)\n",
    "    \n",
    "    plt.xlabel(xlabel,\n",
    "               fontsize=14)\n",
    "    \n",
    "    plt.ylabel(ylabel,\n",
    "               fontsize=14)\n",
    "    \n",
    "    return plt.show()\n",
    "\n",
    "# bar plot function\n",
    "def plot_bar(x, y, title=\"\", xlabel=\"\", ylabel=\"\", rotation=0, width=0.8):\n",
    "    \n",
    "    plt.figure(figsize=(10,7)) \n",
    "\n",
    "    ax = plt.subplot(111)  \n",
    "    ax.spines[\"top\"].set_visible(False)  \n",
    "    ax.spines[\"right\"].set_visible(False)    \n",
    "    ax.grid(which='major', axis='y', linestyle='--', alpha=0.5, color=\"#3F5D7D\")\n",
    "\n",
    "    plt.xticks(fontsize=14, rotation=rotation)\n",
    "    plt.yticks(fontsize=14) \n",
    "\n",
    "    plt.tick_params(axis=\"both\", which=\"both\", bottom=False, top=False,\n",
    "                    labelbottom=True, left=False, right=False, labelleft=True) \n",
    "\n",
    "    bar_list = plt.bar(x, y, color=\"#3F5D7D\", edgecolor=\"k\", width=width)\n",
    "\n",
    "    for a,b in zip(x, y):\n",
    "        plt.text(a, b, str(round(b,2)), ha='center', va='bottom', fontsize=12)\n",
    "\n",
    "    plt.title(title,\n",
    "              fontsize=18)\n",
    "    \n",
    "    plt.xlabel(xlabel,\n",
    "               fontsize=14)\n",
    "    \n",
    "    plt.ylabel(ylabel,\n",
    "               fontsize=14)\n",
    "\n",
    "    return plt.show()\n",
    "\n",
    "# line plot function\n",
    "def plot_line(x, y, title=\"\", xlabel=\"\", ylabel=\"\", marker=None, linestyle=\"-\", xlim=None, ylim=None, xrotation=0):\n",
    "    \n",
    "    plt.figure(figsize=(10, 7))   \n",
    "\n",
    "    ax = plt.subplot(111)    \n",
    "    ax.spines[\"top\"].set_visible(False)    \n",
    "    ax.spines[\"right\"].set_visible(False)    \n",
    "    ax.grid(which='major', axis='both', linestyle='--', alpha=0.5, color=\"#3F5D7D\")\n",
    "\n",
    "    plt.yticks(fontsize=14)    \n",
    "    plt.xticks(fontsize=14, rotation=xrotation)   \n",
    "\n",
    "    if xlim is None:\n",
    "        plt.xlim()\n",
    "    else:\n",
    "        plt.xlim(xlim)\n",
    "\n",
    "    if ylim is None:\n",
    "        plt.ylim()\n",
    "    else:\n",
    "        plt.ylim(ylim)\n",
    "    \n",
    "    plt.plot(x, y, marker=marker, linestyle=linestyle, color=\"#3F5D7D\")\n",
    "\n",
    "    plt.title(title,\n",
    "              fontsize=18)\n",
    "    \n",
    "    plt.xlabel(xlabel,\n",
    "               fontsize=14)\n",
    "    \n",
    "    plt.ylabel(ylabel,\n",
    "               fontsize=14)\n",
    "\n",
    "    return plt.show()"
   ]
  },
  {
   "cell_type": "code",
   "execution_count": 72,
   "metadata": {},
   "outputs": [
    {
     "data": {
      "text/html": [
       "<div>\n",
       "<style scoped>\n",
       "    .dataframe tbody tr th:only-of-type {\n",
       "        vertical-align: middle;\n",
       "    }\n",
       "\n",
       "    .dataframe tbody tr th {\n",
       "        vertical-align: top;\n",
       "    }\n",
       "\n",
       "    .dataframe thead th {\n",
       "        text-align: right;\n",
       "    }\n",
       "</style>\n",
       "<table border=\"1\" class=\"dataframe\">\n",
       "  <thead>\n",
       "    <tr style=\"text-align: right;\">\n",
       "      <th></th>\n",
       "      <th>timestamp</th>\n",
       "      <th>source</th>\n",
       "      <th>text</th>\n",
       "      <th>expanded_urls</th>\n",
       "      <th>rating_numerator</th>\n",
       "      <th>rating_denominator</th>\n",
       "      <th>name</th>\n",
       "      <th>number_categories</th>\n",
       "      <th>rating</th>\n",
       "      <th>dog_type</th>\n",
       "      <th>image_url</th>\n",
       "      <th>img_number</th>\n",
       "      <th>breed_predicted</th>\n",
       "      <th>prediction_confidence</th>\n",
       "      <th>favorites</th>\n",
       "      <th>retweets</th>\n",
       "    </tr>\n",
       "    <tr>\n",
       "      <th>tweet_id</th>\n",
       "      <th></th>\n",
       "      <th></th>\n",
       "      <th></th>\n",
       "      <th></th>\n",
       "      <th></th>\n",
       "      <th></th>\n",
       "      <th></th>\n",
       "      <th></th>\n",
       "      <th></th>\n",
       "      <th></th>\n",
       "      <th></th>\n",
       "      <th></th>\n",
       "      <th></th>\n",
       "      <th></th>\n",
       "      <th></th>\n",
       "      <th></th>\n",
       "    </tr>\n",
       "  </thead>\n",
       "  <tbody>\n",
       "    <tr>\n",
       "      <th>680889648562991104</th>\n",
       "      <td>2015-12-26 23:15:17</td>\n",
       "      <td>Twitter for iPhone</td>\n",
       "      <td>This is Cheesy. It's her birthday. She's patiently waiting to eat her party muffin. 9/10 happy birthday pup https://t.co/cH2H7mch2H</td>\n",
       "      <td>https://twitter.com/dog_rates/status/680889648562991104</td>\n",
       "      <td>9.0</td>\n",
       "      <td>10.0</td>\n",
       "      <td>Cheesy</td>\n",
       "      <td>0.0</td>\n",
       "      <td>0.9</td>\n",
       "      <td>NaN</td>\n",
       "      <td>https://pbs.twimg.com/media/CXMBhXfWEAA4mMI.jpg</td>\n",
       "      <td>1</td>\n",
       "      <td>Shetland Sheepdog</td>\n",
       "      <td>0.876337</td>\n",
       "      <td>1945</td>\n",
       "      <td>418</td>\n",
       "    </tr>\n",
       "    <tr>\n",
       "      <th>668274247790391296</th>\n",
       "      <td>2015-11-22 03:46:11</td>\n",
       "      <td>Twitter for iPhone</td>\n",
       "      <td>Meet Sophie. Her son just got in the car to leave for college. Very touching. Perfect dramatic sunlight. 10/10 yaass https://t.co/3j9kZRcpVB</td>\n",
       "      <td>https://twitter.com/dog_rates/status/668274247790391296</td>\n",
       "      <td>10.0</td>\n",
       "      <td>10.0</td>\n",
       "      <td>Sophie</td>\n",
       "      <td>0.0</td>\n",
       "      <td>1.0</td>\n",
       "      <td>NaN</td>\n",
       "      <td>https://pbs.twimg.com/media/CUYv4d2WUAAziXs.jpg</td>\n",
       "      <td>1</td>\n",
       "      <td>Soft-Coated Wheaten Terrier</td>\n",
       "      <td>0.406374</td>\n",
       "      <td>886</td>\n",
       "      <td>248</td>\n",
       "    </tr>\n",
       "    <tr>\n",
       "      <th>666063827256086533</th>\n",
       "      <td>2015-11-16 01:22:45</td>\n",
       "      <td>Twitter for iPhone</td>\n",
       "      <td>This is the happiest dog you will ever see. Very committed owner. Nice couch. 10/10 https://t.co/RhUEAloehK</td>\n",
       "      <td>https://twitter.com/dog_rates/status/666063827256086533</td>\n",
       "      <td>10.0</td>\n",
       "      <td>10.0</td>\n",
       "      <td>NaN</td>\n",
       "      <td>0.0</td>\n",
       "      <td>1.0</td>\n",
       "      <td>NaN</td>\n",
       "      <td>https://pbs.twimg.com/media/CT5Vg_wXIAAXfnj.jpg</td>\n",
       "      <td>1</td>\n",
       "      <td>Golden Retriever</td>\n",
       "      <td>0.775930</td>\n",
       "      <td>496</td>\n",
       "      <td>232</td>\n",
       "    </tr>\n",
       "  </tbody>\n",
       "</table>\n",
       "</div>"
      ],
      "text/plain": [
       "                             timestamp              source  \\\n",
       "tweet_id                                                     \n",
       "680889648562991104 2015-12-26 23:15:17  Twitter for iPhone   \n",
       "668274247790391296 2015-11-22 03:46:11  Twitter for iPhone   \n",
       "666063827256086533 2015-11-16 01:22:45  Twitter for iPhone   \n",
       "\n",
       "                                                                                                                                                            text  \\\n",
       "tweet_id                                                                                                                                                           \n",
       "680889648562991104  This is Cheesy. It's her birthday. She's patiently waiting to eat her party muffin. 9/10 happy birthday pup https://t.co/cH2H7mch2H            \n",
       "668274247790391296  Meet Sophie. Her son just got in the car to leave for college. Very touching. Perfect dramatic sunlight. 10/10 yaass https://t.co/3j9kZRcpVB   \n",
       "666063827256086533  This is the happiest dog you will ever see. Very committed owner. Nice couch. 10/10 https://t.co/RhUEAloehK                                    \n",
       "\n",
       "                                                              expanded_urls  \\\n",
       "tweet_id                                                                      \n",
       "680889648562991104  https://twitter.com/dog_rates/status/680889648562991104   \n",
       "668274247790391296  https://twitter.com/dog_rates/status/668274247790391296   \n",
       "666063827256086533  https://twitter.com/dog_rates/status/666063827256086533   \n",
       "\n",
       "                    rating_numerator  rating_denominator    name  \\\n",
       "tweet_id                                                           \n",
       "680889648562991104  9.0               10.0                Cheesy   \n",
       "668274247790391296  10.0              10.0                Sophie   \n",
       "666063827256086533  10.0              10.0                NaN      \n",
       "\n",
       "                    number_categories  rating dog_type  \\\n",
       "tweet_id                                                 \n",
       "680889648562991104  0.0                0.9     NaN       \n",
       "668274247790391296  0.0                1.0     NaN       \n",
       "666063827256086533  0.0                1.0     NaN       \n",
       "\n",
       "                                                          image_url  \\\n",
       "tweet_id                                                              \n",
       "680889648562991104  https://pbs.twimg.com/media/CXMBhXfWEAA4mMI.jpg   \n",
       "668274247790391296  https://pbs.twimg.com/media/CUYv4d2WUAAziXs.jpg   \n",
       "666063827256086533  https://pbs.twimg.com/media/CT5Vg_wXIAAXfnj.jpg   \n",
       "\n",
       "                    img_number              breed_predicted  \\\n",
       "tweet_id                                                      \n",
       "680889648562991104  1           Shetland Sheepdog             \n",
       "668274247790391296  1           Soft-Coated Wheaten Terrier   \n",
       "666063827256086533  1           Golden Retriever              \n",
       "\n",
       "                    prediction_confidence  favorites  retweets  \n",
       "tweet_id                                                        \n",
       "680889648562991104  0.876337               1945       418       \n",
       "668274247790391296  0.406374               886        248       \n",
       "666063827256086533  0.775930               496        232       "
      ]
     },
     "execution_count": 72,
     "metadata": {},
     "output_type": "execute_result"
    }
   ],
   "source": [
    "# display sample of data\n",
    "df.sample(3)"
   ]
  },
  {
   "cell_type": "code",
   "execution_count": 73,
   "metadata": {
    "scrolled": true
   },
   "outputs": [
    {
     "data": {
      "text/html": [
       "<div>\n",
       "<style scoped>\n",
       "    .dataframe tbody tr th:only-of-type {\n",
       "        vertical-align: middle;\n",
       "    }\n",
       "\n",
       "    .dataframe tbody tr th {\n",
       "        vertical-align: top;\n",
       "    }\n",
       "\n",
       "    .dataframe thead th {\n",
       "        text-align: right;\n",
       "    }\n",
       "</style>\n",
       "<table border=\"1\" class=\"dataframe\">\n",
       "  <thead>\n",
       "    <tr style=\"text-align: right;\">\n",
       "      <th></th>\n",
       "      <th>rating_numerator</th>\n",
       "      <th>rating_denominator</th>\n",
       "      <th>number_categories</th>\n",
       "      <th>rating</th>\n",
       "      <th>img_number</th>\n",
       "      <th>prediction_confidence</th>\n",
       "      <th>favorites</th>\n",
       "      <th>retweets</th>\n",
       "    </tr>\n",
       "  </thead>\n",
       "  <tbody>\n",
       "    <tr>\n",
       "      <th>count</th>\n",
       "      <td>1686.000000</td>\n",
       "      <td>1686.000000</td>\n",
       "      <td>1686.000000</td>\n",
       "      <td>1686.000000</td>\n",
       "      <td>1686.000000</td>\n",
       "      <td>1686.000000</td>\n",
       "      <td>1686.000000</td>\n",
       "      <td>1686.000000</td>\n",
       "    </tr>\n",
       "    <tr>\n",
       "      <th>mean</th>\n",
       "      <td>11.409122</td>\n",
       "      <td>10.503559</td>\n",
       "      <td>0.160142</td>\n",
       "      <td>1.085295</td>\n",
       "      <td>1.215896</td>\n",
       "      <td>0.549936</td>\n",
       "      <td>9233.109727</td>\n",
       "      <td>2817.118031</td>\n",
       "    </tr>\n",
       "    <tr>\n",
       "      <th>std</th>\n",
       "      <td>7.880929</td>\n",
       "      <td>6.875125</td>\n",
       "      <td>0.382683</td>\n",
       "      <td>0.186785</td>\n",
       "      <td>0.576191</td>\n",
       "      <td>0.299270</td>\n",
       "      <td>12583.246963</td>\n",
       "      <td>4807.199770</td>\n",
       "    </tr>\n",
       "    <tr>\n",
       "      <th>min</th>\n",
       "      <td>0.000000</td>\n",
       "      <td>2.000000</td>\n",
       "      <td>0.000000</td>\n",
       "      <td>0.000000</td>\n",
       "      <td>1.000000</td>\n",
       "      <td>0.000010</td>\n",
       "      <td>81.000000</td>\n",
       "      <td>16.000000</td>\n",
       "    </tr>\n",
       "    <tr>\n",
       "      <th>25%</th>\n",
       "      <td>10.000000</td>\n",
       "      <td>10.000000</td>\n",
       "      <td>0.000000</td>\n",
       "      <td>1.000000</td>\n",
       "      <td>1.000000</td>\n",
       "      <td>0.302892</td>\n",
       "      <td>2163.250000</td>\n",
       "      <td>649.250000</td>\n",
       "    </tr>\n",
       "    <tr>\n",
       "      <th>50%</th>\n",
       "      <td>11.000000</td>\n",
       "      <td>10.000000</td>\n",
       "      <td>0.000000</td>\n",
       "      <td>1.100000</td>\n",
       "      <td>1.000000</td>\n",
       "      <td>0.550604</td>\n",
       "      <td>4440.000000</td>\n",
       "      <td>1437.500000</td>\n",
       "    </tr>\n",
       "    <tr>\n",
       "      <th>75%</th>\n",
       "      <td>12.000000</td>\n",
       "      <td>10.000000</td>\n",
       "      <td>0.000000</td>\n",
       "      <td>1.200000</td>\n",
       "      <td>1.000000</td>\n",
       "      <td>0.821962</td>\n",
       "      <td>11656.750000</td>\n",
       "      <td>3247.750000</td>\n",
       "    </tr>\n",
       "    <tr>\n",
       "      <th>max</th>\n",
       "      <td>165.000000</td>\n",
       "      <td>150.000000</td>\n",
       "      <td>2.000000</td>\n",
       "      <td>3.428571</td>\n",
       "      <td>4.000000</td>\n",
       "      <td>0.999956</td>\n",
       "      <td>132810.000000</td>\n",
       "      <td>79515.000000</td>\n",
       "    </tr>\n",
       "  </tbody>\n",
       "</table>\n",
       "</div>"
      ],
      "text/plain": [
       "       rating_numerator  rating_denominator  number_categories       rating  \\\n",
       "count  1686.000000       1686.000000         1686.000000        1686.000000   \n",
       "mean   11.409122         10.503559           0.160142           1.085295      \n",
       "std    7.880929          6.875125            0.382683           0.186785      \n",
       "min    0.000000          2.000000            0.000000           0.000000      \n",
       "25%    10.000000         10.000000           0.000000           1.000000      \n",
       "50%    11.000000         10.000000           0.000000           1.100000      \n",
       "75%    12.000000         10.000000           0.000000           1.200000      \n",
       "max    165.000000        150.000000          2.000000           3.428571      \n",
       "\n",
       "        img_number  prediction_confidence      favorites      retweets  \n",
       "count  1686.000000  1686.000000            1686.000000    1686.000000   \n",
       "mean   1.215896     0.549936               9233.109727    2817.118031   \n",
       "std    0.576191     0.299270               12583.246963   4807.199770   \n",
       "min    1.000000     0.000010               81.000000      16.000000     \n",
       "25%    1.000000     0.302892               2163.250000    649.250000    \n",
       "50%    1.000000     0.550604               4440.000000    1437.500000   \n",
       "75%    1.000000     0.821962               11656.750000   3247.750000   \n",
       "max    4.000000     0.999956               132810.000000  79515.000000  "
      ]
     },
     "execution_count": 73,
     "metadata": {},
     "output_type": "execute_result"
    }
   ],
   "source": [
    "# display basic stats\n",
    "df.describe()"
   ]
  },
  {
   "cell_type": "markdown",
   "metadata": {},
   "source": [
    "Looking at the basic statistics, we see that rating 11/10 is the most common one.\n",
    "When it comes to the quality of dog breed predictions, the average confidence of ~50% suggests we might expect a lot of misclassified dogs. On the good side, the average value of favorites and retweets allow us to understand better how popular weRateDogs profile is. Average of 9233 favorites and 2817 retweets is impressive."
   ]
  },
  {
   "cell_type": "code",
   "execution_count": 74,
   "metadata": {},
   "outputs": [
    {
     "data": {
      "text/html": [
       "<style  type=\"text/css\" >\n",
       "    #T_f538a59e_3d56_11e9_9853_38baf84622afrow0_col0 {\n",
       "            background-color:  #b40426;\n",
       "        }    #T_f538a59e_3d56_11e9_9853_38baf84622afrow0_col1 {\n",
       "            background-color:  #be242e;\n",
       "        }    #T_f538a59e_3d56_11e9_9853_38baf84622afrow0_col2 {\n",
       "            background-color:  #3b4cc0;\n",
       "        }    #T_f538a59e_3d56_11e9_9853_38baf84622afrow0_col3 {\n",
       "            background-color:  #8badfd;\n",
       "        }    #T_f538a59e_3d56_11e9_9853_38baf84622afrow0_col4 {\n",
       "            background-color:  #4961d2;\n",
       "        }    #T_f538a59e_3d56_11e9_9853_38baf84622afrow0_col5 {\n",
       "            background-color:  #455cce;\n",
       "        }    #T_f538a59e_3d56_11e9_9853_38baf84622afrow0_col6 {\n",
       "            background-color:  #516ddb;\n",
       "        }    #T_f538a59e_3d56_11e9_9853_38baf84622afrow0_col7 {\n",
       "            background-color:  #4c66d6;\n",
       "        }    #T_f538a59e_3d56_11e9_9853_38baf84622afrow1_col0 {\n",
       "            background-color:  #be242e;\n",
       "        }    #T_f538a59e_3d56_11e9_9853_38baf84622afrow1_col1 {\n",
       "            background-color:  #b40426;\n",
       "        }    #T_f538a59e_3d56_11e9_9853_38baf84622afrow1_col2 {\n",
       "            background-color:  #3b4cc0;\n",
       "        }    #T_f538a59e_3d56_11e9_9853_38baf84622afrow1_col3 {\n",
       "            background-color:  #455cce;\n",
       "        }    #T_f538a59e_3d56_11e9_9853_38baf84622afrow1_col4 {\n",
       "            background-color:  #4358cb;\n",
       "        }    #T_f538a59e_3d56_11e9_9853_38baf84622afrow1_col5 {\n",
       "            background-color:  #4055c8;\n",
       "        }    #T_f538a59e_3d56_11e9_9853_38baf84622afrow1_col6 {\n",
       "            background-color:  #3b4cc0;\n",
       "        }    #T_f538a59e_3d56_11e9_9853_38baf84622afrow1_col7 {\n",
       "            background-color:  #3d50c3;\n",
       "        }    #T_f538a59e_3d56_11e9_9853_38baf84622afrow2_col0 {\n",
       "            background-color:  #4055c8;\n",
       "        }    #T_f538a59e_3d56_11e9_9853_38baf84622afrow2_col1 {\n",
       "            background-color:  #3b4cc0;\n",
       "        }    #T_f538a59e_3d56_11e9_9853_38baf84622afrow2_col2 {\n",
       "            background-color:  #b40426;\n",
       "        }    #T_f538a59e_3d56_11e9_9853_38baf84622afrow2_col3 {\n",
       "            background-color:  #5d7ce6;\n",
       "        }    #T_f538a59e_3d56_11e9_9853_38baf84622afrow2_col4 {\n",
       "            background-color:  #536edd;\n",
       "        }    #T_f538a59e_3d56_11e9_9853_38baf84622afrow2_col5 {\n",
       "            background-color:  #516ddb;\n",
       "        }    #T_f538a59e_3d56_11e9_9853_38baf84622afrow2_col6 {\n",
       "            background-color:  #5e7de7;\n",
       "        }    #T_f538a59e_3d56_11e9_9853_38baf84622afrow2_col7 {\n",
       "            background-color:  #6282ea;\n",
       "        }    #T_f538a59e_3d56_11e9_9853_38baf84622afrow3_col0 {\n",
       "            background-color:  #86a9fc;\n",
       "        }    #T_f538a59e_3d56_11e9_9853_38baf84622afrow3_col1 {\n",
       "            background-color:  #3b4cc0;\n",
       "        }    #T_f538a59e_3d56_11e9_9853_38baf84622afrow3_col2 {\n",
       "            background-color:  #516ddb;\n",
       "        }    #T_f538a59e_3d56_11e9_9853_38baf84622afrow3_col3 {\n",
       "            background-color:  #b40426;\n",
       "        }    #T_f538a59e_3d56_11e9_9853_38baf84622afrow3_col4 {\n",
       "            background-color:  #6f92f3;\n",
       "        }    #T_f538a59e_3d56_11e9_9853_38baf84622afrow3_col5 {\n",
       "            background-color:  #6788ee;\n",
       "        }    #T_f538a59e_3d56_11e9_9853_38baf84622afrow3_col6 {\n",
       "            background-color:  #c1d4f4;\n",
       "        }    #T_f538a59e_3d56_11e9_9853_38baf84622afrow3_col7 {\n",
       "            background-color:  #9ebeff;\n",
       "        }    #T_f538a59e_3d56_11e9_9853_38baf84622afrow4_col0 {\n",
       "            background-color:  #465ecf;\n",
       "        }    #T_f538a59e_3d56_11e9_9853_38baf84622afrow4_col1 {\n",
       "            background-color:  #3b4cc0;\n",
       "        }    #T_f538a59e_3d56_11e9_9853_38baf84622afrow4_col2 {\n",
       "            background-color:  #4a63d3;\n",
       "        }    #T_f538a59e_3d56_11e9_9853_38baf84622afrow4_col3 {\n",
       "            background-color:  #7295f4;\n",
       "        }    #T_f538a59e_3d56_11e9_9853_38baf84622afrow4_col4 {\n",
       "            background-color:  #b40426;\n",
       "        }    #T_f538a59e_3d56_11e9_9853_38baf84622afrow4_col5 {\n",
       "            background-color:  #6788ee;\n",
       "        }    #T_f538a59e_3d56_11e9_9853_38baf84622afrow4_col6 {\n",
       "            background-color:  #6282ea;\n",
       "        }    #T_f538a59e_3d56_11e9_9853_38baf84622afrow4_col7 {\n",
       "            background-color:  #5875e1;\n",
       "        }    #T_f538a59e_3d56_11e9_9853_38baf84622afrow5_col0 {\n",
       "            background-color:  #445acc;\n",
       "        }    #T_f538a59e_3d56_11e9_9853_38baf84622afrow5_col1 {\n",
       "            background-color:  #3b4cc0;\n",
       "        }    #T_f538a59e_3d56_11e9_9853_38baf84622afrow5_col2 {\n",
       "            background-color:  #4a63d3;\n",
       "        }    #T_f538a59e_3d56_11e9_9853_38baf84622afrow5_col3 {\n",
       "            background-color:  #6b8df0;\n",
       "        }    #T_f538a59e_3d56_11e9_9853_38baf84622afrow5_col4 {\n",
       "            background-color:  #688aef;\n",
       "        }    #T_f538a59e_3d56_11e9_9853_38baf84622afrow5_col5 {\n",
       "            background-color:  #b40426;\n",
       "        }    #T_f538a59e_3d56_11e9_9853_38baf84622afrow5_col6 {\n",
       "            background-color:  #4f69d9;\n",
       "        }    #T_f538a59e_3d56_11e9_9853_38baf84622afrow5_col7 {\n",
       "            background-color:  #455cce;\n",
       "        }    #T_f538a59e_3d56_11e9_9853_38baf84622afrow6_col0 {\n",
       "            background-color:  #5875e1;\n",
       "        }    #T_f538a59e_3d56_11e9_9853_38baf84622afrow6_col1 {\n",
       "            background-color:  #3b4cc0;\n",
       "        }    #T_f538a59e_3d56_11e9_9853_38baf84622afrow6_col2 {\n",
       "            background-color:  #5d7ce6;\n",
       "        }    #T_f538a59e_3d56_11e9_9853_38baf84622afrow6_col3 {\n",
       "            background-color:  #c7d7f0;\n",
       "        }    #T_f538a59e_3d56_11e9_9853_38baf84622afrow6_col4 {\n",
       "            background-color:  #6a8bef;\n",
       "        }    #T_f538a59e_3d56_11e9_9853_38baf84622afrow6_col5 {\n",
       "            background-color:  #5673e0;\n",
       "        }    #T_f538a59e_3d56_11e9_9853_38baf84622afrow6_col6 {\n",
       "            background-color:  #b40426;\n",
       "        }    #T_f538a59e_3d56_11e9_9853_38baf84622afrow6_col7 {\n",
       "            background-color:  #d1493f;\n",
       "        }    #T_f538a59e_3d56_11e9_9853_38baf84622afrow7_col0 {\n",
       "            background-color:  #506bda;\n",
       "        }    #T_f538a59e_3d56_11e9_9853_38baf84622afrow7_col1 {\n",
       "            background-color:  #3b4cc0;\n",
       "        }    #T_f538a59e_3d56_11e9_9853_38baf84622afrow7_col2 {\n",
       "            background-color:  #5f7fe8;\n",
       "        }    #T_f538a59e_3d56_11e9_9853_38baf84622afrow7_col3 {\n",
       "            background-color:  #a5c3fe;\n",
       "        }    #T_f538a59e_3d56_11e9_9853_38baf84622afrow7_col4 {\n",
       "            background-color:  #5d7ce6;\n",
       "        }    #T_f538a59e_3d56_11e9_9853_38baf84622afrow7_col5 {\n",
       "            background-color:  #4961d2;\n",
       "        }    #T_f538a59e_3d56_11e9_9853_38baf84622afrow7_col6 {\n",
       "            background-color:  #d1493f;\n",
       "        }    #T_f538a59e_3d56_11e9_9853_38baf84622afrow7_col7 {\n",
       "            background-color:  #b40426;\n",
       "        }</style>  \n",
       "<table id=\"T_f538a59e_3d56_11e9_9853_38baf84622af\" > \n",
       "<thead>    <tr> \n",
       "        <th class=\"blank level0\" ></th> \n",
       "        <th class=\"col_heading level0 col0\" >rating_numerator</th> \n",
       "        <th class=\"col_heading level0 col1\" >rating_denominator</th> \n",
       "        <th class=\"col_heading level0 col2\" >number_categories</th> \n",
       "        <th class=\"col_heading level0 col3\" >rating</th> \n",
       "        <th class=\"col_heading level0 col4\" >img_number</th> \n",
       "        <th class=\"col_heading level0 col5\" >prediction_confidence</th> \n",
       "        <th class=\"col_heading level0 col6\" >favorites</th> \n",
       "        <th class=\"col_heading level0 col7\" >retweets</th> \n",
       "    </tr></thead> \n",
       "<tbody>    <tr> \n",
       "        <th id=\"T_f538a59e_3d56_11e9_9853_38baf84622aflevel0_row0\" class=\"row_heading level0 row0\" >rating_numerator</th> \n",
       "        <td id=\"T_f538a59e_3d56_11e9_9853_38baf84622afrow0_col0\" class=\"data row0 col0\" >1.0</td> \n",
       "        <td id=\"T_f538a59e_3d56_11e9_9853_38baf84622afrow0_col1\" class=\"data row0 col1\" >0.97</td> \n",
       "        <td id=\"T_f538a59e_3d56_11e9_9853_38baf84622afrow0_col2\" class=\"data row0 col2\" >-0.0099</td> \n",
       "        <td id=\"T_f538a59e_3d56_11e9_9853_38baf84622afrow0_col3\" class=\"data row0 col3\" >0.24</td> \n",
       "        <td id=\"T_f538a59e_3d56_11e9_9853_38baf84622afrow0_col4\" class=\"data row0 col4\" >0.041</td> \n",
       "        <td id=\"T_f538a59e_3d56_11e9_9853_38baf84622afrow0_col5\" class=\"data row0 col5\" >0.027</td> \n",
       "        <td id=\"T_f538a59e_3d56_11e9_9853_38baf84622afrow0_col6\" class=\"data row0 col6\" >0.068</td> \n",
       "        <td id=\"T_f538a59e_3d56_11e9_9853_38baf84622afrow0_col7\" class=\"data row0 col7\" >0.052</td> \n",
       "    </tr>    <tr> \n",
       "        <th id=\"T_f538a59e_3d56_11e9_9853_38baf84622aflevel0_row1\" class=\"row_heading level0 row1\" >rating_denominator</th> \n",
       "        <td id=\"T_f538a59e_3d56_11e9_9853_38baf84622afrow1_col0\" class=\"data row1 col0\" >0.97</td> \n",
       "        <td id=\"T_f538a59e_3d56_11e9_9853_38baf84622afrow1_col1\" class=\"data row1 col1\" >1.0</td> \n",
       "        <td id=\"T_f538a59e_3d56_11e9_9853_38baf84622afrow1_col2\" class=\"data row1 col2\" >-0.031</td> \n",
       "        <td id=\"T_f538a59e_3d56_11e9_9853_38baf84622afrow1_col3\" class=\"data row1 col3\" >0.0075</td> \n",
       "        <td id=\"T_f538a59e_3d56_11e9_9853_38baf84622afrow1_col4\" class=\"data row1 col4\" >-0.00049</td> \n",
       "        <td id=\"T_f538a59e_3d56_11e9_9853_38baf84622afrow1_col5\" class=\"data row1 col5\" >-0.0067</td> \n",
       "        <td id=\"T_f538a59e_3d56_11e9_9853_38baf84622afrow1_col6\" class=\"data row1 col6\" >-0.03</td> \n",
       "        <td id=\"T_f538a59e_3d56_11e9_9853_38baf84622afrow1_col7\" class=\"data row1 col7\" >-0.021</td> \n",
       "    </tr>    <tr> \n",
       "        <th id=\"T_f538a59e_3d56_11e9_9853_38baf84622aflevel0_row2\" class=\"row_heading level0 row2\" >number_categories</th> \n",
       "        <td id=\"T_f538a59e_3d56_11e9_9853_38baf84622afrow2_col0\" class=\"data row2 col0\" >-0.0099</td> \n",
       "        <td id=\"T_f538a59e_3d56_11e9_9853_38baf84622afrow2_col1\" class=\"data row2 col1\" >-0.031</td> \n",
       "        <td id=\"T_f538a59e_3d56_11e9_9853_38baf84622afrow2_col2\" class=\"data row2 col2\" >1.0</td> \n",
       "        <td id=\"T_f538a59e_3d56_11e9_9853_38baf84622afrow2_col3\" class=\"data row2 col3\" >0.083</td> \n",
       "        <td id=\"T_f538a59e_3d56_11e9_9853_38baf84622afrow2_col4\" class=\"data row2 col4\" >0.05</td> \n",
       "        <td id=\"T_f538a59e_3d56_11e9_9853_38baf84622afrow2_col5\" class=\"data row2 col5\" >0.048</td> \n",
       "        <td id=\"T_f538a59e_3d56_11e9_9853_38baf84622afrow2_col6\" class=\"data row2 col6\" >0.086</td> \n",
       "        <td id=\"T_f538a59e_3d56_11e9_9853_38baf84622afrow2_col7\" class=\"data row2 col7\" >0.1</td> \n",
       "    </tr>    <tr> \n",
       "        <th id=\"T_f538a59e_3d56_11e9_9853_38baf84622aflevel0_row3\" class=\"row_heading level0 row3\" >rating</th> \n",
       "        <td id=\"T_f538a59e_3d56_11e9_9853_38baf84622afrow3_col0\" class=\"data row3 col0\" >0.24</td> \n",
       "        <td id=\"T_f538a59e_3d56_11e9_9853_38baf84622afrow3_col1\" class=\"data row3 col1\" >0.0075</td> \n",
       "        <td id=\"T_f538a59e_3d56_11e9_9853_38baf84622afrow3_col2\" class=\"data row3 col2\" >0.083</td> \n",
       "        <td id=\"T_f538a59e_3d56_11e9_9853_38baf84622afrow3_col3\" class=\"data row3 col3\" >1.0</td> \n",
       "        <td id=\"T_f538a59e_3d56_11e9_9853_38baf84622afrow3_col4\" class=\"data row3 col4\" >0.17</td> \n",
       "        <td id=\"T_f538a59e_3d56_11e9_9853_38baf84622afrow3_col5\" class=\"data row3 col5\" >0.15</td> \n",
       "        <td id=\"T_f538a59e_3d56_11e9_9853_38baf84622afrow3_col6\" class=\"data row3 col6\" >0.41</td> \n",
       "        <td id=\"T_f538a59e_3d56_11e9_9853_38baf84622afrow3_col7\" class=\"data row3 col7\" >0.3</td> \n",
       "    </tr>    <tr> \n",
       "        <th id=\"T_f538a59e_3d56_11e9_9853_38baf84622aflevel0_row4\" class=\"row_heading level0 row4\" >img_number</th> \n",
       "        <td id=\"T_f538a59e_3d56_11e9_9853_38baf84622afrow4_col0\" class=\"data row4 col0\" >0.041</td> \n",
       "        <td id=\"T_f538a59e_3d56_11e9_9853_38baf84622afrow4_col1\" class=\"data row4 col1\" >-0.00049</td> \n",
       "        <td id=\"T_f538a59e_3d56_11e9_9853_38baf84622afrow4_col2\" class=\"data row4 col2\" >0.05</td> \n",
       "        <td id=\"T_f538a59e_3d56_11e9_9853_38baf84622afrow4_col3\" class=\"data row4 col3\" >0.17</td> \n",
       "        <td id=\"T_f538a59e_3d56_11e9_9853_38baf84622afrow4_col4\" class=\"data row4 col4\" >1.0</td> \n",
       "        <td id=\"T_f538a59e_3d56_11e9_9853_38baf84622afrow4_col5\" class=\"data row4 col5\" >0.14</td> \n",
       "        <td id=\"T_f538a59e_3d56_11e9_9853_38baf84622afrow4_col6\" class=\"data row4 col6\" >0.12</td> \n",
       "        <td id=\"T_f538a59e_3d56_11e9_9853_38baf84622afrow4_col7\" class=\"data row4 col7\" >0.094</td> \n",
       "    </tr>    <tr> \n",
       "        <th id=\"T_f538a59e_3d56_11e9_9853_38baf84622aflevel0_row5\" class=\"row_heading level0 row5\" >prediction_confidence</th> \n",
       "        <td id=\"T_f538a59e_3d56_11e9_9853_38baf84622afrow5_col0\" class=\"data row5 col0\" >0.027</td> \n",
       "        <td id=\"T_f538a59e_3d56_11e9_9853_38baf84622afrow5_col1\" class=\"data row5 col1\" >-0.0067</td> \n",
       "        <td id=\"T_f538a59e_3d56_11e9_9853_38baf84622afrow5_col2\" class=\"data row5 col2\" >0.048</td> \n",
       "        <td id=\"T_f538a59e_3d56_11e9_9853_38baf84622afrow5_col3\" class=\"data row5 col3\" >0.15</td> \n",
       "        <td id=\"T_f538a59e_3d56_11e9_9853_38baf84622afrow5_col4\" class=\"data row5 col4\" >0.14</td> \n",
       "        <td id=\"T_f538a59e_3d56_11e9_9853_38baf84622afrow5_col5\" class=\"data row5 col5\" >1.0</td> \n",
       "        <td id=\"T_f538a59e_3d56_11e9_9853_38baf84622afrow5_col6\" class=\"data row5 col6\" >0.063</td> \n",
       "        <td id=\"T_f538a59e_3d56_11e9_9853_38baf84622afrow5_col7\" class=\"data row5 col7\" >0.029</td> \n",
       "    </tr>    <tr> \n",
       "        <th id=\"T_f538a59e_3d56_11e9_9853_38baf84622aflevel0_row6\" class=\"row_heading level0 row6\" >favorites</th> \n",
       "        <td id=\"T_f538a59e_3d56_11e9_9853_38baf84622afrow6_col0\" class=\"data row6 col0\" >0.068</td> \n",
       "        <td id=\"T_f538a59e_3d56_11e9_9853_38baf84622afrow6_col1\" class=\"data row6 col1\" >-0.03</td> \n",
       "        <td id=\"T_f538a59e_3d56_11e9_9853_38baf84622afrow6_col2\" class=\"data row6 col2\" >0.086</td> \n",
       "        <td id=\"T_f538a59e_3d56_11e9_9853_38baf84622afrow6_col3\" class=\"data row6 col3\" >0.41</td> \n",
       "        <td id=\"T_f538a59e_3d56_11e9_9853_38baf84622afrow6_col4\" class=\"data row6 col4\" >0.12</td> \n",
       "        <td id=\"T_f538a59e_3d56_11e9_9853_38baf84622afrow6_col5\" class=\"data row6 col5\" >0.063</td> \n",
       "        <td id=\"T_f538a59e_3d56_11e9_9853_38baf84622afrow6_col6\" class=\"data row6 col6\" >1.0</td> \n",
       "        <td id=\"T_f538a59e_3d56_11e9_9853_38baf84622afrow6_col7\" class=\"data row6 col7\" >0.91</td> \n",
       "    </tr>    <tr> \n",
       "        <th id=\"T_f538a59e_3d56_11e9_9853_38baf84622aflevel0_row7\" class=\"row_heading level0 row7\" >retweets</th> \n",
       "        <td id=\"T_f538a59e_3d56_11e9_9853_38baf84622afrow7_col0\" class=\"data row7 col0\" >0.052</td> \n",
       "        <td id=\"T_f538a59e_3d56_11e9_9853_38baf84622afrow7_col1\" class=\"data row7 col1\" >-0.021</td> \n",
       "        <td id=\"T_f538a59e_3d56_11e9_9853_38baf84622afrow7_col2\" class=\"data row7 col2\" >0.1</td> \n",
       "        <td id=\"T_f538a59e_3d56_11e9_9853_38baf84622afrow7_col3\" class=\"data row7 col3\" >0.3</td> \n",
       "        <td id=\"T_f538a59e_3d56_11e9_9853_38baf84622afrow7_col4\" class=\"data row7 col4\" >0.094</td> \n",
       "        <td id=\"T_f538a59e_3d56_11e9_9853_38baf84622afrow7_col5\" class=\"data row7 col5\" >0.029</td> \n",
       "        <td id=\"T_f538a59e_3d56_11e9_9853_38baf84622afrow7_col6\" class=\"data row7 col6\" >0.91</td> \n",
       "        <td id=\"T_f538a59e_3d56_11e9_9853_38baf84622afrow7_col7\" class=\"data row7 col7\" >1.0</td> \n",
       "    </tr></tbody> \n",
       "</table> "
      ],
      "text/plain": [
       "<pandas.io.formats.style.Styler at 0x20e67e8cf60>"
      ]
     },
     "execution_count": 74,
     "metadata": {},
     "output_type": "execute_result"
    }
   ],
   "source": [
    "# compute the Pearson correlation coefficient\n",
    "df.corr(method='pearson').style.format(\"{:.2}\").background_gradient(cmap=plt.get_cmap('coolwarm'), axis=1)"
   ]
  },
  {
   "cell_type": "markdown",
   "metadata": {},
   "source": [
    "In addition to looking at the basic statistics, it is also worth to look at correlations. As we can see in the above correlogram, favorites and retweets counts are strongly correlated."
   ]
  },
  {
   "cell_type": "markdown",
   "metadata": {},
   "source": [
    "### Tweets over time"
   ]
  },
  {
   "cell_type": "code",
   "execution_count": 75,
   "metadata": {},
   "outputs": [
    {
     "data": {
      "image/png": "[encoded data removed]",
      "text/plain": [
       "<Figure size 720x504 with 1 Axes>"
      ]
     },
     "metadata": {
      "needs_background": "light"
     },
     "output_type": "display_data"
    }
   ],
   "source": [
    "# group data by month and year\n",
    "tweets_time = pd.DataFrame(df.timestamp)\n",
    "tweets_time = tweets_time.groupby([df.timestamp.dt.year, tweets_time.timestamp.dt.month]).count()\n",
    "tweets_time.index = [datetime(year=int(y), month=int(m), day=15) for y, m in tweets_time.index]\n",
    "\n",
    "# plot\n",
    "plot_line(tweets_time.index, \n",
    "          tweets_time.timestamp,\n",
    "          title=\"Tweets over time\",\n",
    "          ylabel=\"Tweets\")"
   ]
  },
  {
   "cell_type": "markdown",
   "metadata": {},
   "source": [
    "Most of the tweets we have come from the beginning of 2016. Then, the number of tweets gradually decreases. We can suppose that at the beginning the account created more tweets trying to gain popularity. Once it became popular, the number of tweets fell."
   ]
  },
  {
   "cell_type": "markdown",
   "metadata": {},
   "source": [
    "### Tweets by Source"
   ]
  },
  {
   "cell_type": "code",
   "execution_count": 76,
   "metadata": {},
   "outputs": [
    {
     "data": {
      "image/png": "[encoded data removed]",
      "text/plain": [
       "<Figure size 720x504 with 1 Axes>"
      ]
     },
     "metadata": {
      "needs_background": "light"
     },
     "output_type": "display_data"
    }
   ],
   "source": [
    "# get value counts and save as dataframe\n",
    "source_types = pd.DataFrame(df.source.value_counts())\n",
    "\n",
    "# plot\n",
    "plot_bar(source_types.index, \n",
    "         source_types.source, \n",
    "         width=0.25)"
   ]
  },
  {
   "cell_type": "markdown",
   "metadata": {},
   "source": [
    "It is interesting to see that almost all tweets were created from the iPhone app and only a fraction from the web browser."
   ]
  },
  {
   "cell_type": "markdown",
   "metadata": {},
   "source": [
    "### Dog names"
   ]
  },
  {
   "cell_type": "code",
   "execution_count": 77,
   "metadata": {},
   "outputs": [],
   "source": [
    "# join all names but skip NaNs\n",
    "# https://stackoverflow.com/a/944712/7382214\n",
    "text = \" \".join(str(name) for name in df.name if name == name)"
   ]
  },
  {
   "cell_type": "code",
   "execution_count": 78,
   "metadata": {},
   "outputs": [
    {
     "data": {
      "image/png": "[encoded data removed]",
      "text/plain": [
       "<Figure size 720x504 with 1 Axes>"
      ]
     },
     "metadata": {
      "needs_background": "light"
     },
     "output_type": "display_data"
    }
   ],
   "source": [
    "# generate wordCloud with dog names\n",
    "wordcloud = WordCloud(background_color=\"white\").generate(text)\n",
    "\n",
    "plt.figure(figsize=[10,7])\n",
    "plt.imshow(wordcloud, interpolation='bilinear')\n",
    "plt.axis(\"off\")\n",
    "plt.show()"
   ]
  },
  {
   "cell_type": "markdown",
   "metadata": {},
   "source": [
    "As we can see in the above word cloud, Charlie, Cooper, Lucy, Oliver, Tucker, and Penny are the most popular dog names :)"
   ]
  },
  {
   "cell_type": "markdown",
   "metadata": {},
   "source": [
    "### Dog Type"
   ]
  },
  {
   "cell_type": "code",
   "execution_count": 79,
   "metadata": {},
   "outputs": [
    {
     "data": {
      "image/png": "[encoded data removed]",
      "text/plain": [
       "<Figure size 720x504 with 1 Axes>"
      ]
     },
     "metadata": {
      "needs_background": "light"
     },
     "output_type": "display_data"
    }
   ],
   "source": [
    "# plot dog types\n",
    "dog_types = pd.DataFrame(df.dog_type.value_counts())\n",
    "\n",
    "plot_bar(dog_types.index,\n",
    "         dog_types.dog_type,\n",
    "         width=0.25, \n",
    "         title=\"Dog Types\", \n",
    "         ylabel=\"Count\")"
   ]
  },
  {
   "cell_type": "markdown",
   "metadata": {},
   "source": [
    "Pupper is the most common dog category, followed by Doggo. Floofer is very rare."
   ]
  },
  {
   "cell_type": "markdown",
   "metadata": {},
   "source": [
    "### Rating"
   ]
  },
  {
   "cell_type": "code",
   "execution_count": 80,
   "metadata": {},
   "outputs": [
    {
     "data": {
      "text/plain": [
       "count    1686.000000\n",
       "mean     1.085295   \n",
       "std      0.186785   \n",
       "min      0.000000   \n",
       "25%      1.000000   \n",
       "50%      1.100000   \n",
       "75%      1.200000   \n",
       "max      3.428571   \n",
       "Name: rating, dtype: float64"
      ]
     },
     "execution_count": 80,
     "metadata": {},
     "output_type": "execute_result"
    }
   ],
   "source": [
    "df.rating.describe()"
   ]
  },
  {
   "cell_type": "code",
   "execution_count": 81,
   "metadata": {},
   "outputs": [
    {
     "data": {
      "image/png": "[encoded data removed]",
      "text/plain": [
       "<Figure size 720x504 with 1 Axes>"
      ]
     },
     "metadata": {
      "needs_background": "light"
     },
     "output_type": "display_data"
    }
   ],
   "source": [
    "# plot rating over time\n",
    "plot_line(df.timestamp, \n",
    "          df.rating,\n",
    "          title=\"Rating over time\", \n",
    "          ylabel=\"Rating\", \n",
    "          marker='o', \n",
    "          linestyle='', \n",
    "          ylim=(0,1.5), \n",
    "          xrotation=75)"
   ]
  },
  {
   "cell_type": "markdown",
   "metadata": {},
   "source": [
    "At the beginning of the account activity, the lower ratings were more frequent. With the elapse of time, less and less dogs received a low rating, and more and more high."
   ]
  },
  {
   "cell_type": "code",
   "execution_count": 82,
   "metadata": {},
   "outputs": [
    {
     "data": {
      "image/png": "[encoded data removed]",
      "text/plain": [
       "<Figure size 720x504 with 1 Axes>"
      ]
     },
     "metadata": {
      "needs_background": "light"
     },
     "output_type": "display_data"
    }
   ],
   "source": [
    "# plot rating and retweets count\n",
    "rating_quantile = df.rating.quantile(q=0.99)\n",
    "retweets_quantile = df.retweets.quantile(q=0.99)\n",
    "\n",
    "plot_line(df.retweets, \n",
    "          df.rating,\n",
    "          title=\"Retweets by rating\",\n",
    "          xlabel=\"Retweets\", \n",
    "          ylabel=\"Rating\",\n",
    "          marker='o', \n",
    "          linestyle='',\n",
    "          ylim=(0, rating_quantile + 0.1),\n",
    "          xlim=(0, retweets_quantile))"
   ]
  },
  {
   "cell_type": "markdown",
   "metadata": {},
   "source": [
    "As we can see in the above plot, tweets with high ratings are often retweeted. Let's see if the same relationship exists for favorites."
   ]
  },
  {
   "cell_type": "code",
   "execution_count": 83,
   "metadata": {},
   "outputs": [
    {
     "data": {
      "image/png": "[encoded data removed]",
      "text/plain": [
       "<Figure size 720x504 with 1 Axes>"
      ]
     },
     "metadata": {
      "needs_background": "light"
     },
     "output_type": "display_data"
    }
   ],
   "source": [
    "# plot rating and favorites count\n",
    "favorites_quantile = df.favorites.quantile(q=0.99)\n",
    "\n",
    "plot_line(df.favorites, \n",
    "          df.rating,\n",
    "          title=\"Favorites by rating\",\n",
    "          xlabel=\"Favorites\", \n",
    "          ylabel=\"Rating\",\n",
    "          marker='o', \n",
    "          linestyle='',\n",
    "          ylim=(0, rating_quantile + 0.1),\n",
    "          xlim=(0, retweets_quantile))"
   ]
  },
  {
   "cell_type": "markdown",
   "metadata": {},
   "source": [
    "Here again, we see that the higher rating links with more favorites."
   ]
  },
  {
   "cell_type": "markdown",
   "metadata": {},
   "source": [
    "### Favorites and Retweets "
   ]
  },
  {
   "cell_type": "code",
   "execution_count": 84,
   "metadata": {},
   "outputs": [
    {
     "data": {
      "text/plain": [
       "count    1686.000000  \n",
       "mean     9233.109727  \n",
       "std      12583.246963 \n",
       "min      81.000000    \n",
       "25%      2163.250000  \n",
       "50%      4440.000000  \n",
       "75%      11656.750000 \n",
       "max      132810.000000\n",
       "Name: favorites, dtype: float64"
      ]
     },
     "execution_count": 84,
     "metadata": {},
     "output_type": "execute_result"
    }
   ],
   "source": [
    "df.favorites.describe()"
   ]
  },
  {
   "cell_type": "code",
   "execution_count": 85,
   "metadata": {},
   "outputs": [
    {
     "data": {
      "image/png": "[encoded data removed]",
      "text/plain": [
       "<Figure size 720x504 with 1 Axes>"
      ]
     },
     "metadata": {
      "needs_background": "light"
     },
     "output_type": "display_data"
    }
   ],
   "source": [
    "# plot favorites frequency\n",
    "favorites_quantile = df.favorites.quantile(q=0.99)\n",
    "\n",
    "plot_hist(df.favorites,\n",
    "          title=\"Favorites\",\n",
    "          xlabel=\"Favorites\",\n",
    "          ylabel=\"Frequency\",\n",
    "          xlim=(0,favorites_quantile))"
   ]
  },
  {
   "cell_type": "code",
   "execution_count": 86,
   "metadata": {},
   "outputs": [
    {
     "data": {
      "image/png": "[encoded data removed]",
      "text/plain": [
       "<Figure size 720x504 with 1 Axes>"
      ]
     },
     "metadata": {
      "needs_background": "light"
     },
     "output_type": "display_data"
    }
   ],
   "source": [
    "# plot favorites over time\n",
    "plot_line(df.timestamp, \n",
    "          df.favorites,\n",
    "          title=\"Favorites over time\", \n",
    "          ylabel=\"Favorites\", \n",
    "          marker='o', \n",
    "          linestyle='',\n",
    "          xrotation=75)"
   ]
  },
  {
   "cell_type": "markdown",
   "metadata": {},
   "source": [
    "We see an upward trend in the number of favorites. Let's look at retweets."
   ]
  },
  {
   "cell_type": "code",
   "execution_count": 87,
   "metadata": {},
   "outputs": [
    {
     "data": {
      "text/plain": [
       "count    1686.000000 \n",
       "mean     2817.118031 \n",
       "std      4807.199770 \n",
       "min      16.000000   \n",
       "25%      649.250000  \n",
       "50%      1437.500000 \n",
       "75%      3247.750000 \n",
       "max      79515.000000\n",
       "Name: retweets, dtype: float64"
      ]
     },
     "execution_count": 87,
     "metadata": {},
     "output_type": "execute_result"
    }
   ],
   "source": [
    "df.retweets.describe()"
   ]
  },
  {
   "cell_type": "code",
   "execution_count": 88,
   "metadata": {},
   "outputs": [
    {
     "data": {
      "image/png": "[encoded data removed]",
      "text/plain": [
       "<Figure size 720x504 with 1 Axes>"
      ]
     },
     "metadata": {
      "needs_background": "light"
     },
     "output_type": "display_data"
    }
   ],
   "source": [
    "# plot retweets frequency\n",
    "retweets_quantile = df.retweets.quantile(q=0.99)\n",
    "\n",
    "plot_hist(df.retweets,\n",
    "          title=\"Retweets\",\n",
    "          xlabel=\"Retweets\",\n",
    "          ylabel=\"Frequency\",\n",
    "          xlim=(0,retweets_quantile))"
   ]
  },
  {
   "cell_type": "code",
   "execution_count": 89,
   "metadata": {},
   "outputs": [
    {
     "data": {
      "image/png": "[encoded data removed]",
      "text/plain": [
       "<Figure size 720x504 with 1 Axes>"
      ]
     },
     "metadata": {
      "needs_background": "light"
     },
     "output_type": "display_data"
    }
   ],
   "source": [
    "# plot retweets over time\n",
    "plot_line(df.timestamp, \n",
    "          df.retweets,\n",
    "          title=\"Retweets over time\", \n",
    "          ylabel=\"Retweets\", \n",
    "          marker='o', \n",
    "          linestyle='',\n",
    "          xrotation=75)"
   ]
  },
  {
   "cell_type": "markdown",
   "metadata": {},
   "source": [
    "The amount of retweets seems to be quite constant, with a slight increase in recent years. Now let's look at the retweets and favorites relation."
   ]
  },
  {
   "cell_type": "code",
   "execution_count": 90,
   "metadata": {},
   "outputs": [
    {
     "data": {
      "image/png": "[encoded data removed]",
      "text/plain": [
       "<Figure size 720x504 with 1 Axes>"
      ]
     },
     "metadata": {
      "needs_background": "light"
     },
     "output_type": "display_data"
    }
   ],
   "source": [
    "# plot favorites and retweets\n",
    "plot_scatter(df.favorites,\n",
    "             df.retweets,\n",
    "             title=\"Favorites and retweets relation\",\n",
    "             xlabel=\"Favorites\",\n",
    "             ylabel=\"Retweets\")"
   ]
  },
  {
   "cell_type": "markdown",
   "metadata": {},
   "source": [
    "In the plot above, we see correlations between the values. This relationship will be even more evident if we use log10."
   ]
  },
  {
   "cell_type": "code",
   "execution_count": 91,
   "metadata": {},
   "outputs": [
    {
     "data": {
      "image/png": "[encoded data removed]",
      "text/plain": [
       "<Figure size 720x504 with 1 Axes>"
      ]
     },
     "metadata": {
      "needs_background": "light"
     },
     "output_type": "display_data"
    }
   ],
   "source": [
    "# plot favorites and retweets log10\n",
    "plot_scatter(df.favorites,\n",
    "             df.retweets, \n",
    "             title=\"Favorites and retweets relation (log10)\",\n",
    "             xlabel=\"Favorites (log10)\",\n",
    "             ylabel=\"Retweets (log10)\",\n",
    "             xscale=\"log\", \n",
    "             yscale=\"log\",)"
   ]
  },
  {
   "cell_type": "markdown",
   "metadata": {},
   "source": [
    "After using log10, the correlation becomes even more visible than before. "
   ]
  },
  {
   "cell_type": "code",
   "execution_count": null,
   "metadata": {},
   "outputs": [],
   "source": []
  }
 ],
 "metadata": {
  "kernelspec": {
   "display_name": "Python 3",
   "language": "python",
   "name": "python3"
  },
  "language_info": {
   "codemirror_mode": {
    "name": "ipython",
    "version": 3
   },
   "file_extension": ".py",
   "mimetype": "text/x-python",
   "name": "python",
   "nbconvert_exporter": "python",
   "pygments_lexer": "ipython3",
   "version": "3.7.1"
  }
 },
 "nbformat": 4,
 "nbformat_minor": 2
}
