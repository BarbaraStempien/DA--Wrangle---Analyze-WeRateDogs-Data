{
 "cells": [
  {
   "cell_type": "markdown",
   "metadata": {},
   "source": [
    "# Wrangle & Analyze WeRateDogs Data\n",
    "\n",
    "<hr>\n",
    "\n",
    "#### Table of Contents:\n",
    "* [Project Description](#Project-Description)  \n",
    "* [Notebook Setup](#Notebook-Setup)  \n",
    "<br/> \n",
    "* [Gathering Data](#Gathering-Data)\n",
    "    * [Enhanced Twitter Archive](#Gether:-Enhanced-Twitter-Archive)  \n",
    "    * [Image Predictions File](#Gether:-Image-Predictions-File)  \n",
    "    * [Twitter API File](#Gether:-Twitter-API-File)  \n",
    "<br/> \n",
    "* [Assessing Data](#Assessing-Data)\n",
    "    * [Twitter Archive Data](#Assess:-Twitter-Archive-Data)  \n",
    "    * [Image Predictions](#Assess:-Image-Predictions)  \n",
    "    * [Twitter API Data](#Assess:-Twitter-API-Data)  \n",
    "<br/> \n",
    "* [Cleaning Data](#Cleaning-Data)\n",
    "    * [Twitter Archive Data](#Clean:-Twitter-Archive-Data)  \n",
    "    * [Image Predictions](#Clean:-Image-Predictions)  \n",
    "    * [Twitter API Data](#Clean:-Twitter-API-Data)  \n",
    "    * [Merge Datasets](#Clean:-Merge-Datasets)  \n",
    "<br/> \n",
    "* [Analyzing Data](#Analyzing-Data)\n",
    "    * [Tweets over time](#Tweets-over-time)\n",
    "    * [Tweets by source](#Tweets-by-Source)\n",
    "    * [Dog names](#Dog-names)\n",
    "    * [Dog types](#Dog-types)\n",
    "    * [Dog breeds](#Dog-Breeds)\n",
    "    * [Rating](#Rating)\n",
    "    * [Favorites and Retweets](#Favorites-and-Retweets)  \n",
    "<br/> \n",
    "* [Conclusions](#Conclusions)\n",
    "<hr>\n",
    "\n",
    "## Project Description\n",
    "\n",
    "Real-world data rarely comes clean. Using Python and its libraries, I will gather data from a variety of sources and in a variety of formats, assess its quality and tidiness, then clean it. This is called data wrangling. I will document my wrangling efforts in a Jupyter Notebook, plus showcase them through analyses and visualizations using Python.\n",
    "\n",
    "The dataset that I will be wrangling (and analyzing and visualizing) is the tweet archive of Twitter user @dog_rates, also known as WeRateDogs. WeRateDogs is a Twitter account that rates people's dogs with a humorous comment about the dog. These ratings almost always have a denominator of 10. The numerators, though? Almost always greater than 10. 11/10, 12/10, 13/10, etc. Why? Because \"they're good dogs Brent.\" WeRateDogs has over 4 million followers and has received international media coverage.\n",
    "\n",
    "<p align=\"center\">\n",
    "  <img src=\"img/dog-rates-social.jpg\" width=\"600\">\n",
    "</p>\n",
    "\n",
    "The WeRateDogs Twitter archive contains basic tweet data for all 5000+ of their tweets, but not everything. One column the archive does contain though: each tweet's text, which I used to extract rating, dog name, and dog \"stage\" (i.e. doggo, floofer, pupper, and puppo) to make this Twitter archive \"enhanced.\" Of the 5000+ tweets, I have filtered for tweets with ratings only (there are 2356).\n",
    "\n",
    "<p align=\"center\">\n",
    "  <img src=\"img/data.png\" width=\"1300\">\n",
    "</p>\n",
    "\n",
    "Retweet count and favorite count are two of the notable column omissions. Fortunately, this additional data can be gathered from Twitter's API, which I will do."
   ]
  },
  {
   "cell_type": "markdown",
   "metadata": {},
   "source": [
    "## Notebook Setup\n",
    "\n",
    "Load libraries and set pandas display options.\n",
    "\n",
    "<hr>"
   ]
  },
  {
   "cell_type": "code",
   "execution_count": 1,
   "metadata": {},
   "outputs": [],
   "source": [
    "# import libraries\n",
    "import numpy as np\n",
    "import pandas as pd\n",
    "import requests\n",
    "import json\n",
    "from datetime import datetime\n",
    "import re\n",
    "from stop_words import get_stop_words\n",
    "from functools import reduce\n",
    "\n",
    "import matplotlib.pyplot as plt\n",
    "import matplotlib.colors as colors\n",
    "import matplotlib.cm as cmx\n",
    "import seaborn as sns\n",
    "\n",
    "from wordcloud import WordCloud, ImageColorGenerator\n",
    "from PIL import Image\n",
    "\n",
    "# pandas settings\n",
    "pd.set_option('display.max_colwidth', -1)\n",
    "\n",
    "# matplotlib magic\n",
    "%matplotlib inline"
   ]
  },
  {
   "cell_type": "markdown",
   "metadata": {},
   "source": [
    "## Gathering Data\n",
    "\n",
    "Gather data from various sources and a variety of file formats.\n",
    "\n",
    "<hr>\n",
    "\n",
    "* [Enhanced Twitter Archive](#Gether:-Enhanced-Twitter-Archive)  \n",
    "* [Image Predictions File](#Gether:-Image-Predictions-File)  \n",
    "* [Twitter API File](#Gether:-Twitter-API-File)\n",
    "\n",
    "\n",
    "### Gather: Enhanced Twitter Archive\n",
    "\n",
    "This archive contains basic tweet data (tweet ID, timestamp, text, etc.) for all 5000+ of their tweets as they stood on August 1, 2017."
   ]
  },
  {
   "cell_type": "code",
   "execution_count": 2,
   "metadata": {},
   "outputs": [
    {
     "data": {
      "text/html": [
       "<div>\n",
       "<style scoped>\n",
       "    .dataframe tbody tr th:only-of-type {\n",
       "        vertical-align: middle;\n",
       "    }\n",
       "\n",
       "    .dataframe tbody tr th {\n",
       "        vertical-align: top;\n",
       "    }\n",
       "\n",
       "    .dataframe thead th {\n",
       "        text-align: right;\n",
       "    }\n",
       "</style>\n",
       "<table border=\"1\" class=\"dataframe\">\n",
       "  <thead>\n",
       "    <tr style=\"text-align: right;\">\n",
       "      <th></th>\n",
       "      <th>in_reply_to_status_id</th>\n",
       "      <th>in_reply_to_user_id</th>\n",
       "      <th>timestamp</th>\n",
       "      <th>source</th>\n",
       "      <th>text</th>\n",
       "      <th>retweeted_status_id</th>\n",
       "      <th>retweeted_status_user_id</th>\n",
       "      <th>retweeted_status_timestamp</th>\n",
       "      <th>expanded_urls</th>\n",
       "      <th>rating_numerator</th>\n",
       "      <th>rating_denominator</th>\n",
       "      <th>name</th>\n",
       "      <th>doggo</th>\n",
       "      <th>floofer</th>\n",
       "      <th>pupper</th>\n",
       "      <th>puppo</th>\n",
       "    </tr>\n",
       "    <tr>\n",
       "      <th>tweet_id</th>\n",
       "      <th></th>\n",
       "      <th></th>\n",
       "      <th></th>\n",
       "      <th></th>\n",
       "      <th></th>\n",
       "      <th></th>\n",
       "      <th></th>\n",
       "      <th></th>\n",
       "      <th></th>\n",
       "      <th></th>\n",
       "      <th></th>\n",
       "      <th></th>\n",
       "      <th></th>\n",
       "      <th></th>\n",
       "      <th></th>\n",
       "      <th></th>\n",
       "    </tr>\n",
       "  </thead>\n",
       "  <tbody>\n",
       "    <tr>\n",
       "      <th>892420643555336193</th>\n",
       "      <td>NaN</td>\n",
       "      <td>NaN</td>\n",
       "      <td>2017-08-01 16:23:56 +0000</td>\n",
       "      <td>&lt;a href=\"http://twitter.com/download/iphone\" rel=\"nofollow\"&gt;Twitter for iPhone&lt;/a&gt;</td>\n",
       "      <td>This is Phineas. He's a mystical boy. Only ever appears in the hole of a donut. 13/10 https://t.co/MgUWQ76dJU</td>\n",
       "      <td>NaN</td>\n",
       "      <td>NaN</td>\n",
       "      <td>NaN</td>\n",
       "      <td>https://twitter.com/dog_rates/status/892420643555336193/photo/1</td>\n",
       "      <td>13</td>\n",
       "      <td>10</td>\n",
       "      <td>Phineas</td>\n",
       "      <td>None</td>\n",
       "      <td>None</td>\n",
       "      <td>None</td>\n",
       "      <td>None</td>\n",
       "    </tr>\n",
       "    <tr>\n",
       "      <th>892177421306343426</th>\n",
       "      <td>NaN</td>\n",
       "      <td>NaN</td>\n",
       "      <td>2017-08-01 00:17:27 +0000</td>\n",
       "      <td>&lt;a href=\"http://twitter.com/download/iphone\" rel=\"nofollow\"&gt;Twitter for iPhone&lt;/a&gt;</td>\n",
       "      <td>This is Tilly. She's just checking pup on you. Hopes you're doing ok. If not, she's available for pats, snugs, boops, the whole bit. 13/10 https://t.co/0Xxu71qeIV</td>\n",
       "      <td>NaN</td>\n",
       "      <td>NaN</td>\n",
       "      <td>NaN</td>\n",
       "      <td>https://twitter.com/dog_rates/status/892177421306343426/photo/1</td>\n",
       "      <td>13</td>\n",
       "      <td>10</td>\n",
       "      <td>Tilly</td>\n",
       "      <td>None</td>\n",
       "      <td>None</td>\n",
       "      <td>None</td>\n",
       "      <td>None</td>\n",
       "    </tr>\n",
       "    <tr>\n",
       "      <th>891815181378084864</th>\n",
       "      <td>NaN</td>\n",
       "      <td>NaN</td>\n",
       "      <td>2017-07-31 00:18:03 +0000</td>\n",
       "      <td>&lt;a href=\"http://twitter.com/download/iphone\" rel=\"nofollow\"&gt;Twitter for iPhone&lt;/a&gt;</td>\n",
       "      <td>This is Archie. He is a rare Norwegian Pouncing Corgo. Lives in the tall grass. You never know when one may strike. 12/10 https://t.co/wUnZnhtVJB</td>\n",
       "      <td>NaN</td>\n",
       "      <td>NaN</td>\n",
       "      <td>NaN</td>\n",
       "      <td>https://twitter.com/dog_rates/status/891815181378084864/photo/1</td>\n",
       "      <td>12</td>\n",
       "      <td>10</td>\n",
       "      <td>Archie</td>\n",
       "      <td>None</td>\n",
       "      <td>None</td>\n",
       "      <td>None</td>\n",
       "      <td>None</td>\n",
       "    </tr>\n",
       "  </tbody>\n",
       "</table>\n",
       "</div>"
      ],
      "text/plain": [
       "                    in_reply_to_status_id  in_reply_to_user_id  \\\n",
       "tweet_id                                                         \n",
       "892420643555336193 NaN                    NaN                    \n",
       "892177421306343426 NaN                    NaN                    \n",
       "891815181378084864 NaN                    NaN                    \n",
       "\n",
       "                                    timestamp  \\\n",
       "tweet_id                                        \n",
       "892420643555336193  2017-08-01 16:23:56 +0000   \n",
       "892177421306343426  2017-08-01 00:17:27 +0000   \n",
       "891815181378084864  2017-07-31 00:18:03 +0000   \n",
       "\n",
       "                                                                                                source  \\\n",
       "tweet_id                                                                                                 \n",
       "892420643555336193  <a href=\"http://twitter.com/download/iphone\" rel=\"nofollow\">Twitter for iPhone</a>   \n",
       "892177421306343426  <a href=\"http://twitter.com/download/iphone\" rel=\"nofollow\">Twitter for iPhone</a>   \n",
       "891815181378084864  <a href=\"http://twitter.com/download/iphone\" rel=\"nofollow\">Twitter for iPhone</a>   \n",
       "\n",
       "                                                                                                                                                                                  text  \\\n",
       "tweet_id                                                                                                                                                                                 \n",
       "892420643555336193  This is Phineas. He's a mystical boy. Only ever appears in the hole of a donut. 13/10 https://t.co/MgUWQ76dJU                                                        \n",
       "892177421306343426  This is Tilly. She's just checking pup on you. Hopes you're doing ok. If not, she's available for pats, snugs, boops, the whole bit. 13/10 https://t.co/0Xxu71qeIV   \n",
       "891815181378084864  This is Archie. He is a rare Norwegian Pouncing Corgo. Lives in the tall grass. You never know when one may strike. 12/10 https://t.co/wUnZnhtVJB                    \n",
       "\n",
       "                    retweeted_status_id  retweeted_status_user_id  \\\n",
       "tweet_id                                                            \n",
       "892420643555336193 NaN                  NaN                         \n",
       "892177421306343426 NaN                  NaN                         \n",
       "891815181378084864 NaN                  NaN                         \n",
       "\n",
       "                   retweeted_status_timestamp  \\\n",
       "tweet_id                                        \n",
       "892420643555336193  NaN                         \n",
       "892177421306343426  NaN                         \n",
       "891815181378084864  NaN                         \n",
       "\n",
       "                                                                      expanded_urls  \\\n",
       "tweet_id                                                                              \n",
       "892420643555336193  https://twitter.com/dog_rates/status/892420643555336193/photo/1   \n",
       "892177421306343426  https://twitter.com/dog_rates/status/892177421306343426/photo/1   \n",
       "891815181378084864  https://twitter.com/dog_rates/status/891815181378084864/photo/1   \n",
       "\n",
       "                    rating_numerator  rating_denominator     name doggo  \\\n",
       "tweet_id                                                                  \n",
       "892420643555336193  13                10                  Phineas  None   \n",
       "892177421306343426  13                10                  Tilly    None   \n",
       "891815181378084864  12                10                  Archie   None   \n",
       "\n",
       "                   floofer pupper puppo  \n",
       "tweet_id                                 \n",
       "892420643555336193  None    None   None  \n",
       "892177421306343426  None    None   None  \n",
       "891815181378084864  None    None   None  "
      ]
     },
     "execution_count": 2,
     "metadata": {},
     "output_type": "execute_result"
    }
   ],
   "source": [
    "# load twitter archive\n",
    "twitter_arch = pd.read_csv(\"data/twitter-archive-enhanced.csv\")\n",
    "# use tweet id column as index\n",
    "twitter_arch.set_index(\"tweet_id\", inplace = True)\n",
    "# display few lines\n",
    "twitter_arch.head(3)"
   ]
  },
  {
   "cell_type": "markdown",
   "metadata": {},
   "source": [
    "### Gether: Image Predictions File\n",
    "\n",
    "This file contains top three predictions of dog breed for each dog image from the WeRateDogs archive. Table contains the top three predictions, tweet ID, image URL, and the image number that corresponded to the most confident prediction (numbered 1 to 4 since tweets can have up to four images)."
   ]
  },
  {
   "cell_type": "code",
   "execution_count": 3,
   "metadata": {},
   "outputs": [
    {
     "data": {
      "text/html": [
       "<div>\n",
       "<style scoped>\n",
       "    .dataframe tbody tr th:only-of-type {\n",
       "        vertical-align: middle;\n",
       "    }\n",
       "\n",
       "    .dataframe tbody tr th {\n",
       "        vertical-align: top;\n",
       "    }\n",
       "\n",
       "    .dataframe thead th {\n",
       "        text-align: right;\n",
       "    }\n",
       "</style>\n",
       "<table border=\"1\" class=\"dataframe\">\n",
       "  <thead>\n",
       "    <tr style=\"text-align: right;\">\n",
       "      <th></th>\n",
       "      <th>jpg_url</th>\n",
       "      <th>img_num</th>\n",
       "      <th>p1</th>\n",
       "      <th>p1_conf</th>\n",
       "      <th>p1_dog</th>\n",
       "      <th>p2</th>\n",
       "      <th>p2_conf</th>\n",
       "      <th>p2_dog</th>\n",
       "      <th>p3</th>\n",
       "      <th>p3_conf</th>\n",
       "      <th>p3_dog</th>\n",
       "    </tr>\n",
       "    <tr>\n",
       "      <th>tweet_id</th>\n",
       "      <th></th>\n",
       "      <th></th>\n",
       "      <th></th>\n",
       "      <th></th>\n",
       "      <th></th>\n",
       "      <th></th>\n",
       "      <th></th>\n",
       "      <th></th>\n",
       "      <th></th>\n",
       "      <th></th>\n",
       "      <th></th>\n",
       "    </tr>\n",
       "  </thead>\n",
       "  <tbody>\n",
       "    <tr>\n",
       "      <th>666020888022790149</th>\n",
       "      <td>https://pbs.twimg.com/media/CT4udn0WwAA0aMy.jpg</td>\n",
       "      <td>1</td>\n",
       "      <td>Welsh_springer_spaniel</td>\n",
       "      <td>0.465074</td>\n",
       "      <td>True</td>\n",
       "      <td>collie</td>\n",
       "      <td>0.156665</td>\n",
       "      <td>True</td>\n",
       "      <td>Shetland_sheepdog</td>\n",
       "      <td>0.061428</td>\n",
       "      <td>True</td>\n",
       "    </tr>\n",
       "    <tr>\n",
       "      <th>666029285002620928</th>\n",
       "      <td>https://pbs.twimg.com/media/CT42GRgUYAA5iDo.jpg</td>\n",
       "      <td>1</td>\n",
       "      <td>redbone</td>\n",
       "      <td>0.506826</td>\n",
       "      <td>True</td>\n",
       "      <td>miniature_pinscher</td>\n",
       "      <td>0.074192</td>\n",
       "      <td>True</td>\n",
       "      <td>Rhodesian_ridgeback</td>\n",
       "      <td>0.072010</td>\n",
       "      <td>True</td>\n",
       "    </tr>\n",
       "    <tr>\n",
       "      <th>666033412701032449</th>\n",
       "      <td>https://pbs.twimg.com/media/CT4521TWwAEvMyu.jpg</td>\n",
       "      <td>1</td>\n",
       "      <td>German_shepherd</td>\n",
       "      <td>0.596461</td>\n",
       "      <td>True</td>\n",
       "      <td>malinois</td>\n",
       "      <td>0.138584</td>\n",
       "      <td>True</td>\n",
       "      <td>bloodhound</td>\n",
       "      <td>0.116197</td>\n",
       "      <td>True</td>\n",
       "    </tr>\n",
       "  </tbody>\n",
       "</table>\n",
       "</div>"
      ],
      "text/plain": [
       "                                                            jpg_url  img_num  \\\n",
       "tweet_id                                                                       \n",
       "666020888022790149  https://pbs.twimg.com/media/CT4udn0WwAA0aMy.jpg  1         \n",
       "666029285002620928  https://pbs.twimg.com/media/CT42GRgUYAA5iDo.jpg  1         \n",
       "666033412701032449  https://pbs.twimg.com/media/CT4521TWwAEvMyu.jpg  1         \n",
       "\n",
       "                                        p1   p1_conf  p1_dog  \\\n",
       "tweet_id                                                       \n",
       "666020888022790149  Welsh_springer_spaniel  0.465074  True     \n",
       "666029285002620928  redbone                 0.506826  True     \n",
       "666033412701032449  German_shepherd         0.596461  True     \n",
       "\n",
       "                                    p2   p2_conf  p2_dog                   p3  \\\n",
       "tweet_id                                                                        \n",
       "666020888022790149  collie              0.156665  True    Shetland_sheepdog     \n",
       "666029285002620928  miniature_pinscher  0.074192  True    Rhodesian_ridgeback   \n",
       "666033412701032449  malinois            0.138584  True    bloodhound            \n",
       "\n",
       "                     p3_conf  p3_dog  \n",
       "tweet_id                              \n",
       "666020888022790149  0.061428  True    \n",
       "666029285002620928  0.072010  True    \n",
       "666033412701032449  0.116197  True    "
      ]
     },
     "execution_count": 3,
     "metadata": {},
     "output_type": "execute_result"
    }
   ],
   "source": [
    "# get file with the image predictions\n",
    "url = 'https://d17h27t6h515a5.cloudfront.net/topher/2017/August/599fd2ad_image-predictions/image-predictions.tsv'\n",
    "with open('data/image-predictions.tsv' , 'wb') as file:\n",
    "    predictions = requests.get(url)\n",
    "    file.write(predictions.content)\n",
    "\n",
    "# load image predictions\n",
    "image_pred = pd.read_csv('data/image-predictions.tsv', sep = '\\t')\n",
    "# use tweet id column as index\n",
    "image_pred.set_index(\"tweet_id\", inplace = True)\n",
    "# display few lines\n",
    "image_pred.head(3)"
   ]
  },
  {
   "cell_type": "markdown",
   "metadata": {},
   "source": [
    "### Gether: Twitter API File\n",
    "\n",
    "Retweet count and favorite count are two of the notable column omissions of Twitter data archive. Fortunately, this additional data can be gathered from Twitter's API. Twitter API file contains tweet id, favorite count and retweet count. "
   ]
  },
  {
   "cell_type": "code",
   "execution_count": 4,
   "metadata": {},
   "outputs": [
    {
     "data": {
      "text/html": [
       "<div>\n",
       "<style scoped>\n",
       "    .dataframe tbody tr th:only-of-type {\n",
       "        vertical-align: middle;\n",
       "    }\n",
       "\n",
       "    .dataframe tbody tr th {\n",
       "        vertical-align: top;\n",
       "    }\n",
       "\n",
       "    .dataframe thead th {\n",
       "        text-align: right;\n",
       "    }\n",
       "</style>\n",
       "<table border=\"1\" class=\"dataframe\">\n",
       "  <thead>\n",
       "    <tr style=\"text-align: right;\">\n",
       "      <th></th>\n",
       "      <th>favorites</th>\n",
       "      <th>retweets</th>\n",
       "    </tr>\n",
       "    <tr>\n",
       "      <th>tweet_id</th>\n",
       "      <th></th>\n",
       "      <th></th>\n",
       "    </tr>\n",
       "  </thead>\n",
       "  <tbody>\n",
       "    <tr>\n",
       "      <th>892420643555336193</th>\n",
       "      <td>39467</td>\n",
       "      <td>8853</td>\n",
       "    </tr>\n",
       "    <tr>\n",
       "      <th>892177421306343426</th>\n",
       "      <td>33819</td>\n",
       "      <td>6514</td>\n",
       "    </tr>\n",
       "    <tr>\n",
       "      <th>891815181378084864</th>\n",
       "      <td>25461</td>\n",
       "      <td>4328</td>\n",
       "    </tr>\n",
       "  </tbody>\n",
       "</table>\n",
       "</div>"
      ],
      "text/plain": [
       "                    favorites  retweets\n",
       "tweet_id                               \n",
       "892420643555336193  39467      8853    \n",
       "892177421306343426  33819      6514    \n",
       "891815181378084864  25461      4328    "
      ]
     },
     "execution_count": 4,
     "metadata": {},
     "output_type": "execute_result"
    }
   ],
   "source": [
    "# load twitter API data\n",
    "with open('data/tweet-json.txt') as f:\n",
    "    twitter_api = pd.DataFrame((json.loads(line) for line in f), columns = ['id', 'favorite_count', 'retweet_count'])\n",
    "\n",
    "# change column names\n",
    "twitter_api.columns = ['tweet_id', 'favorites', 'retweets']\n",
    "# use tweet id column as index\n",
    "twitter_api.set_index('tweet_id', inplace = True)\n",
    "# display few lines\n",
    "twitter_api.head(3)"
   ]
  },
  {
   "cell_type": "markdown",
   "metadata": {},
   "source": [
    "\n",
    "## Assessing Data\n",
    "\n",
    "Assess data visually and programmatically for quality and tidiness issues using pandas.\n",
    "\n",
    "<hr>\n",
    "\n",
    "* [Twitter Archive Data](#Assess:-Twitter-Archive-Data)  \n",
    "* [Image Predictions](#Assess:-Image-Predictions)  \n",
    "* [Twitter API Data](#Assess:-Twitter-API-Data)"
   ]
  },
  {
   "cell_type": "markdown",
   "metadata": {},
   "source": [
    "### Assess: Twitter Archive Data"
   ]
  },
  {
   "cell_type": "code",
   "execution_count": 5,
   "metadata": {},
   "outputs": [
    {
     "data": {
      "text/html": [
       "<div>\n",
       "<style scoped>\n",
       "    .dataframe tbody tr th:only-of-type {\n",
       "        vertical-align: middle;\n",
       "    }\n",
       "\n",
       "    .dataframe tbody tr th {\n",
       "        vertical-align: top;\n",
       "    }\n",
       "\n",
       "    .dataframe thead th {\n",
       "        text-align: right;\n",
       "    }\n",
       "</style>\n",
       "<table border=\"1\" class=\"dataframe\">\n",
       "  <thead>\n",
       "    <tr style=\"text-align: right;\">\n",
       "      <th></th>\n",
       "      <th>in_reply_to_status_id</th>\n",
       "      <th>in_reply_to_user_id</th>\n",
       "      <th>timestamp</th>\n",
       "      <th>source</th>\n",
       "      <th>text</th>\n",
       "      <th>retweeted_status_id</th>\n",
       "      <th>retweeted_status_user_id</th>\n",
       "      <th>retweeted_status_timestamp</th>\n",
       "      <th>expanded_urls</th>\n",
       "      <th>rating_numerator</th>\n",
       "      <th>rating_denominator</th>\n",
       "      <th>name</th>\n",
       "      <th>doggo</th>\n",
       "      <th>floofer</th>\n",
       "      <th>pupper</th>\n",
       "      <th>puppo</th>\n",
       "    </tr>\n",
       "    <tr>\n",
       "      <th>tweet_id</th>\n",
       "      <th></th>\n",
       "      <th></th>\n",
       "      <th></th>\n",
       "      <th></th>\n",
       "      <th></th>\n",
       "      <th></th>\n",
       "      <th></th>\n",
       "      <th></th>\n",
       "      <th></th>\n",
       "      <th></th>\n",
       "      <th></th>\n",
       "      <th></th>\n",
       "      <th></th>\n",
       "      <th></th>\n",
       "      <th></th>\n",
       "      <th></th>\n",
       "    </tr>\n",
       "  </thead>\n",
       "  <tbody>\n",
       "    <tr>\n",
       "      <th>675113801096802304</th>\n",
       "      <td>NaN</td>\n",
       "      <td>NaN</td>\n",
       "      <td>2015-12-11 00:44:07 +0000</td>\n",
       "      <td>&lt;a href=\"http://twitter.com/download/iphone\" rel=\"nofollow\"&gt;Twitter for iPhone&lt;/a&gt;</td>\n",
       "      <td>Meet Zuzu. He just graduated college. Astute pupper. Needs 2 leashes to contain him. Wasn't ready for the pic. 10/10 https://t.co/2H5SKmk0k7</td>\n",
       "      <td>NaN</td>\n",
       "      <td>NaN</td>\n",
       "      <td>NaN</td>\n",
       "      <td>https://twitter.com/dog_rates/status/675113801096802304/photo/1</td>\n",
       "      <td>10</td>\n",
       "      <td>10</td>\n",
       "      <td>Zuzu</td>\n",
       "      <td>None</td>\n",
       "      <td>None</td>\n",
       "      <td>pupper</td>\n",
       "      <td>None</td>\n",
       "    </tr>\n",
       "    <tr>\n",
       "      <th>677547928504967168</th>\n",
       "      <td>NaN</td>\n",
       "      <td>NaN</td>\n",
       "      <td>2015-12-17 17:56:29 +0000</td>\n",
       "      <td>&lt;a href=\"http://twitter.com/download/iphone\" rel=\"nofollow\"&gt;Twitter for iPhone&lt;/a&gt;</td>\n",
       "      <td>Not much to say here. I just think everyone needs to see this. 12/10 https://t.co/AGag0hFHpe</td>\n",
       "      <td>NaN</td>\n",
       "      <td>NaN</td>\n",
       "      <td>NaN</td>\n",
       "      <td>https://twitter.com/dog_rates/status/677547928504967168/photo/1</td>\n",
       "      <td>12</td>\n",
       "      <td>10</td>\n",
       "      <td>None</td>\n",
       "      <td>None</td>\n",
       "      <td>None</td>\n",
       "      <td>None</td>\n",
       "      <td>None</td>\n",
       "    </tr>\n",
       "    <tr>\n",
       "      <th>793180763617361921</th>\n",
       "      <td>NaN</td>\n",
       "      <td>NaN</td>\n",
       "      <td>2016-10-31 20:00:05 +0000</td>\n",
       "      <td>&lt;a href=\"http://twitter.com/download/iphone\" rel=\"nofollow\"&gt;Twitter for iPhone&lt;/a&gt;</td>\n",
       "      <td>This is Newt. He's a strawberry. 11/10 https://t.co/2VhmlwxA1Q</td>\n",
       "      <td>NaN</td>\n",
       "      <td>NaN</td>\n",
       "      <td>NaN</td>\n",
       "      <td>https://twitter.com/dog_rates/status/793180763617361921/photo/1</td>\n",
       "      <td>11</td>\n",
       "      <td>10</td>\n",
       "      <td>Newt</td>\n",
       "      <td>None</td>\n",
       "      <td>None</td>\n",
       "      <td>None</td>\n",
       "      <td>None</td>\n",
       "    </tr>\n",
       "  </tbody>\n",
       "</table>\n",
       "</div>"
      ],
      "text/plain": [
       "                    in_reply_to_status_id  in_reply_to_user_id  \\\n",
       "tweet_id                                                         \n",
       "675113801096802304 NaN                    NaN                    \n",
       "677547928504967168 NaN                    NaN                    \n",
       "793180763617361921 NaN                    NaN                    \n",
       "\n",
       "                                    timestamp  \\\n",
       "tweet_id                                        \n",
       "675113801096802304  2015-12-11 00:44:07 +0000   \n",
       "677547928504967168  2015-12-17 17:56:29 +0000   \n",
       "793180763617361921  2016-10-31 20:00:05 +0000   \n",
       "\n",
       "                                                                                                source  \\\n",
       "tweet_id                                                                                                 \n",
       "675113801096802304  <a href=\"http://twitter.com/download/iphone\" rel=\"nofollow\">Twitter for iPhone</a>   \n",
       "677547928504967168  <a href=\"http://twitter.com/download/iphone\" rel=\"nofollow\">Twitter for iPhone</a>   \n",
       "793180763617361921  <a href=\"http://twitter.com/download/iphone\" rel=\"nofollow\">Twitter for iPhone</a>   \n",
       "\n",
       "                                                                                                                                                            text  \\\n",
       "tweet_id                                                                                                                                                           \n",
       "675113801096802304  Meet Zuzu. He just graduated college. Astute pupper. Needs 2 leashes to contain him. Wasn't ready for the pic. 10/10 https://t.co/2H5SKmk0k7   \n",
       "677547928504967168  Not much to say here. I just think everyone needs to see this. 12/10 https://t.co/AGag0hFHpe                                                   \n",
       "793180763617361921  This is Newt. He's a strawberry. 11/10 https://t.co/2VhmlwxA1Q                                                                                 \n",
       "\n",
       "                    retweeted_status_id  retweeted_status_user_id  \\\n",
       "tweet_id                                                            \n",
       "675113801096802304 NaN                  NaN                         \n",
       "677547928504967168 NaN                  NaN                         \n",
       "793180763617361921 NaN                  NaN                         \n",
       "\n",
       "                   retweeted_status_timestamp  \\\n",
       "tweet_id                                        \n",
       "675113801096802304  NaN                         \n",
       "677547928504967168  NaN                         \n",
       "793180763617361921  NaN                         \n",
       "\n",
       "                                                                      expanded_urls  \\\n",
       "tweet_id                                                                              \n",
       "675113801096802304  https://twitter.com/dog_rates/status/675113801096802304/photo/1   \n",
       "677547928504967168  https://twitter.com/dog_rates/status/677547928504967168/photo/1   \n",
       "793180763617361921  https://twitter.com/dog_rates/status/793180763617361921/photo/1   \n",
       "\n",
       "                    rating_numerator  rating_denominator  name doggo floofer  \\\n",
       "tweet_id                                                                       \n",
       "675113801096802304  10                10                  Zuzu  None  None     \n",
       "677547928504967168  12                10                  None  None  None     \n",
       "793180763617361921  11                10                  Newt  None  None     \n",
       "\n",
       "                    pupper puppo  \n",
       "tweet_id                          \n",
       "675113801096802304  pupper  None  \n",
       "677547928504967168  None    None  \n",
       "793180763617361921  None    None  "
      ]
     },
     "execution_count": 5,
     "metadata": {},
     "output_type": "execute_result"
    }
   ],
   "source": [
    "# display sample of data\n",
    "twitter_arch.sample(3)"
   ]
  },
  {
   "cell_type": "code",
   "execution_count": 6,
   "metadata": {},
   "outputs": [
    {
     "name": "stdout",
     "output_type": "stream",
     "text": [
      "<class 'pandas.core.frame.DataFrame'>\n",
      "Int64Index: 2356 entries, 892420643555336193 to 666020888022790149\n",
      "Data columns (total 16 columns):\n",
      "in_reply_to_status_id         78 non-null float64\n",
      "in_reply_to_user_id           78 non-null float64\n",
      "timestamp                     2356 non-null object\n",
      "source                        2356 non-null object\n",
      "text                          2356 non-null object\n",
      "retweeted_status_id           181 non-null float64\n",
      "retweeted_status_user_id      181 non-null float64\n",
      "retweeted_status_timestamp    181 non-null object\n",
      "expanded_urls                 2297 non-null object\n",
      "rating_numerator              2356 non-null int64\n",
      "rating_denominator            2356 non-null int64\n",
      "name                          2356 non-null object\n",
      "doggo                         2356 non-null object\n",
      "floofer                       2356 non-null object\n",
      "pupper                        2356 non-null object\n",
      "puppo                         2356 non-null object\n",
      "dtypes: float64(4), int64(2), object(10)\n",
      "memory usage: 312.9+ KB\n"
     ]
    }
   ],
   "source": [
    "# print a summary of a DataFrame\n",
    "twitter_arch.info()"
   ]
  },
  {
   "cell_type": "code",
   "execution_count": 7,
   "metadata": {},
   "outputs": [
    {
     "data": {
      "text/plain": [
       "True"
      ]
     },
     "execution_count": 7,
     "metadata": {},
     "output_type": "execute_result"
    }
   ],
   "source": [
    "# check if ids are unique\n",
    "twitter_arch.index.is_unique"
   ]
  },
  {
   "cell_type": "code",
   "execution_count": 8,
   "metadata": {},
   "outputs": [
    {
     "data": {
      "text/plain": [
       "78"
      ]
     },
     "execution_count": 8,
     "metadata": {},
     "output_type": "execute_result"
    }
   ],
   "source": [
    "# check number of replies\n",
    "np.isfinite(twitter_arch.in_reply_to_status_id).sum()"
   ]
  },
  {
   "cell_type": "code",
   "execution_count": 9,
   "metadata": {},
   "outputs": [
    {
     "data": {
      "text/plain": [
       "<a href=\"http://twitter.com/download/iphone\" rel=\"nofollow\">Twitter for iPhone</a>     2221\n",
       "<a href=\"http://vine.co\" rel=\"nofollow\">Vine - Make a Scene</a>                        91  \n",
       "<a href=\"http://twitter.com\" rel=\"nofollow\">Twitter Web Client</a>                     33  \n",
       "<a href=\"https://about.twitter.com/products/tweetdeck\" rel=\"nofollow\">TweetDeck</a>    11  \n",
       "Name: source, dtype: int64"
      ]
     },
     "execution_count": 9,
     "metadata": {},
     "output_type": "execute_result"
    }
   ],
   "source": [
    "# check values in sources\n",
    "twitter_arch.source.value_counts()"
   ]
  },
  {
   "cell_type": "code",
   "execution_count": 10,
   "metadata": {},
   "outputs": [
    {
     "data": {
      "text/plain": [
       "tweet_id\n",
       "666287406224695296    This is an Albanian 3 1/2 legged  Episcopalian. Loves well-polished hardwood flooring. Penis on the collar. 9/10 https://t.co/d9NcXFKwLv\n",
       "738885046782832640    This is Charles. He's a Nova Scotian Towel Pouncer. Deadly af. Nifty tongue slip. 11/10 would pet with caution https://t.co/EfejX3iRGr  \n",
       "666983947667116034    This is a curly Ticonderoga named Pepe. No feet. Loves to jet ski. 11/10 would hug until forever https://t.co/cyDfaK8NBc                \n",
       "Name: text, dtype: object"
      ]
     },
     "execution_count": 10,
     "metadata": {},
     "output_type": "execute_result"
    }
   ],
   "source": [
    "# check quality of text\n",
    "twitter_arch.text.sample(3)"
   ]
  },
  {
   "cell_type": "code",
   "execution_count": 11,
   "metadata": {},
   "outputs": [
    {
     "data": {
      "text/plain": [
       "181"
      ]
     },
     "execution_count": 11,
     "metadata": {},
     "output_type": "execute_result"
    }
   ],
   "source": [
    "# check number of retweets\n",
    "np.isfinite(twitter_arch.retweeted_status_id).sum()"
   ]
  },
  {
   "cell_type": "code",
   "execution_count": 12,
   "metadata": {},
   "outputs": [
    {
     "data": {
      "text/html": [
       "<div>\n",
       "<style scoped>\n",
       "    .dataframe tbody tr th:only-of-type {\n",
       "        vertical-align: middle;\n",
       "    }\n",
       "\n",
       "    .dataframe tbody tr th {\n",
       "        vertical-align: top;\n",
       "    }\n",
       "\n",
       "    .dataframe thead th {\n",
       "        text-align: right;\n",
       "    }\n",
       "</style>\n",
       "<table border=\"1\" class=\"dataframe\">\n",
       "  <thead>\n",
       "    <tr style=\"text-align: right;\">\n",
       "      <th></th>\n",
       "      <th>text</th>\n",
       "      <th>expanded_urls</th>\n",
       "    </tr>\n",
       "    <tr>\n",
       "      <th>tweet_id</th>\n",
       "      <th></th>\n",
       "      <th></th>\n",
       "    </tr>\n",
       "  </thead>\n",
       "  <tbody>\n",
       "    <tr>\n",
       "      <th>667070482143944705</th>\n",
       "      <td>After much debate this dog is being upgraded to 10/10. I repeat 10/10</td>\n",
       "      <td>NaN</td>\n",
       "    </tr>\n",
       "    <tr>\n",
       "      <th>832032802820481025</th>\n",
       "      <td>This is Miguel. He was the only remaining doggo at the adoption center after the weekend. Let's change that. 12/10\\n\\nhttps://t.co/P0bO8mCQwN https://t.co/SU4K34NT4M</td>\n",
       "      <td>https://www.petfinder.com/petdetail/34918210,https://twitter.com/dog_rates/status/832032802820481025/photo/1,https://twitter.com/dog_rates/status/832032802820481025/photo/1,https://twitter.com/dog_rates/status/832032802820481025/photo/1,https://twitter.com/dog_rates/status/832032802820481025/photo/1</td>\n",
       "    </tr>\n",
       "    <tr>\n",
       "      <th>863427515083354112</th>\n",
       "      <td>@Jack_Septic_Eye I'd need a few more pics to polish a full analysis, but based on the good boy content above I'm leaning towards 12/10</td>\n",
       "      <td>NaN</td>\n",
       "    </tr>\n",
       "  </tbody>\n",
       "</table>\n",
       "</div>"
      ],
      "text/plain": [
       "                                                                                                                                                                                     text  \\\n",
       "tweet_id                                                                                                                                                                                    \n",
       "667070482143944705  After much debate this dog is being upgraded to 10/10. I repeat 10/10                                                                                                   \n",
       "832032802820481025  This is Miguel. He was the only remaining doggo at the adoption center after the weekend. Let's change that. 12/10\\n\\nhttps://t.co/P0bO8mCQwN https://t.co/SU4K34NT4M   \n",
       "863427515083354112  @Jack_Septic_Eye I'd need a few more pics to polish a full analysis, but based on the good boy content above I'm leaning towards 12/10                                  \n",
       "\n",
       "                                                                                                                                                                                                                                                                                                                   expanded_urls  \n",
       "tweet_id                                                                                                                                                                                                                                                                                                                          \n",
       "667070482143944705  NaN                                                                                                                                                                                                                                                                                                           \n",
       "832032802820481025  https://www.petfinder.com/petdetail/34918210,https://twitter.com/dog_rates/status/832032802820481025/photo/1,https://twitter.com/dog_rates/status/832032802820481025/photo/1,https://twitter.com/dog_rates/status/832032802820481025/photo/1,https://twitter.com/dog_rates/status/832032802820481025/photo/1  \n",
       "863427515083354112  NaN                                                                                                                                                                                                                                                                                                           "
      ]
     },
     "execution_count": 12,
     "metadata": {},
     "output_type": "execute_result"
    }
   ],
   "source": [
    "# check expanded urls\n",
    "twitter_arch[~twitter_arch.expanded_urls.str.startswith(('https://twitter.com','http://twitter.com', 'https://vine.co'), na=False)].sample(3)[['text','expanded_urls']]"
   ]
  },
  {
   "cell_type": "code",
   "execution_count": 13,
   "metadata": {},
   "outputs": [
    {
     "data": {
      "text/plain": [
       "639"
      ]
     },
     "execution_count": 13,
     "metadata": {},
     "output_type": "execute_result"
    }
   ],
   "source": [
    "# check for two or more urls in the expanded urls\n",
    "twitter_arch[twitter_arch.expanded_urls.str.contains(',', na = False)].expanded_urls.count()"
   ]
  },
  {
   "cell_type": "code",
   "execution_count": 14,
   "metadata": {},
   "outputs": [
    {
     "data": {
      "text/plain": [
       "10     2333\n",
       "11     3   \n",
       "50     3   \n",
       "80     2   \n",
       "20     2   \n",
       "2      1   \n",
       "16     1   \n",
       "40     1   \n",
       "70     1   \n",
       "15     1   \n",
       "90     1   \n",
       "110    1   \n",
       "120    1   \n",
       "130    1   \n",
       "150    1   \n",
       "170    1   \n",
       "7      1   \n",
       "0      1   \n",
       "Name: rating_denominator, dtype: int64"
      ]
     },
     "execution_count": 14,
     "metadata": {},
     "output_type": "execute_result"
    }
   ],
   "source": [
    "# check rating denominator\n",
    "twitter_arch.rating_denominator.value_counts()"
   ]
  },
  {
   "cell_type": "code",
   "execution_count": 15,
   "metadata": {},
   "outputs": [
    {
     "data": {
      "text/html": [
       "<div>\n",
       "<style scoped>\n",
       "    .dataframe tbody tr th:only-of-type {\n",
       "        vertical-align: middle;\n",
       "    }\n",
       "\n",
       "    .dataframe tbody tr th {\n",
       "        vertical-align: top;\n",
       "    }\n",
       "\n",
       "    .dataframe thead th {\n",
       "        text-align: right;\n",
       "    }\n",
       "</style>\n",
       "<table border=\"1\" class=\"dataframe\">\n",
       "  <thead>\n",
       "    <tr style=\"text-align: right;\">\n",
       "      <th></th>\n",
       "      <th>text</th>\n",
       "      <th>rating_denominator</th>\n",
       "    </tr>\n",
       "    <tr>\n",
       "      <th>tweet_id</th>\n",
       "      <th></th>\n",
       "      <th></th>\n",
       "    </tr>\n",
       "  </thead>\n",
       "  <tbody>\n",
       "    <tr>\n",
       "      <th>832088576586297345</th>\n",
       "      <td>@docmisterio account started on 11/15/15</td>\n",
       "      <td>15</td>\n",
       "    </tr>\n",
       "    <tr>\n",
       "      <th>820690176645140481</th>\n",
       "      <td>The floofs have been released I repeat the floofs have been released. 84/70 https://t.co/NIYC820tmd</td>\n",
       "      <td>70</td>\n",
       "    </tr>\n",
       "    <tr>\n",
       "      <th>775096608509886464</th>\n",
       "      <td>RT @dog_rates: After so many requests, this is Bretagne. She was the last surviving 9/11 search dog, and our second ever 14/10. RIP https:/…</td>\n",
       "      <td>11</td>\n",
       "    </tr>\n",
       "    <tr>\n",
       "      <th>758467244762497024</th>\n",
       "      <td>Why does this never happen at my front door... 165/150 https://t.co/HmwrdfEfUE</td>\n",
       "      <td>150</td>\n",
       "    </tr>\n",
       "    <tr>\n",
       "      <th>740373189193256964</th>\n",
       "      <td>After so many requests, this is Bretagne. She was the last surviving 9/11 search dog, and our second ever 14/10. RIP https://t.co/XAVDNDaVgQ</td>\n",
       "      <td>11</td>\n",
       "    </tr>\n",
       "    <tr>\n",
       "      <th>731156023742988288</th>\n",
       "      <td>Say hello to this unbelievably well behaved squad of doggos. 204/170 would try to pet all at once https://t.co/yGQI3He3xv</td>\n",
       "      <td>170</td>\n",
       "    </tr>\n",
       "    <tr>\n",
       "      <th>722974582966214656</th>\n",
       "      <td>Happy 4/20 from the squad! 13/10 for all https://t.co/eV1diwds8a</td>\n",
       "      <td>20</td>\n",
       "    </tr>\n",
       "    <tr>\n",
       "      <th>716439118184652801</th>\n",
       "      <td>This is Bluebert. He just saw that both #FinalFur match ups are split 50/50. Amazed af. 11/10 https://t.co/Kky1DPG4iq</td>\n",
       "      <td>50</td>\n",
       "    </tr>\n",
       "    <tr>\n",
       "      <th>713900603437621249</th>\n",
       "      <td>Happy Saturday here's 9 puppers on a bench. 99/90 good work everybody https://t.co/mpvaVxKmc1</td>\n",
       "      <td>90</td>\n",
       "    </tr>\n",
       "    <tr>\n",
       "      <th>710658690886586372</th>\n",
       "      <td>Here's a brigade of puppers. All look very prepared for whatever happens next. 80/80 https://t.co/0eb7R1Om12</td>\n",
       "      <td>80</td>\n",
       "    </tr>\n",
       "    <tr>\n",
       "      <th>709198395643068416</th>\n",
       "      <td>From left to right:\\nCletus, Jerome, Alejandro, Burp, &amp;amp; Titson\\nNone know where camera is. 45/50 would hug all at once https://t.co/sedre1ivTK</td>\n",
       "      <td>50</td>\n",
       "    </tr>\n",
       "    <tr>\n",
       "      <th>704054845121142784</th>\n",
       "      <td>Here is a whole flock of puppers.  60/50 I'll take the lot https://t.co/9dpcw6MdWa</td>\n",
       "      <td>50</td>\n",
       "    </tr>\n",
       "    <tr>\n",
       "      <th>697463031882764288</th>\n",
       "      <td>Happy Wednesday here's a bucket of pups. 44/40 would pet all at once https://t.co/HppvrYuamZ</td>\n",
       "      <td>40</td>\n",
       "    </tr>\n",
       "    <tr>\n",
       "      <th>686035780142297088</th>\n",
       "      <td>Yes I do realize a rating of 4/20 would've been fitting. However, it would be unjust to give these cooperative pups that low of a rating</td>\n",
       "      <td>20</td>\n",
       "    </tr>\n",
       "    <tr>\n",
       "      <th>684225744407494656</th>\n",
       "      <td>Two sneaky puppers were not initially seen, moving the rating to 143/130. Please forgive us. Thank you https://t.co/kRK51Y5ac3</td>\n",
       "      <td>130</td>\n",
       "    </tr>\n",
       "    <tr>\n",
       "      <th>684222868335505415</th>\n",
       "      <td>Someone help the girl is being mugged. Several are distracting her while two steal her shoes. Clever puppers 121/110 https://t.co/1zfnTJLt55</td>\n",
       "      <td>110</td>\n",
       "    </tr>\n",
       "    <tr>\n",
       "      <th>682962037429899265</th>\n",
       "      <td>This is Darrel. He just robbed a 7/11 and is in a high speed police chase. Was just spotted by the helicopter 10/10 https://t.co/7EsP8LmSp5</td>\n",
       "      <td>11</td>\n",
       "    </tr>\n",
       "    <tr>\n",
       "      <th>682808988178739200</th>\n",
       "      <td>I'm aware that I could've said 20/16, but here at WeRateDogs we are very professional. An inconsistent rating scale is simply irresponsible</td>\n",
       "      <td>16</td>\n",
       "    </tr>\n",
       "    <tr>\n",
       "      <th>677716515794329600</th>\n",
       "      <td>IT'S PUPPERGEDDON. Total of 144/120 ...I think https://t.co/ZanVtAtvIq</td>\n",
       "      <td>120</td>\n",
       "    </tr>\n",
       "    <tr>\n",
       "      <th>675853064436391936</th>\n",
       "      <td>Here we have an entire platoon of puppers. Total score: 88/80 would pet all at once https://t.co/y93p6FLvVw</td>\n",
       "      <td>80</td>\n",
       "    </tr>\n",
       "  </tbody>\n",
       "</table>\n",
       "</div>"
      ],
      "text/plain": [
       "                                                                                                                                                                  text  \\\n",
       "tweet_id                                                                                                                                                                 \n",
       "832088576586297345  @docmisterio account started on 11/15/15                                                                                                             \n",
       "820690176645140481  The floofs have been released I repeat the floofs have been released. 84/70 https://t.co/NIYC820tmd                                                  \n",
       "775096608509886464  RT @dog_rates: After so many requests, this is Bretagne. She was the last surviving 9/11 search dog, and our second ever 14/10. RIP https:/…         \n",
       "758467244762497024  Why does this never happen at my front door... 165/150 https://t.co/HmwrdfEfUE                                                                       \n",
       "740373189193256964  After so many requests, this is Bretagne. She was the last surviving 9/11 search dog, and our second ever 14/10. RIP https://t.co/XAVDNDaVgQ         \n",
       "731156023742988288  Say hello to this unbelievably well behaved squad of doggos. 204/170 would try to pet all at once https://t.co/yGQI3He3xv                            \n",
       "722974582966214656  Happy 4/20 from the squad! 13/10 for all https://t.co/eV1diwds8a                                                                                     \n",
       "716439118184652801  This is Bluebert. He just saw that both #FinalFur match ups are split 50/50. Amazed af. 11/10 https://t.co/Kky1DPG4iq                                \n",
       "713900603437621249  Happy Saturday here's 9 puppers on a bench. 99/90 good work everybody https://t.co/mpvaVxKmc1                                                        \n",
       "710658690886586372  Here's a brigade of puppers. All look very prepared for whatever happens next. 80/80 https://t.co/0eb7R1Om12                                         \n",
       "709198395643068416  From left to right:\\nCletus, Jerome, Alejandro, Burp, &amp; Titson\\nNone know where camera is. 45/50 would hug all at once https://t.co/sedre1ivTK   \n",
       "704054845121142784  Here is a whole flock of puppers.  60/50 I'll take the lot https://t.co/9dpcw6MdWa                                                                   \n",
       "697463031882764288  Happy Wednesday here's a bucket of pups. 44/40 would pet all at once https://t.co/HppvrYuamZ                                                         \n",
       "686035780142297088  Yes I do realize a rating of 4/20 would've been fitting. However, it would be unjust to give these cooperative pups that low of a rating             \n",
       "684225744407494656  Two sneaky puppers were not initially seen, moving the rating to 143/130. Please forgive us. Thank you https://t.co/kRK51Y5ac3                       \n",
       "684222868335505415  Someone help the girl is being mugged. Several are distracting her while two steal her shoes. Clever puppers 121/110 https://t.co/1zfnTJLt55         \n",
       "682962037429899265  This is Darrel. He just robbed a 7/11 and is in a high speed police chase. Was just spotted by the helicopter 10/10 https://t.co/7EsP8LmSp5          \n",
       "682808988178739200  I'm aware that I could've said 20/16, but here at WeRateDogs we are very professional. An inconsistent rating scale is simply irresponsible          \n",
       "677716515794329600  IT'S PUPPERGEDDON. Total of 144/120 ...I think https://t.co/ZanVtAtvIq                                                                               \n",
       "675853064436391936  Here we have an entire platoon of puppers. Total score: 88/80 would pet all at once https://t.co/y93p6FLvVw                                          \n",
       "\n",
       "                    rating_denominator  \n",
       "tweet_id                                \n",
       "832088576586297345  15                  \n",
       "820690176645140481  70                  \n",
       "775096608509886464  11                  \n",
       "758467244762497024  150                 \n",
       "740373189193256964  11                  \n",
       "731156023742988288  170                 \n",
       "722974582966214656  20                  \n",
       "716439118184652801  50                  \n",
       "713900603437621249  90                  \n",
       "710658690886586372  80                  \n",
       "709198395643068416  50                  \n",
       "704054845121142784  50                  \n",
       "697463031882764288  40                  \n",
       "686035780142297088  20                  \n",
       "684225744407494656  130                 \n",
       "684222868335505415  110                 \n",
       "682962037429899265  11                  \n",
       "682808988178739200  16                  \n",
       "677716515794329600  120                 \n",
       "675853064436391936  80                  "
      ]
     },
     "execution_count": 15,
     "metadata": {},
     "output_type": "execute_result"
    }
   ],
   "source": [
    "# check ratings with denominator greather than 10\n",
    "twitter_arch[twitter_arch.rating_denominator > 10][['text', 'rating_denominator']]"
   ]
  },
  {
   "cell_type": "code",
   "execution_count": 16,
   "metadata": {},
   "outputs": [
    {
     "data": {
      "text/plain": [
       "12      558\n",
       "11      464\n",
       "10      461\n",
       "13      351\n",
       "9       158\n",
       "8       102\n",
       "7       55 \n",
       "14      54 \n",
       "5       37 \n",
       "6       32 \n",
       "3       19 \n",
       "4       17 \n",
       "1       9  \n",
       "2       9  \n",
       "420     2  \n",
       "0       2  \n",
       "15      2  \n",
       "75      2  \n",
       "80      1  \n",
       "20      1  \n",
       "24      1  \n",
       "26      1  \n",
       "44      1  \n",
       "50      1  \n",
       "60      1  \n",
       "165     1  \n",
       "84      1  \n",
       "88      1  \n",
       "144     1  \n",
       "182     1  \n",
       "143     1  \n",
       "666     1  \n",
       "960     1  \n",
       "1776    1  \n",
       "17      1  \n",
       "27      1  \n",
       "45      1  \n",
       "99      1  \n",
       "121     1  \n",
       "204     1  \n",
       "Name: rating_numerator, dtype: int64"
      ]
     },
     "execution_count": 16,
     "metadata": {},
     "output_type": "execute_result"
    }
   ],
   "source": [
    "# check rating numerator\n",
    "twitter_arch.rating_numerator.value_counts()"
   ]
  },
  {
   "cell_type": "code",
   "execution_count": 17,
   "metadata": {},
   "outputs": [
    {
     "data": {
      "text/html": [
       "<div>\n",
       "<style scoped>\n",
       "    .dataframe tbody tr th:only-of-type {\n",
       "        vertical-align: middle;\n",
       "    }\n",
       "\n",
       "    .dataframe tbody tr th {\n",
       "        vertical-align: top;\n",
       "    }\n",
       "\n",
       "    .dataframe thead th {\n",
       "        text-align: right;\n",
       "    }\n",
       "</style>\n",
       "<table border=\"1\" class=\"dataframe\">\n",
       "  <thead>\n",
       "    <tr style=\"text-align: right;\">\n",
       "      <th></th>\n",
       "      <th>text</th>\n",
       "      <th>rating_denominator</th>\n",
       "      <th>rating_numerator</th>\n",
       "    </tr>\n",
       "    <tr>\n",
       "      <th>tweet_id</th>\n",
       "      <th></th>\n",
       "      <th></th>\n",
       "      <th></th>\n",
       "    </tr>\n",
       "  </thead>\n",
       "  <tbody>\n",
       "    <tr>\n",
       "      <th>883482846933004288</th>\n",
       "      <td>This is Bella. She hopes her smile made you smile. If not, she is also offering you her favorite monkey. 13.5/10 https://t.co/qjrljjt948</td>\n",
       "      <td>10</td>\n",
       "      <td>5</td>\n",
       "    </tr>\n",
       "    <tr>\n",
       "      <th>832215909146226688</th>\n",
       "      <td>RT @dog_rates: This is Logan, the Chow who lived. He solemnly swears he's up to lots of good. H*ckin magical af 9.75/10 https://t.co/yBO5wu…</td>\n",
       "      <td>10</td>\n",
       "      <td>75</td>\n",
       "    </tr>\n",
       "    <tr>\n",
       "      <th>786709082849828864</th>\n",
       "      <td>This is Logan, the Chow who lived. He solemnly swears he's up to lots of good. H*ckin magical af 9.75/10 https://t.co/yBO5wuqaPS</td>\n",
       "      <td>10</td>\n",
       "      <td>75</td>\n",
       "    </tr>\n",
       "    <tr>\n",
       "      <th>778027034220126208</th>\n",
       "      <td>This is Sophie. She's a Jubilant Bush Pupper. Super h*ckin rare. Appears at random just to smile at the locals. 11.27/10 would smile back https://t.co/QFaUiIHxHq</td>\n",
       "      <td>10</td>\n",
       "      <td>27</td>\n",
       "    </tr>\n",
       "    <tr>\n",
       "      <th>681340665377193984</th>\n",
       "      <td>I've been told there's a slight possibility he's checking his mirror. We'll bump to 9.5/10. Still a menace</td>\n",
       "      <td>10</td>\n",
       "      <td>5</td>\n",
       "    </tr>\n",
       "    <tr>\n",
       "      <th>680494726643068929</th>\n",
       "      <td>Here we have uncovered an entire battalion of holiday puppers. Average of 11.26/10 https://t.co/eNm2S6p9BD</td>\n",
       "      <td>10</td>\n",
       "      <td>26</td>\n",
       "    </tr>\n",
       "  </tbody>\n",
       "</table>\n",
       "</div>"
      ],
      "text/plain": [
       "                                                                                                                                                                                 text  \\\n",
       "tweet_id                                                                                                                                                                                \n",
       "883482846933004288  This is Bella. She hopes her smile made you smile. If not, she is also offering you her favorite monkey. 13.5/10 https://t.co/qjrljjt948                            \n",
       "832215909146226688  RT @dog_rates: This is Logan, the Chow who lived. He solemnly swears he's up to lots of good. H*ckin magical af 9.75/10 https://t.co/yBO5wu…                        \n",
       "786709082849828864  This is Logan, the Chow who lived. He solemnly swears he's up to lots of good. H*ckin magical af 9.75/10 https://t.co/yBO5wuqaPS                                    \n",
       "778027034220126208  This is Sophie. She's a Jubilant Bush Pupper. Super h*ckin rare. Appears at random just to smile at the locals. 11.27/10 would smile back https://t.co/QFaUiIHxHq   \n",
       "681340665377193984  I've been told there's a slight possibility he's checking his mirror. We'll bump to 9.5/10. Still a menace                                                          \n",
       "680494726643068929  Here we have uncovered an entire battalion of holiday puppers. Average of 11.26/10 https://t.co/eNm2S6p9BD                                                          \n",
       "\n",
       "                    rating_denominator  rating_numerator  \n",
       "tweet_id                                                  \n",
       "883482846933004288  10                  5                 \n",
       "832215909146226688  10                  75                \n",
       "786709082849828864  10                  75                \n",
       "778027034220126208  10                  27                \n",
       "681340665377193984  10                  5                 \n",
       "680494726643068929  10                  26                "
      ]
     },
     "execution_count": 17,
     "metadata": {},
     "output_type": "execute_result"
    }
   ],
   "source": [
    "# check for any float ratings in the text column\n",
    "twitter_arch[twitter_arch.text.str.contains(r'\\d+\\.\\d+\\/\\d+')][['text','rating_denominator', 'rating_numerator']]"
   ]
  },
  {
   "cell_type": "code",
   "execution_count": 18,
   "metadata": {},
   "outputs": [
    {
     "data": {
      "text/plain": [
       "None         745\n",
       "a            55 \n",
       "Charlie      12 \n",
       "Cooper       11 \n",
       "Lucy         11 \n",
       "Oliver       11 \n",
       "Penny        10 \n",
       "Tucker       10 \n",
       "Lola         10 \n",
       "Bo           9  \n",
       "Winston      9  \n",
       "Sadie        8  \n",
       "the          8  \n",
       "an           7  \n",
       "Daisy        7  \n",
       "Buddy        7  \n",
       "Bailey       7  \n",
       "Toby         7  \n",
       "Jack         6  \n",
       "Milo         6  \n",
       "Stanley      6  \n",
       "Leo          6  \n",
       "Oscar        6  \n",
       "Jax          6  \n",
       "Rusty        6  \n",
       "Dave         6  \n",
       "Bella        6  \n",
       "Koda         6  \n",
       "Scout        6  \n",
       "Bentley      5  \n",
       "            ..  \n",
       "Brady        1  \n",
       "Lucia        1  \n",
       "Tuck         1  \n",
       "this         1  \n",
       "Skittle      1  \n",
       "Bookstore    1  \n",
       "Ron          1  \n",
       "Tito         1  \n",
       "Tassy        1  \n",
       "Humphrey     1  \n",
       "Jennifur     1  \n",
       "Frönq        1  \n",
       "Mollie       1  \n",
       "Siba         1  \n",
       "Maks         1  \n",
       "Major        1  \n",
       "Mitch        1  \n",
       "Arnold       1  \n",
       "Stark        1  \n",
       "Tiger        1  \n",
       "Jimbo        1  \n",
       "Genevieve    1  \n",
       "Ginger       1  \n",
       "Fabio        1  \n",
       "Jessiga      1  \n",
       "Fynn         1  \n",
       "Herb         1  \n",
       "Gerbald      1  \n",
       "Brandi       1  \n",
       "Lorelei      1  \n",
       "Name: name, Length: 957, dtype: int64"
      ]
     },
     "execution_count": 18,
     "metadata": {},
     "output_type": "execute_result"
    }
   ],
   "source": [
    "# check name of dog\n",
    "twitter_arch.name.value_counts()"
   ]
  },
  {
   "cell_type": "code",
   "execution_count": null,
   "metadata": {},
   "outputs": [
    {
     "name": "stdout",
     "output_type": "stream",
     "text": [
      "Rows with stop words: 83\n"
     ]
    }
   ],
   "source": [
    "# check for stop words in dog name\n",
    "# https://stackoverflow.com/a/5486535/7382214\n",
    "stop_words = set(get_stop_words('en'))\n",
    "\n",
    "count = 0\n",
    "for word in twitter_arch.name:\n",
    "    if word.lower() in stop_words:\n",
    "        count += 1\n",
    "print('Rows with stop words:', count)"
   ]
  },
  {
   "cell_type": "code",
   "execution_count": null,
   "metadata": {},
   "outputs": [],
   "source": [
    "# check if dogs have more than one category assigned\n",
    "categories = ['doggo', 'floofer', 'pupper', 'puppo']\n",
    "\n",
    "for category in categories:\n",
    "    twitter_arch[category] = twitter_arch[category].apply(lambda x: 0 if x == 'None' else 1)\n",
    "\n",
    "twitter_arch['number_categories'] = twitter_arch.loc[:,categories].sum(axis = 1)"
   ]
  },
  {
   "cell_type": "code",
   "execution_count": null,
   "metadata": {},
   "outputs": [
    {
     "data": {
      "text/plain": [
       "0    1976\n",
       "1    366 \n",
       "2    14  \n",
       "Name: number_categories, dtype: int64"
      ]
     },
     "execution_count": 21,
     "metadata": {},
     "output_type": "execute_result"
    }
   ],
   "source": [
    "# dogs categories\n",
    "twitter_arch['number_categories'].value_counts()"
   ]
  },
  {
   "cell_type": "markdown",
   "metadata": {},
   "source": [
    "#### Quality & Tidiness Issues\n",
    "\n",
    "- some of the gathered tweets are replies and should be removed;\n",
    "- the timestamp has an incorrect datatype - is an object, should be DateTime;\n",
    "- source is an HTML element - its text should be extracted;\n",
    "- some rows in the text column begin from 'RT @dog_rates:';\n",
    "- some rows in the text column have leading and/or trailing whitespace;\n",
    "- some of the gathered tweets are retweets;\n",
    "- we have 59 missing expanded urls;\n",
    "- we have 639 expanded urls which contain more than one url address;\n",
    "- denominator of some ratings is not 10;\n",
    "- numerator of some ratings is greater than 10 (does not need to be cleaned);\n",
    "- float ratings have been incorrectly read from the text of tweet;\n",
    "- 'None' in the name should be convert to NaN;\n",
    "- we have stop words in the name column;\n",
    "- dog 'stage' classification (doggo, floofer, pupper or puppo) should be one column;\n",
    "- some dogs have more than one category assigned;"
   ]
  },
  {
   "cell_type": "markdown",
   "metadata": {},
   "source": [
    "### Assess: Image Predictions"
   ]
  },
  {
   "cell_type": "code",
   "execution_count": null,
   "metadata": {},
   "outputs": [
    {
     "data": {
      "text/html": [
       "<div>\n",
       "<style scoped>\n",
       "    .dataframe tbody tr th:only-of-type {\n",
       "        vertical-align: middle;\n",
       "    }\n",
       "\n",
       "    .dataframe tbody tr th {\n",
       "        vertical-align: top;\n",
       "    }\n",
       "\n",
       "    .dataframe thead th {\n",
       "        text-align: right;\n",
       "    }\n",
       "</style>\n",
       "<table border=\"1\" class=\"dataframe\">\n",
       "  <thead>\n",
       "    <tr style=\"text-align: right;\">\n",
       "      <th></th>\n",
       "      <th>jpg_url</th>\n",
       "      <th>img_num</th>\n",
       "      <th>p1</th>\n",
       "      <th>p1_conf</th>\n",
       "      <th>p1_dog</th>\n",
       "      <th>p2</th>\n",
       "      <th>p2_conf</th>\n",
       "      <th>p2_dog</th>\n",
       "      <th>p3</th>\n",
       "      <th>p3_conf</th>\n",
       "      <th>p3_dog</th>\n",
       "    </tr>\n",
       "    <tr>\n",
       "      <th>tweet_id</th>\n",
       "      <th></th>\n",
       "      <th></th>\n",
       "      <th></th>\n",
       "      <th></th>\n",
       "      <th></th>\n",
       "      <th></th>\n",
       "      <th></th>\n",
       "      <th></th>\n",
       "      <th></th>\n",
       "      <th></th>\n",
       "      <th></th>\n",
       "    </tr>\n",
       "  </thead>\n",
       "  <tbody>\n",
       "    <tr>\n",
       "      <th>846153765933735936</th>\n",
       "      <td>https://pbs.twimg.com/media/C74kWqoU8AEaf3v.jpg</td>\n",
       "      <td>1</td>\n",
       "      <td>giant_schnauzer</td>\n",
       "      <td>0.346468</td>\n",
       "      <td>True</td>\n",
       "      <td>flat-coated_retriever</td>\n",
       "      <td>0.218451</td>\n",
       "      <td>True</td>\n",
       "      <td>Labrador_retriever</td>\n",
       "      <td>0.108020</td>\n",
       "      <td>True</td>\n",
       "    </tr>\n",
       "    <tr>\n",
       "      <th>890971913173991426</th>\n",
       "      <td>https://pbs.twimg.com/media/DF1eOmZXUAALUcq.jpg</td>\n",
       "      <td>1</td>\n",
       "      <td>Appenzeller</td>\n",
       "      <td>0.341703</td>\n",
       "      <td>True</td>\n",
       "      <td>Border_collie</td>\n",
       "      <td>0.199287</td>\n",
       "      <td>True</td>\n",
       "      <td>ice_lolly</td>\n",
       "      <td>0.193548</td>\n",
       "      <td>False</td>\n",
       "    </tr>\n",
       "    <tr>\n",
       "      <th>878057613040115712</th>\n",
       "      <td>https://pbs.twimg.com/media/DC98vABUIAA97pz.jpg</td>\n",
       "      <td>1</td>\n",
       "      <td>French_bulldog</td>\n",
       "      <td>0.839097</td>\n",
       "      <td>True</td>\n",
       "      <td>Boston_bull</td>\n",
       "      <td>0.078799</td>\n",
       "      <td>True</td>\n",
       "      <td>toy_terrier</td>\n",
       "      <td>0.015243</td>\n",
       "      <td>True</td>\n",
       "    </tr>\n",
       "  </tbody>\n",
       "</table>\n",
       "</div>"
      ],
      "text/plain": [
       "                                                            jpg_url  img_num  \\\n",
       "tweet_id                                                                       \n",
       "846153765933735936  https://pbs.twimg.com/media/C74kWqoU8AEaf3v.jpg  1         \n",
       "890971913173991426  https://pbs.twimg.com/media/DF1eOmZXUAALUcq.jpg  1         \n",
       "878057613040115712  https://pbs.twimg.com/media/DC98vABUIAA97pz.jpg  1         \n",
       "\n",
       "                                 p1   p1_conf  p1_dog                     p2  \\\n",
       "tweet_id                                                                       \n",
       "846153765933735936  giant_schnauzer  0.346468  True    flat-coated_retriever   \n",
       "890971913173991426  Appenzeller      0.341703  True    Border_collie           \n",
       "878057613040115712  French_bulldog   0.839097  True    Boston_bull             \n",
       "\n",
       "                     p2_conf  p2_dog                  p3   p3_conf  p3_dog  \n",
       "tweet_id                                                                    \n",
       "846153765933735936  0.218451  True    Labrador_retriever  0.108020  True    \n",
       "890971913173991426  0.199287  True    ice_lolly           0.193548  False   \n",
       "878057613040115712  0.078799  True    toy_terrier         0.015243  True    "
      ]
     },
     "execution_count": 22,
     "metadata": {},
     "output_type": "execute_result"
    }
   ],
   "source": [
    "# display sample of data\n",
    "image_pred.sample(3)"
   ]
  },
  {
   "cell_type": "code",
   "execution_count": null,
   "metadata": {},
   "outputs": [
    {
     "name": "stdout",
     "output_type": "stream",
     "text": [
      "<class 'pandas.core.frame.DataFrame'>\n",
      "Int64Index: 2075 entries, 666020888022790149 to 892420643555336193\n",
      "Data columns (total 11 columns):\n",
      "jpg_url    2075 non-null object\n",
      "img_num    2075 non-null int64\n",
      "p1         2075 non-null object\n",
      "p1_conf    2075 non-null float64\n",
      "p1_dog     2075 non-null bool\n",
      "p2         2075 non-null object\n",
      "p2_conf    2075 non-null float64\n",
      "p2_dog     2075 non-null bool\n",
      "p3         2075 non-null object\n",
      "p3_conf    2075 non-null float64\n",
      "p3_dog     2075 non-null bool\n",
      "dtypes: bool(3), float64(3), int64(1), object(4)\n",
      "memory usage: 152.0+ KB\n"
     ]
    }
   ],
   "source": [
    "# print a summary of a DataFrame\n",
    "image_pred.info()"
   ]
  },
  {
   "cell_type": "code",
   "execution_count": null,
   "metadata": {},
   "outputs": [
    {
     "data": {
      "text/plain": [
       "True"
      ]
     },
     "execution_count": 24,
     "metadata": {},
     "output_type": "execute_result"
    }
   ],
   "source": [
    "# check if ids are unique\n",
    "image_pred.index.is_unique"
   ]
  },
  {
   "cell_type": "code",
   "execution_count": null,
   "metadata": {},
   "outputs": [
    {
     "data": {
      "text/plain": [
       "0"
      ]
     },
     "execution_count": 25,
     "metadata": {},
     "output_type": "execute_result"
    }
   ],
   "source": [
    "# check jpg_url\n",
    "image_pred[~image_pred.jpg_url.str.endswith(('.jpg', '.png'), na = False)].jpg_url.count()"
   ]
  },
  {
   "cell_type": "code",
   "execution_count": null,
   "metadata": {},
   "outputs": [
    {
     "data": {
      "text/plain": [
       "1    1780\n",
       "2    198 \n",
       "3    66  \n",
       "4    31  \n",
       "Name: img_num, dtype: int64"
      ]
     },
     "execution_count": 26,
     "metadata": {},
     "output_type": "execute_result"
    }
   ],
   "source": [
    "# check image number\n",
    "image_pred.img_num.value_counts()"
   ]
  },
  {
   "cell_type": "code",
   "execution_count": null,
   "metadata": {},
   "outputs": [
    {
     "data": {
      "text/plain": [
       "tweet_id\n",
       "747204161125646336    coil                 \n",
       "848690551926992896    flat-coated_retriever\n",
       "678800283649069056    Labrador_retriever   \n",
       "Name: p1, dtype: object"
      ]
     },
     "execution_count": 27,
     "metadata": {},
     "output_type": "execute_result"
    }
   ],
   "source": [
    "# check 1st prediction\n",
    "image_pred.p1.sample(3)"
   ]
  },
  {
   "cell_type": "code",
   "execution_count": null,
   "metadata": {},
   "outputs": [
    {
     "data": {
      "text/plain": [
       "2075"
      ]
     },
     "execution_count": 28,
     "metadata": {},
     "output_type": "execute_result"
    }
   ],
   "source": [
    "# check dog predictions\n",
    "image_pred.p1_dog.count()"
   ]
  },
  {
   "cell_type": "markdown",
   "metadata": {},
   "source": [
    "#### Quality & Tidiness Issues\n",
    "\n",
    "- the dataset has 2075 entries, while twitter archive dataset has 2356 entries;\n",
    "- column names are confusing and do not give much information about the content;\n",
    "- dog breeds contain underscores, and have different case formatting;\n",
    "- only 2075 images have been classified as dog images for top prediction;\n",
    "- dataset should be merged with the twitter archive dataset;"
   ]
  },
  {
   "cell_type": "markdown",
   "metadata": {},
   "source": [
    "### Assess: Twitter API Data"
   ]
  },
  {
   "cell_type": "code",
   "execution_count": null,
   "metadata": {},
   "outputs": [
    {
     "data": {
      "text/html": [
       "<div>\n",
       "<style scoped>\n",
       "    .dataframe tbody tr th:only-of-type {\n",
       "        vertical-align: middle;\n",
       "    }\n",
       "\n",
       "    .dataframe tbody tr th {\n",
       "        vertical-align: top;\n",
       "    }\n",
       "\n",
       "    .dataframe thead th {\n",
       "        text-align: right;\n",
       "    }\n",
       "</style>\n",
       "<table border=\"1\" class=\"dataframe\">\n",
       "  <thead>\n",
       "    <tr style=\"text-align: right;\">\n",
       "      <th></th>\n",
       "      <th>favorites</th>\n",
       "      <th>retweets</th>\n",
       "    </tr>\n",
       "    <tr>\n",
       "      <th>tweet_id</th>\n",
       "      <th></th>\n",
       "      <th></th>\n",
       "    </tr>\n",
       "  </thead>\n",
       "  <tbody>\n",
       "    <tr>\n",
       "      <th>784057939640352768</th>\n",
       "      <td>33505</td>\n",
       "      <td>12953</td>\n",
       "    </tr>\n",
       "    <tr>\n",
       "      <th>683462770029932544</th>\n",
       "      <td>2676</td>\n",
       "      <td>761</td>\n",
       "    </tr>\n",
       "    <tr>\n",
       "      <th>885167619883638784</th>\n",
       "      <td>22367</td>\n",
       "      <td>4556</td>\n",
       "    </tr>\n",
       "  </tbody>\n",
       "</table>\n",
       "</div>"
      ],
      "text/plain": [
       "                    favorites  retweets\n",
       "tweet_id                               \n",
       "784057939640352768  33505      12953   \n",
       "683462770029932544  2676       761     \n",
       "885167619883638784  22367      4556    "
      ]
     },
     "execution_count": 29,
     "metadata": {},
     "output_type": "execute_result"
    }
   ],
   "source": [
    "# display sample of data\n",
    "twitter_api.sample(3)"
   ]
  },
  {
   "cell_type": "code",
   "execution_count": null,
   "metadata": {},
   "outputs": [
    {
     "name": "stdout",
     "output_type": "stream",
     "text": [
      "<class 'pandas.core.frame.DataFrame'>\n",
      "Int64Index: 2354 entries, 892420643555336193 to 666020888022790149\n",
      "Data columns (total 2 columns):\n",
      "favorites    2354 non-null int64\n",
      "retweets     2354 non-null int64\n",
      "dtypes: int64(2)\n",
      "memory usage: 55.2 KB\n"
     ]
    }
   ],
   "source": [
    "# print a summary of a DataFrame\n",
    "twitter_api.info()"
   ]
  },
  {
   "cell_type": "code",
   "execution_count": null,
   "metadata": {},
   "outputs": [
    {
     "data": {
      "text/plain": [
       "True"
      ]
     },
     "execution_count": 31,
     "metadata": {},
     "output_type": "execute_result"
    }
   ],
   "source": [
    "# check if ids are unique\n",
    "twitter_arch.index.is_unique"
   ]
  },
  {
   "cell_type": "markdown",
   "metadata": {},
   "source": [
    "#### Quality & Tidiness Issues\n",
    "\n",
    "- twitter archive dataset has 2356 entries, while twitter API data has 2354;\n",
    "- dataset should be merged with the twitter archive dataset;"
   ]
  },
  {
   "cell_type": "markdown",
   "metadata": {},
   "source": [
    "## Cleaning Data\n",
    "\n",
    "Using pandas, clean the quality and tidiness issues identified in the [Assessing Data](#Assessing-Data) section.\n",
    "\n",
    "<hr>\n",
    "\n",
    "* [Twitter Archive Data](#Clean:-Twitter-Archive-Data)  \n",
    "* [Image Predictions](#Clean:-Image-Predictions)  \n",
    "* [Twitter API Data](#Clean:-Twitter-API-Data)\n",
    "* [Merge Datasets](#Merge-Datasets)"
   ]
  },
  {
   "cell_type": "markdown",
   "metadata": {},
   "source": [
    "### Clean: Twitter Archive Data"
   ]
  },
  {
   "cell_type": "code",
   "execution_count": null,
   "metadata": {},
   "outputs": [],
   "source": [
    "# create a copy of dataset\n",
    "twitter_arch_clean = twitter_arch.copy()"
   ]
  },
  {
   "cell_type": "code",
   "execution_count": null,
   "metadata": {},
   "outputs": [
    {
     "data": {
      "text/html": [
       "<div>\n",
       "<style scoped>\n",
       "    .dataframe tbody tr th:only-of-type {\n",
       "        vertical-align: middle;\n",
       "    }\n",
       "\n",
       "    .dataframe tbody tr th {\n",
       "        vertical-align: top;\n",
       "    }\n",
       "\n",
       "    .dataframe thead th {\n",
       "        text-align: right;\n",
       "    }\n",
       "</style>\n",
       "<table border=\"1\" class=\"dataframe\">\n",
       "  <thead>\n",
       "    <tr style=\"text-align: right;\">\n",
       "      <th></th>\n",
       "      <th>in_reply_to_status_id</th>\n",
       "      <th>in_reply_to_user_id</th>\n",
       "      <th>timestamp</th>\n",
       "      <th>source</th>\n",
       "      <th>text</th>\n",
       "      <th>retweeted_status_id</th>\n",
       "      <th>retweeted_status_user_id</th>\n",
       "      <th>retweeted_status_timestamp</th>\n",
       "      <th>expanded_urls</th>\n",
       "      <th>rating_numerator</th>\n",
       "      <th>rating_denominator</th>\n",
       "      <th>name</th>\n",
       "      <th>doggo</th>\n",
       "      <th>floofer</th>\n",
       "      <th>pupper</th>\n",
       "      <th>puppo</th>\n",
       "      <th>number_categories</th>\n",
       "    </tr>\n",
       "    <tr>\n",
       "      <th>tweet_id</th>\n",
       "      <th></th>\n",
       "      <th></th>\n",
       "      <th></th>\n",
       "      <th></th>\n",
       "      <th></th>\n",
       "      <th></th>\n",
       "      <th></th>\n",
       "      <th></th>\n",
       "      <th></th>\n",
       "      <th></th>\n",
       "      <th></th>\n",
       "      <th></th>\n",
       "      <th></th>\n",
       "      <th></th>\n",
       "      <th></th>\n",
       "      <th></th>\n",
       "      <th></th>\n",
       "    </tr>\n",
       "  </thead>\n",
       "  <tbody>\n",
       "    <tr>\n",
       "      <th>671561002136281088</th>\n",
       "      <td>NaN</td>\n",
       "      <td>NaN</td>\n",
       "      <td>2015-12-01 05:26:34 +0000</td>\n",
       "      <td>&lt;a href=\"http://twitter.com/download/iphone\" rel=\"nofollow\"&gt;Twitter for iPhone&lt;/a&gt;</td>\n",
       "      <td>This is the best thing I've ever seen so spread it like wildfire &amp;amp; maybe we'll find the genius who created it. 13/10 https://t.co/q6RsuOVYwU</td>\n",
       "      <td>NaN</td>\n",
       "      <td>NaN</td>\n",
       "      <td>NaN</td>\n",
       "      <td>https://twitter.com/dog_rates/status/671561002136281088/photo/1</td>\n",
       "      <td>13</td>\n",
       "      <td>10</td>\n",
       "      <td>the</td>\n",
       "      <td>0</td>\n",
       "      <td>0</td>\n",
       "      <td>0</td>\n",
       "      <td>0</td>\n",
       "      <td>0</td>\n",
       "    </tr>\n",
       "    <tr>\n",
       "      <th>692535307825213440</th>\n",
       "      <td>NaN</td>\n",
       "      <td>NaN</td>\n",
       "      <td>2016-01-28 02:30:58 +0000</td>\n",
       "      <td>&lt;a href=\"http://twitter.com/download/iphone\" rel=\"nofollow\"&gt;Twitter for iPhone&lt;/a&gt;</td>\n",
       "      <td>This is Amber. She's a Fetty Woof. 10/10 would pet in a heartbeat https://t.co/Dt360V2MYI</td>\n",
       "      <td>NaN</td>\n",
       "      <td>NaN</td>\n",
       "      <td>NaN</td>\n",
       "      <td>https://twitter.com/dog_rates/status/692535307825213440/photo/1</td>\n",
       "      <td>10</td>\n",
       "      <td>10</td>\n",
       "      <td>Amber</td>\n",
       "      <td>0</td>\n",
       "      <td>0</td>\n",
       "      <td>0</td>\n",
       "      <td>0</td>\n",
       "      <td>0</td>\n",
       "    </tr>\n",
       "    <tr>\n",
       "      <th>777641927919427584</th>\n",
       "      <td>NaN</td>\n",
       "      <td>NaN</td>\n",
       "      <td>2016-09-18 22:54:18 +0000</td>\n",
       "      <td>&lt;a href=\"http://twitter.com/download/iphone\" rel=\"nofollow\"&gt;Twitter for iPhone&lt;/a&gt;</td>\n",
       "      <td>RT @dog_rates: This is Arnie. He's a Nova Scotian Fridge Floof. Rare af. 12/10 https://t.co/lprdOylVpS</td>\n",
       "      <td>7.504293e+17</td>\n",
       "      <td>4.196984e+09</td>\n",
       "      <td>2016-07-05 20:41:01 +0000</td>\n",
       "      <td>https://twitter.com/dog_rates/status/750429297815552001/photo/1,https://twitter.com/dog_rates/status/750429297815552001/photo/1,https://twitter.com/dog_rates/status/750429297815552001/photo/1,https://twitter.com/dog_rates/status/750429297815552001/photo/1</td>\n",
       "      <td>12</td>\n",
       "      <td>10</td>\n",
       "      <td>Arnie</td>\n",
       "      <td>0</td>\n",
       "      <td>0</td>\n",
       "      <td>0</td>\n",
       "      <td>0</td>\n",
       "      <td>0</td>\n",
       "    </tr>\n",
       "  </tbody>\n",
       "</table>\n",
       "</div>"
      ],
      "text/plain": [
       "                    in_reply_to_status_id  in_reply_to_user_id  \\\n",
       "tweet_id                                                         \n",
       "671561002136281088 NaN                    NaN                    \n",
       "692535307825213440 NaN                    NaN                    \n",
       "777641927919427584 NaN                    NaN                    \n",
       "\n",
       "                                    timestamp  \\\n",
       "tweet_id                                        \n",
       "671561002136281088  2015-12-01 05:26:34 +0000   \n",
       "692535307825213440  2016-01-28 02:30:58 +0000   \n",
       "777641927919427584  2016-09-18 22:54:18 +0000   \n",
       "\n",
       "                                                                                                source  \\\n",
       "tweet_id                                                                                                 \n",
       "671561002136281088  <a href=\"http://twitter.com/download/iphone\" rel=\"nofollow\">Twitter for iPhone</a>   \n",
       "692535307825213440  <a href=\"http://twitter.com/download/iphone\" rel=\"nofollow\">Twitter for iPhone</a>   \n",
       "777641927919427584  <a href=\"http://twitter.com/download/iphone\" rel=\"nofollow\">Twitter for iPhone</a>   \n",
       "\n",
       "                                                                                                                                                                text  \\\n",
       "tweet_id                                                                                                                                                               \n",
       "671561002136281088  This is the best thing I've ever seen so spread it like wildfire &amp; maybe we'll find the genius who created it. 13/10 https://t.co/q6RsuOVYwU   \n",
       "692535307825213440  This is Amber. She's a Fetty Woof. 10/10 would pet in a heartbeat https://t.co/Dt360V2MYI                                                          \n",
       "777641927919427584  RT @dog_rates: This is Arnie. He's a Nova Scotian Fridge Floof. Rare af. 12/10 https://t.co/lprdOylVpS                                             \n",
       "\n",
       "                    retweeted_status_id  retweeted_status_user_id  \\\n",
       "tweet_id                                                            \n",
       "671561002136281088 NaN                  NaN                         \n",
       "692535307825213440 NaN                  NaN                         \n",
       "777641927919427584  7.504293e+17         4.196984e+09               \n",
       "\n",
       "                   retweeted_status_timestamp  \\\n",
       "tweet_id                                        \n",
       "671561002136281088  NaN                         \n",
       "692535307825213440  NaN                         \n",
       "777641927919427584  2016-07-05 20:41:01 +0000   \n",
       "\n",
       "                                                                                                                                                                                                                                                                      expanded_urls  \\\n",
       "tweet_id                                                                                                                                                                                                                                                                              \n",
       "671561002136281088  https://twitter.com/dog_rates/status/671561002136281088/photo/1                                                                                                                                                                                                   \n",
       "692535307825213440  https://twitter.com/dog_rates/status/692535307825213440/photo/1                                                                                                                                                                                                   \n",
       "777641927919427584  https://twitter.com/dog_rates/status/750429297815552001/photo/1,https://twitter.com/dog_rates/status/750429297815552001/photo/1,https://twitter.com/dog_rates/status/750429297815552001/photo/1,https://twitter.com/dog_rates/status/750429297815552001/photo/1   \n",
       "\n",
       "                    rating_numerator  rating_denominator   name  doggo  \\\n",
       "tweet_id                                                                 \n",
       "671561002136281088  13                10                  the    0       \n",
       "692535307825213440  10                10                  Amber  0       \n",
       "777641927919427584  12                10                  Arnie  0       \n",
       "\n",
       "                    floofer  pupper  puppo  number_categories  \n",
       "tweet_id                                                       \n",
       "671561002136281088  0        0       0      0                  \n",
       "692535307825213440  0        0       0      0                  \n",
       "777641927919427584  0        0       0      0                  "
      ]
     },
     "execution_count": 33,
     "metadata": {},
     "output_type": "execute_result"
    }
   ],
   "source": [
    "# display sample of data\n",
    "twitter_arch_clean.sample(3)"
   ]
  },
  {
   "cell_type": "markdown",
   "metadata": {},
   "source": [
    "#### Define\n",
    "\n",
    "Some of the gathered tweets are replies and retweets\n",
    "- remove retweets data from the dataset\n",
    "- remove columns with retweet and replies information\n",
    "\n",
    "#### Code"
   ]
  },
  {
   "cell_type": "code",
   "execution_count": null,
   "metadata": {},
   "outputs": [
    {
     "data": {
      "text/plain": [
       "(2356, 17)"
      ]
     },
     "execution_count": 34,
     "metadata": {},
     "output_type": "execute_result"
    }
   ],
   "source": [
    "# display shape of dataframe\n",
    "twitter_arch_clean.shape"
   ]
  },
  {
   "cell_type": "code",
   "execution_count": null,
   "metadata": {},
   "outputs": [],
   "source": [
    "# drop retweets                                                 \n",
    "twitter_arch_clean = twitter_arch_clean[twitter_arch_clean['retweeted_status_id'].isnull()]"
   ]
  },
  {
   "cell_type": "code",
   "execution_count": null,
   "metadata": {},
   "outputs": [
    {
     "data": {
      "text/plain": [
       "Index(['in_reply_to_status_id', 'in_reply_to_user_id', 'timestamp', 'source',\n",
       "       'text', 'retweeted_status_id', 'retweeted_status_user_id',\n",
       "       'retweeted_status_timestamp', 'expanded_urls', 'rating_numerator',\n",
       "       'rating_denominator', 'name', 'doggo', 'floofer', 'pupper', 'puppo',\n",
       "       'number_categories'],\n",
       "      dtype='object')"
      ]
     },
     "execution_count": 36,
     "metadata": {},
     "output_type": "execute_result"
    }
   ],
   "source": [
    "# display all columns\n",
    "twitter_arch_clean.columns"
   ]
  },
  {
   "cell_type": "code",
   "execution_count": null,
   "metadata": {},
   "outputs": [],
   "source": [
    "# drop unnecessary columns\n",
    "twitter_arch_clean.drop(['in_reply_to_status_id','in_reply_to_user_id','retweeted_status_id',\n",
    "           'retweeted_status_user_id','retweeted_status_timestamp'], axis = 1, inplace = True)"
   ]
  },
  {
   "cell_type": "code",
   "execution_count": null,
   "metadata": {},
   "outputs": [
    {
     "data": {
      "text/plain": [
       "(2175, 12)"
      ]
     },
     "execution_count": 38,
     "metadata": {},
     "output_type": "execute_result"
    }
   ],
   "source": [
    "# display shape of dataframe\n",
    "twitter_arch_clean.shape"
   ]
  },
  {
   "cell_type": "code",
   "execution_count": null,
   "metadata": {},
   "outputs": [
    {
     "data": {
      "text/html": [
       "<div>\n",
       "<style scoped>\n",
       "    .dataframe tbody tr th:only-of-type {\n",
       "        vertical-align: middle;\n",
       "    }\n",
       "\n",
       "    .dataframe tbody tr th {\n",
       "        vertical-align: top;\n",
       "    }\n",
       "\n",
       "    .dataframe thead th {\n",
       "        text-align: right;\n",
       "    }\n",
       "</style>\n",
       "<table border=\"1\" class=\"dataframe\">\n",
       "  <thead>\n",
       "    <tr style=\"text-align: right;\">\n",
       "      <th></th>\n",
       "      <th>timestamp</th>\n",
       "      <th>source</th>\n",
       "      <th>text</th>\n",
       "      <th>expanded_urls</th>\n",
       "      <th>rating_numerator</th>\n",
       "      <th>rating_denominator</th>\n",
       "      <th>name</th>\n",
       "      <th>doggo</th>\n",
       "      <th>floofer</th>\n",
       "      <th>pupper</th>\n",
       "      <th>puppo</th>\n",
       "      <th>number_categories</th>\n",
       "    </tr>\n",
       "    <tr>\n",
       "      <th>tweet_id</th>\n",
       "      <th></th>\n",
       "      <th></th>\n",
       "      <th></th>\n",
       "      <th></th>\n",
       "      <th></th>\n",
       "      <th></th>\n",
       "      <th></th>\n",
       "      <th></th>\n",
       "      <th></th>\n",
       "      <th></th>\n",
       "      <th></th>\n",
       "      <th></th>\n",
       "    </tr>\n",
       "  </thead>\n",
       "  <tbody>\n",
       "    <tr>\n",
       "      <th>886366144734445568</th>\n",
       "      <td>2017-07-15 23:25:31 +0000</td>\n",
       "      <td>&lt;a href=\"http://twitter.com/download/iphone\" rel=\"nofollow\"&gt;Twitter for iPhone&lt;/a&gt;</td>\n",
       "      <td>This is Roscoe. Another pupper fallen victim to spontaneous tongue ejections. Get the BlepiPen immediate. 12/10 deep breaths Roscoe https://t.co/RGE08MIJox</td>\n",
       "      <td>https://twitter.com/dog_rates/status/886366144734445568/photo/1,https://twitter.com/dog_rates/status/886366144734445568/photo/1</td>\n",
       "      <td>12</td>\n",
       "      <td>10</td>\n",
       "      <td>Roscoe</td>\n",
       "      <td>0</td>\n",
       "      <td>0</td>\n",
       "      <td>1</td>\n",
       "      <td>0</td>\n",
       "      <td>1</td>\n",
       "    </tr>\n",
       "    <tr>\n",
       "      <th>670815497391357952</th>\n",
       "      <td>2015-11-29 04:04:12 +0000</td>\n",
       "      <td>&lt;a href=\"http://twitter.com/download/iphone\" rel=\"nofollow\"&gt;Twitter for iPhone&lt;/a&gt;</td>\n",
       "      <td>This is Sage. He likes to burn shit. 10/10 https://t.co/nLYruSMRe6</td>\n",
       "      <td>https://twitter.com/dog_rates/status/670815497391357952/photo/1</td>\n",
       "      <td>10</td>\n",
       "      <td>10</td>\n",
       "      <td>Sage</td>\n",
       "      <td>0</td>\n",
       "      <td>0</td>\n",
       "      <td>0</td>\n",
       "      <td>0</td>\n",
       "      <td>0</td>\n",
       "    </tr>\n",
       "    <tr>\n",
       "      <th>673317986296586240</th>\n",
       "      <td>2015-12-06 01:48:12 +0000</td>\n",
       "      <td>&lt;a href=\"http://twitter.com/download/iphone\" rel=\"nofollow\"&gt;Twitter for iPhone&lt;/a&gt;</td>\n",
       "      <td>Take a moment and appreciate how these two dogs fell asleep. Simply magnificent. 10/10 for both https://t.co/juX48bWpng</td>\n",
       "      <td>https://twitter.com/dog_rates/status/673317986296586240/photo/1,https://twitter.com/dog_rates/status/673317986296586240/photo/1</td>\n",
       "      <td>10</td>\n",
       "      <td>10</td>\n",
       "      <td>None</td>\n",
       "      <td>0</td>\n",
       "      <td>0</td>\n",
       "      <td>0</td>\n",
       "      <td>0</td>\n",
       "      <td>0</td>\n",
       "    </tr>\n",
       "  </tbody>\n",
       "</table>\n",
       "</div>"
      ],
      "text/plain": [
       "                                    timestamp  \\\n",
       "tweet_id                                        \n",
       "886366144734445568  2017-07-15 23:25:31 +0000   \n",
       "670815497391357952  2015-11-29 04:04:12 +0000   \n",
       "673317986296586240  2015-12-06 01:48:12 +0000   \n",
       "\n",
       "                                                                                                source  \\\n",
       "tweet_id                                                                                                 \n",
       "886366144734445568  <a href=\"http://twitter.com/download/iphone\" rel=\"nofollow\">Twitter for iPhone</a>   \n",
       "670815497391357952  <a href=\"http://twitter.com/download/iphone\" rel=\"nofollow\">Twitter for iPhone</a>   \n",
       "673317986296586240  <a href=\"http://twitter.com/download/iphone\" rel=\"nofollow\">Twitter for iPhone</a>   \n",
       "\n",
       "                                                                                                                                                                           text  \\\n",
       "tweet_id                                                                                                                                                                          \n",
       "886366144734445568  This is Roscoe. Another pupper fallen victim to spontaneous tongue ejections. Get the BlepiPen immediate. 12/10 deep breaths Roscoe https://t.co/RGE08MIJox   \n",
       "670815497391357952  This is Sage. He likes to burn shit. 10/10 https://t.co/nLYruSMRe6                                                                                            \n",
       "673317986296586240  Take a moment and appreciate how these two dogs fell asleep. Simply magnificent. 10/10 for both https://t.co/juX48bWpng                                       \n",
       "\n",
       "                                                                                                                                      expanded_urls  \\\n",
       "tweet_id                                                                                                                                              \n",
       "886366144734445568  https://twitter.com/dog_rates/status/886366144734445568/photo/1,https://twitter.com/dog_rates/status/886366144734445568/photo/1   \n",
       "670815497391357952  https://twitter.com/dog_rates/status/670815497391357952/photo/1                                                                   \n",
       "673317986296586240  https://twitter.com/dog_rates/status/673317986296586240/photo/1,https://twitter.com/dog_rates/status/673317986296586240/photo/1   \n",
       "\n",
       "                    rating_numerator  rating_denominator    name  doggo  \\\n",
       "tweet_id                                                                  \n",
       "886366144734445568  12                10                  Roscoe  0       \n",
       "670815497391357952  10                10                  Sage    0       \n",
       "673317986296586240  10                10                  None    0       \n",
       "\n",
       "                    floofer  pupper  puppo  number_categories  \n",
       "tweet_id                                                       \n",
       "886366144734445568  0        1       0      1                  \n",
       "670815497391357952  0        0       0      0                  \n",
       "673317986296586240  0        0       0      0                  "
      ]
     },
     "execution_count": 39,
     "metadata": {},
     "output_type": "execute_result"
    }
   ],
   "source": [
    "# display cleaned dataset\n",
    "twitter_arch_clean.sample(3)"
   ]
  },
  {
   "cell_type": "markdown",
   "metadata": {},
   "source": [
    "#### Define\n",
    "\n",
    "The timestamp has an incorrect datatype - is an object, should be DateTime\n",
    "* convert to datetime\n",
    "\n",
    "#### Code"
   ]
  },
  {
   "cell_type": "code",
   "execution_count": null,
   "metadata": {},
   "outputs": [],
   "source": [
    "# convert to datetime\n",
    "twitter_arch_clean.timestamp = pd.to_datetime(twitter_arch_clean.timestamp)"
   ]
  },
  {
   "cell_type": "code",
   "execution_count": null,
   "metadata": {},
   "outputs": [
    {
     "name": "stdout",
     "output_type": "stream",
     "text": [
      "<class 'pandas.core.frame.DataFrame'>\n",
      "Int64Index: 2175 entries, 892420643555336193 to 666020888022790149\n",
      "Data columns (total 12 columns):\n",
      "timestamp             2175 non-null datetime64[ns]\n",
      "source                2175 non-null object\n",
      "text                  2175 non-null object\n",
      "expanded_urls         2117 non-null object\n",
      "rating_numerator      2175 non-null int64\n",
      "rating_denominator    2175 non-null int64\n",
      "name                  2175 non-null object\n",
      "doggo                 2175 non-null int64\n",
      "floofer               2175 non-null int64\n",
      "pupper                2175 non-null int64\n",
      "puppo                 2175 non-null int64\n",
      "number_categories     2175 non-null int64\n",
      "dtypes: datetime64[ns](1), int64(7), object(4)\n",
      "memory usage: 220.9+ KB\n"
     ]
    }
   ],
   "source": [
    "# display dataset types\n",
    "twitter_arch_clean.info()"
   ]
  },
  {
   "cell_type": "markdown",
   "metadata": {},
   "source": [
    "#### Define\n",
    "\n",
    "Source is an HTML element - its text should be extracted\n",
    "* extract inner text of the HTML elements\n",
    "\n",
    "#### Code"
   ]
  },
  {
   "cell_type": "code",
   "execution_count": null,
   "metadata": {},
   "outputs": [],
   "source": [
    "# extract inner text from HTML\n",
    "twitter_arch_clean.source = twitter_arch_clean.source.apply(lambda x: re.findall(r'>(.*)<', x)[0])"
   ]
  },
  {
   "cell_type": "code",
   "execution_count": null,
   "metadata": {},
   "outputs": [
    {
     "data": {
      "text/plain": [
       "Twitter for iPhone     2042\n",
       "Vine - Make a Scene    91  \n",
       "Twitter Web Client     31  \n",
       "TweetDeck              11  \n",
       "Name: source, dtype: int64"
      ]
     },
     "execution_count": 43,
     "metadata": {},
     "output_type": "execute_result"
    }
   ],
   "source": [
    "# display new source\n",
    "twitter_arch_clean.source.value_counts()"
   ]
  },
  {
   "cell_type": "markdown",
   "metadata": {},
   "source": [
    "#### Define\n",
    "\n",
    "Some rows have leading and/or trailing whitespace:\n",
    "- strip whitespace\n",
    "\n",
    "#### Code"
   ]
  },
  {
   "cell_type": "code",
   "execution_count": null,
   "metadata": {},
   "outputs": [],
   "source": [
    "# strip leading and trailing space\n",
    "twitter_arch_clean.text = twitter_arch_clean.text.str.strip()"
   ]
  },
  {
   "cell_type": "markdown",
   "metadata": {},
   "source": [
    "#### Define\n",
    "\n",
    "We have 639 expanded urls which contain more than one url address and 59 missing expanded urls\n",
    "- build correct links by using tweet id\n",
    "\n",
    "#### Code"
   ]
  },
  {
   "cell_type": "code",
   "execution_count": null,
   "metadata": {},
   "outputs": [],
   "source": [
    "# fix expanded urls\n",
    "for index, column in twitter_arch_clean.iterrows():\n",
    "    twitter_arch_clean.loc[index, 'expanded_urls'] = 'https://twitter.com/dog_rates/status/' + str(index)\n",
    "\n",
    "twitter_arch_clean.sample(3)"
   ]
  },
  {
   "cell_type": "markdown",
   "metadata": {},
   "source": [
    "#### Define\n",
    "\n",
    "Float ratings have been incorrectly read from the text of tweet\n",
    "\n",
    "- gather correct rating when rating is a fraction\n",
    "\n",
    "#### Code"
   ]
  },
  {
   "cell_type": "code",
   "execution_count": null,
   "metadata": {},
   "outputs": [],
   "source": [
    "# example of tweet with incorrect rating\n",
    "twitter_arch_clean[twitter_arch_clean.text.str.contains(r'\\d+\\.\\d+\\/\\d+')][['text','rating_denominator', 'rating_numerator']].sample(1)"
   ]
  },
  {
   "cell_type": "code",
   "execution_count": null,
   "metadata": {},
   "outputs": [],
   "source": [
    "# convert both columns to floats\n",
    "twitter_arch_clean['rating_numerator'] = twitter_arch_clean['rating_numerator'].astype(float)\n",
    "twitter_arch_clean['rating_denominator'] = twitter_arch_clean['rating_denominator'].astype(float)\n",
    "\n",
    "# find columns with fractions\n",
    "fraction_ratings = twitter_arch_clean[twitter_arch_clean.text.str.contains(r'\\d+\\.\\d+\\/\\d+', na = False)].index\n",
    "\n",
    "# extract correct rating and replace incorrect one\n",
    "for index in fraction_ratings:\n",
    "    rating = re.search('\\d+\\.\\d+\\/\\d+', twitter_arch_clean.loc[index,:].text).group(0)\n",
    "    twitter_arch_clean.at[index,'rating_numerator'], twitter_arch_clean.at[index,'rating_denominator'] = rating.split('/')"
   ]
  },
  {
   "cell_type": "code",
   "execution_count": null,
   "metadata": {},
   "outputs": [],
   "source": [
    "# display sample of fixed data\n",
    "twitter_arch_clean.loc[fraction_ratings,:][['text','rating_denominator', 'rating_numerator']].sample(1)"
   ]
  },
  {
   "cell_type": "markdown",
   "metadata": {},
   "source": [
    "#### Define\n",
    "\n",
    "Denominator of some ratings is not 10. Numerator of some ratings is greater than 10. The fact that the rating numerators are greater than the denominators does not need to be cleaned, however I will introduce a normalized rating which will be easier to plot.\n",
    "\n",
    "- fix incorrectly read ratings\n",
    "- add normalized rating\n",
    "\n",
    "#### Code"
   ]
  },
  {
   "cell_type": "code",
   "execution_count": null,
   "metadata": {},
   "outputs": [],
   "source": [
    "# save index of tweets with denominator greater than 10\n",
    "high_denominator = twitter_arch[twitter_arch.rating_denominator > 10].index\n",
    "\n",
    "# display sample of data with denominator greater than 10\n",
    "twitter_arch_clean.loc[high_denominator,:][['text','rating_denominator', 'rating_numerator']].sample(1)"
   ]
  },
  {
   "cell_type": "code",
   "execution_count": null,
   "metadata": {},
   "outputs": [],
   "source": [
    "# fix rating manually for tweets for which rating was read incorrectly\n",
    "twitter_arch_clean.loc[832088576586297345, 'rating_denominator'] = 0\n",
    "twitter_arch_clean.loc[832088576586297345, 'rating_numerator'] = 0\n",
    "\n",
    "twitter_arch_clean.loc[775096608509886464, 'rating_denominator'] = 10\n",
    "twitter_arch_clean.loc[775096608509886464, 'rating_numerator'] = 14\n",
    "\n",
    "twitter_arch_clean.loc[740373189193256964, 'rating_denominator'] = 10\n",
    "twitter_arch_clean.loc[740373189193256964, 'rating_numerator'] = 14\n",
    "\n",
    "twitter_arch_clean.loc[722974582966214656, 'rating_denominator'] = 10\n",
    "twitter_arch_clean.loc[722974582966214656, 'rating_numerator'] = 13\n",
    "\n",
    "twitter_arch_clean.loc[716439118184652801, 'rating_denominator'] = 10\n",
    "twitter_arch_clean.loc[716439118184652801, 'rating_numerator'] = 11\n",
    "\n",
    "twitter_arch_clean.loc[682962037429899265, 'rating_denominator'] = 10\n",
    "twitter_arch_clean.loc[682962037429899265, 'rating_numerator'] = 10"
   ]
  },
  {
   "cell_type": "code",
   "execution_count": null,
   "metadata": {},
   "outputs": [],
   "source": [
    "# display sample of fixed rating\n",
    "twitter_arch_clean.loc[high_denominator,:][['text','rating_denominator', 'rating_numerator']].sample(1)"
   ]
  },
  {
   "cell_type": "code",
   "execution_count": null,
   "metadata": {},
   "outputs": [],
   "source": [
    "# add normalized rating\n",
    "twitter_arch_clean['rating'] = twitter_arch_clean['rating_numerator'] / twitter_arch_clean['rating_denominator']"
   ]
  },
  {
   "cell_type": "code",
   "execution_count": null,
   "metadata": {},
   "outputs": [],
   "source": [
    "# display sample of data with the new column\n",
    "twitter_arch_clean[['text','rating_denominator', 'rating_numerator', 'rating']].sample(1)"
   ]
  },
  {
   "cell_type": "markdown",
   "metadata": {},
   "source": [
    "#### Define\n",
    "\n",
    "We have stop words in the name column and 'None' values\n",
    "- replace stop words with the correct name\n",
    "- replace None with Nan\n",
    "\n",
    "#### Code"
   ]
  },
  {
   "cell_type": "code",
   "execution_count": null,
   "metadata": {
    "scrolled": false
   },
   "outputs": [],
   "source": [
    "# adapted from https://stackoverflow.com/a/35976915/7382214\n",
    "\n",
    "# keywords after which a dog name appears in the sentence\n",
    "keywords = ('named', 'This is', 'Say hello to', 'Meet', 'Here we have', 'name is', 'name to')\n",
    "# build regex pattern to find names\n",
    "regex = r\"\\b(?:{})\\b (\\w+)\".format(\"|\".join(keywords))\n",
    "\n",
    "# loop over the rows, and find dog names\n",
    "for index, column in twitter_arch_clean.iterrows():\n",
    "    split_list = re.split(regex, str(twitter_arch_clean.loc[index, 'text']), flags = re.IGNORECASE)\n",
    "    if len(split_list) > 1 and split_list[1] not in stop_words:\n",
    "        twitter_arch_clean.loc[index, 'name'] = split_list[1].title()\n",
    "    else:\n",
    "        twitter_arch_clean.loc[index, 'name'] = np.nan"
   ]
  },
  {
   "cell_type": "markdown",
   "metadata": {},
   "source": [
    "#### Define\n",
    "\n",
    "Dog 'stage' classification (doggo, floofer, pupper or puppo) should be one column. Some dogs have more than one category assigned\n",
    "\n",
    "#### Code"
   ]
  },
  {
   "cell_type": "code",
   "execution_count": null,
   "metadata": {},
   "outputs": [],
   "source": [
    "# display sample of dataframe\n",
    "twitter_arch_clean.head(2)"
   ]
  },
  {
   "cell_type": "code",
   "execution_count": null,
   "metadata": {},
   "outputs": [],
   "source": [
    "# read dog types from text column\n",
    "for index, column in twitter_arch_clean.iterrows():\n",
    "    for word in ['puppo', 'pupper', 'doggo', 'floofer']:\n",
    "        if word.lower() in str(twitter_arch_clean.loc[index, 'text']).lower():\n",
    "            twitter_arch_clean.loc[index, 'dog_type'] = word.title()\n",
    "            \n",
    "# drop old columns\n",
    "twitter_arch_clean.drop(['puppo',\n",
    "                       'pupper',\n",
    "                       'doggo',\n",
    "                       'floofer'],\n",
    "                      axis=1, inplace=True)"
   ]
  },
  {
   "cell_type": "code",
   "execution_count": null,
   "metadata": {},
   "outputs": [],
   "source": [
    "# display sample of fixed data\n",
    "twitter_arch_clean.sample(3)"
   ]
  },
  {
   "cell_type": "markdown",
   "metadata": {},
   "source": [
    "### Clean: Image Predictions"
   ]
  },
  {
   "cell_type": "code",
   "execution_count": null,
   "metadata": {},
   "outputs": [],
   "source": [
    "# create a copy of dataset\n",
    "image_pred_clean = image_pred.copy()"
   ]
  },
  {
   "cell_type": "code",
   "execution_count": null,
   "metadata": {},
   "outputs": [],
   "source": [
    "# display sample of data\n",
    "image_pred_clean.sample(3)"
   ]
  },
  {
   "cell_type": "markdown",
   "metadata": {},
   "source": [
    "#### Define\n",
    "\n",
    "Column names are confusing and do not give much information about the content.  \n",
    "- Change column names to more descriptive ones.\n",
    "\n",
    "#### Code"
   ]
  },
  {
   "cell_type": "code",
   "execution_count": null,
   "metadata": {},
   "outputs": [],
   "source": [
    "# display current labels\n",
    "image_pred_clean.columns"
   ]
  },
  {
   "cell_type": "code",
   "execution_count": null,
   "metadata": {},
   "outputs": [],
   "source": [
    "# change labels\n",
    "image_pred_clean.columns = ['image_url', \n",
    "                            'img_number', \n",
    "                            '1st_prediction',\n",
    "                            '1st_prediction_confidence',\n",
    "                            '1st_prediction_isdog',\n",
    "                            '2nd_prediction',\n",
    "                            '2nd_prediction_confidence',\n",
    "                            '2nd_prediction_isdog',\n",
    "                            '3rd_prediction',\n",
    "                            '3rd_prediction_confidence',\n",
    "                            '3rd_prediction_isdog']"
   ]
  },
  {
   "cell_type": "code",
   "execution_count": null,
   "metadata": {},
   "outputs": [],
   "source": [
    "# display new labels\n",
    "image_pred_clean.columns"
   ]
  },
  {
   "cell_type": "markdown",
   "metadata": {},
   "source": [
    "#### Define\n",
    "\n",
    "Dog breeds contain underscores, and have different case formatting\n",
    "- Replace underscores with whitespace\n",
    "- Capitalize the first letter of each word\n",
    "\n",
    "#### Code"
   ]
  },
  {
   "cell_type": "code",
   "execution_count": null,
   "metadata": {},
   "outputs": [],
   "source": [
    "# columns with dog breed\n",
    "dog_breed_cols = ['1st_prediction', '2nd_prediction', '3rd_prediction']\n",
    "\n",
    "# remove underscore and capitalize the first letter of each word \n",
    "for column in dog_breed_cols:\n",
    "    image_pred_clean[column] = image_pred_clean[column].str.replace('_', ' ').str.title()"
   ]
  },
  {
   "cell_type": "code",
   "execution_count": null,
   "metadata": {},
   "outputs": [],
   "source": [
    "# display sample of changes\n",
    "image_pred_clean[dog_breed_cols].sample(3)"
   ]
  },
  {
   "cell_type": "markdown",
   "metadata": {},
   "source": [
    "#### Define\n",
    "\n",
    "Only 2075 images have been classified as dog images for top prediction\n",
    "- If 1st predictions is not a dog breed, then use dog breed predicted in the 2nd or 3rd predicion\n",
    "\n",
    "#### Code"
   ]
  },
  {
   "cell_type": "code",
   "execution_count": null,
   "metadata": {},
   "outputs": [],
   "source": [
    "# adapted from https://stackoverflow.com/a/26887820/7382214\n",
    "# build function to determine dog breed\n",
    "# if no breed detected, set value to NaN\n",
    "\n",
    "def get_breed(row):\n",
    "    if row['1st_prediction_isdog'] == True:\n",
    "        return row['1st_prediction'], row['1st_prediction_confidence']\n",
    "    if row['2nd_prediction_isdog'] == True:\n",
    "        return row['2nd_prediction'], row['2nd_prediction_confidence']\n",
    "    if row['3rd_prediction_isdog'] == True:\n",
    "        return row['3rd_prediction'], row['3rd_prediction_confidence']\n",
    "    return np.nan, np.nan\n",
    "\n",
    "# apply function to dataset\n",
    "# create new columns with data\n",
    "image_pred_clean[['breed_predicted', 'prediction_confidence']] = pd.DataFrame(image_pred_clean.apply(lambda row: get_breed(row), axis = 1).tolist(), index = image_pred_clean.index) \n",
    "\n",
    "# drop old columns\n",
    "image_pred_clean.drop(['1st_prediction',\n",
    "                       '1st_prediction_confidence',\n",
    "                       '1st_prediction_isdog',\n",
    "                       '2nd_prediction',\n",
    "                       '2nd_prediction_confidence',\n",
    "                       '2nd_prediction_isdog',\n",
    "                       '3rd_prediction',\n",
    "                       '3rd_prediction_confidence',\n",
    "                       '3rd_prediction_isdog'],\n",
    "                      axis=1, inplace=True)\n",
    "\n",
    "# drop rows without dog breed prediction\n",
    "image_pred_clean.dropna(subset = ['breed_predicted', 'prediction_confidence'], inplace = True)"
   ]
  },
  {
   "cell_type": "code",
   "execution_count": null,
   "metadata": {},
   "outputs": [],
   "source": [
    "# display sample of cleaned dataset\n",
    "image_pred_clean.sample(3)"
   ]
  },
  {
   "cell_type": "markdown",
   "metadata": {},
   "source": [
    "This concludes cleaning activities for the Image Predictions dataset. The remaining task is to merge it with the Twitter archive data, which is covered in the [Clean: Merge Datasets](#Clean:-Merge-Datasets) section."
   ]
  },
  {
   "cell_type": "markdown",
   "metadata": {},
   "source": [
    "### Clean: Twitter API Data"
   ]
  },
  {
   "cell_type": "code",
   "execution_count": null,
   "metadata": {},
   "outputs": [],
   "source": [
    "# display sample of data\n",
    "twitter_api.sample(3)"
   ]
  },
  {
   "cell_type": "markdown",
   "metadata": {},
   "source": [
    "There is no need to perform cleaning tasks in this data set, except for merging it with the Twitter archive data, which is covered in the next section."
   ]
  },
  {
   "cell_type": "markdown",
   "metadata": {},
   "source": [
    "### Clean: Merge Datasets"
   ]
  },
  {
   "cell_type": "code",
   "execution_count": null,
   "metadata": {},
   "outputs": [],
   "source": [
    "# join datasets\n",
    "df = reduce(lambda left, right: pd.merge(left, right, on='tweet_id'), [twitter_arch_clean, image_pred_clean, twitter_api])"
   ]
  },
  {
   "cell_type": "code",
   "execution_count": null,
   "metadata": {},
   "outputs": [],
   "source": [
    "# display new dataset\n",
    "df.sample(3)"
   ]
  },
  {
   "cell_type": "code",
   "execution_count": null,
   "metadata": {},
   "outputs": [],
   "source": [
    "# save new dataset to csv\n",
    "df.to_csv('data/twitter_archive_master.csv')"
   ]
  },
  {
   "cell_type": "markdown",
   "metadata": {},
   "source": [
    "## Analyzing Data\n",
    "\n",
    "Analyze and visualize data using matplotlib.\n",
    "\n",
    "* [Tweets over time](#Tweets-over-time)\n",
    "* [Tweets by source](#Tweets-by-Source)\n",
    "* [Dog names](#Dog-names)\n",
    "* [Dog types](#Dog-types)\n",
    "* [Dog breeds](#Dog-Breeds)\n",
    "* [Rating](#Rating)\n",
    "* [Favorites and Retweets](#Favorites-and-Retweets)\n",
    "\n",
    "<hr>"
   ]
  },
  {
   "cell_type": "code",
   "execution_count": null,
   "metadata": {},
   "outputs": [],
   "source": [
    "# scatter plot function\n",
    "def plot_scatter(x, y, title=\"\", xlabel=\"\", ylabel=\"\", xscale=\"linear\", yscale=\"linear\", color=\"#3F5D7D\", xticks=None, yticks=None):\n",
    "    \n",
    "    plt.figure(figsize=(10,7))   \n",
    "\n",
    "    ax = plt.subplot(111)    \n",
    "    ax.spines[\"top\"].set_visible(False)    \n",
    "    ax.spines[\"right\"].set_visible(False)    \n",
    "    ax.grid(which='major', axis='both', linestyle='--', alpha=0.5, color=\"#3F5D7D\")\n",
    "\n",
    "    if xticks is None:\n",
    "        plt.xticks(fontsize=14)\n",
    "    else:\n",
    "        plt.xticks(xticks)\n",
    "\n",
    "    if yticks is None:\n",
    "        plt.yticks(fontsize=14) \n",
    "    else:\n",
    "        plt.yticks(yticks)\n",
    "        \n",
    "    plt.scatter(x, \n",
    "                y,\n",
    "                color=color)\n",
    "\n",
    "    ax.set_xscale(xscale)\n",
    "    ax.set_yscale(yscale)\n",
    "\n",
    "    plt.title(title,\n",
    "              fontsize=18,\n",
    "              ha=\"center\",\n",
    "              pad=24)\n",
    "\n",
    "    plt.xlabel(xlabel,\n",
    "               fontsize=14,\n",
    "               labelpad=20)\n",
    "\n",
    "    plt.ylabel(ylabel, \n",
    "               fontsize=14,\n",
    "               labelpad=20)\n",
    "\n",
    "    return plt.show()\n",
    "\n",
    "# hist plot function\n",
    "def plot_hist(data, bins='auto', title=\"\", xlabel=\"\", ylabel=\"\", rwidth=1, xlim=None, ylim=None):\n",
    "    \n",
    "    plt.figure(figsize=(10,7)) \n",
    "\n",
    "    ax = plt.subplot(111)  \n",
    "    ax.spines[\"top\"].set_visible(False)  \n",
    "    ax.spines[\"right\"].set_visible(False)    \n",
    "    ax.grid(which='major', axis='y', linestyle='--', alpha=0.5, color=\"#3F5D7D\")\n",
    "    \n",
    "    plt.xticks(fontsize=14)\n",
    "    plt.yticks(fontsize=14) \n",
    "\n",
    "    if xlim is None:\n",
    "        plt.xlim()\n",
    "    else:\n",
    "        plt.xlim(xlim)\n",
    "\n",
    "    if ylim is None:\n",
    "        plt.ylim()\n",
    "    else:\n",
    "        plt.ylim(ylim)\n",
    "        \n",
    "    plt.tick_params(axis=\"both\", which=\"both\", bottom=True, top=False,    \n",
    "                labelbottom=True, left=False, right=False, labelleft=True) \n",
    "    \n",
    "    plt.hist(data, color=\"#3F5D7D\", edgecolor=\"k\", bins=bins, rwidth=rwidth)\n",
    "    \n",
    "    plt.title(title,\n",
    "              fontsize=18)\n",
    "    \n",
    "    plt.xlabel(xlabel,\n",
    "               fontsize=14)\n",
    "    \n",
    "    plt.ylabel(ylabel,\n",
    "               fontsize=14)\n",
    "    \n",
    "    return plt.show()\n",
    "\n",
    "# bar plot function\n",
    "def plot_bar(x, y, title=\"\", xlabel=\"\", ylabel=\"\", rotation=0, width=0.8):\n",
    "    \n",
    "    plt.figure(figsize=(10,7)) \n",
    "\n",
    "    ax = plt.subplot(111)  \n",
    "    ax.spines[\"top\"].set_visible(False)  \n",
    "    ax.spines[\"right\"].set_visible(False)    \n",
    "    ax.grid(which='major', axis='y', linestyle='--', alpha=0.5, color=\"#3F5D7D\")\n",
    "\n",
    "    plt.xticks(fontsize=14, rotation=rotation)\n",
    "    plt.yticks(fontsize=14) \n",
    "\n",
    "    plt.tick_params(axis=\"both\", which=\"both\", bottom=False, top=False,\n",
    "                    labelbottom=True, left=False, right=False, labelleft=True) \n",
    "\n",
    "    bar_list = plt.bar(x, y, color=\"#3F5D7D\", edgecolor=\"k\", width=width)\n",
    "\n",
    "    for a,b in zip(x, y):\n",
    "        plt.text(a, b, str(round(b,2)), ha='center', va='bottom', fontsize=12)\n",
    "\n",
    "    plt.title(title,\n",
    "              fontsize=18)\n",
    "    \n",
    "    plt.xlabel(xlabel,\n",
    "               fontsize=14)\n",
    "    \n",
    "    plt.ylabel(ylabel,\n",
    "               fontsize=14)\n",
    "\n",
    "    return plt.show()\n",
    "\n",
    "# horizontal bar plot function\n",
    "def plot_barh(x, y, title=\"\", xlabel=\"\", ylabel=\"\", rotation=0):\n",
    "    \n",
    "    plt.figure(figsize=(10,7)) \n",
    "\n",
    "    ax = plt.subplot(111)  \n",
    "    ax.spines[\"top\"].set_visible(False)  \n",
    "    ax.spines[\"right\"].set_visible(False)    \n",
    "    ax.grid(which='major', axis='x', linestyle='--', alpha=0.5, color=\"#3F5D7D\")\n",
    "\n",
    "    plt.xticks(fontsize=14, rotation=rotation)\n",
    "    plt.yticks(fontsize=14) \n",
    "\n",
    "    plt.tick_params(axis=\"both\", which=\"both\", bottom=False, top=False,\n",
    "                    labelbottom=True, left=False, right=False, labelleft=True) \n",
    "\n",
    "    bar_list = plt.barh(x,y, color=\"#3F5D7D\", edgecolor=\"k\")\n",
    "\n",
    "    for a, b in zip(x, y):\n",
    "        plt.text(b, a, str(round(b,2)), ha='right', va='center', fontsize=10, color=\"#ffffff\")\n",
    "\n",
    "    plt.title(title,\n",
    "              fontsize=18)\n",
    "    \n",
    "    plt.xlabel(xlabel,\n",
    "               fontsize=14)\n",
    "    \n",
    "    plt.ylabel(ylabel,\n",
    "               fontsize=14)\n",
    "\n",
    "    return plt.show()\n",
    "\n",
    "# line plot function\n",
    "def plot_line(x, y, title=\"\", xlabel=\"\", ylabel=\"\", marker=None, linestyle=\"-\", xlim=None, ylim=None, xrotation=0):\n",
    "    \n",
    "    plt.figure(figsize=(10, 7))   \n",
    "\n",
    "    ax = plt.subplot(111)    \n",
    "    ax.spines[\"top\"].set_visible(False)    \n",
    "    ax.spines[\"right\"].set_visible(False)    \n",
    "    ax.grid(which='major', axis='both', linestyle='--', alpha=0.5, color=\"#3F5D7D\")\n",
    "\n",
    "    plt.yticks(fontsize=14)    \n",
    "    plt.xticks(fontsize=14, rotation=xrotation)   \n",
    "\n",
    "    if xlim is None:\n",
    "        plt.xlim()\n",
    "    else:\n",
    "        plt.xlim(xlim)\n",
    "\n",
    "    if ylim is None:\n",
    "        plt.ylim()\n",
    "    else:\n",
    "        plt.ylim(ylim)\n",
    "    \n",
    "    plt.plot(x, y, marker=marker, linestyle=linestyle, color=\"#3F5D7D\")\n",
    "\n",
    "    plt.title(title,\n",
    "              fontsize=18)\n",
    "    \n",
    "    plt.xlabel(xlabel,\n",
    "               fontsize=14)\n",
    "    \n",
    "    plt.ylabel(ylabel,\n",
    "               fontsize=14)\n",
    "\n",
    "    return plt.show()"
   ]
  },
  {
   "cell_type": "code",
   "execution_count": null,
   "metadata": {},
   "outputs": [],
   "source": [
    "# display sample of data\n",
    "df.sample(3)"
   ]
  },
  {
   "cell_type": "code",
   "execution_count": null,
   "metadata": {
    "scrolled": true
   },
   "outputs": [],
   "source": [
    "# display basic stats\n",
    "df.describe()"
   ]
  },
  {
   "cell_type": "markdown",
   "metadata": {},
   "source": [
    "Looking at the basic statistics, we see that rating 11/10 is the most common one.\n",
    "When it comes to the quality of dog breed predictions, the average confidence of ~50% suggests we might expect a lot of misclassified dogs. On the good side, the average value of favorites and retweets allow us to understand better how popular weRateDogs profile is. Average of 9233 favorites and 2817 retweets is impressive."
   ]
  },
  {
   "cell_type": "code",
   "execution_count": null,
   "metadata": {},
   "outputs": [],
   "source": [
    "# compute the Pearson correlation coefficient\n",
    "df.corr(method='pearson').style.format(\"{:.2}\").background_gradient(cmap=plt.get_cmap('coolwarm'), axis=1)"
   ]
  },
  {
   "cell_type": "markdown",
   "metadata": {},
   "source": [
    "In addition to looking at the basic statistics, it is also worth to look at correlations. As we can see in the above correlogram, favorites and retweets counts are strongly correlated. Rating denominator and numerator are also strongly correlated, which is not a surprise. I was expecting to see a stronger correlation between the rating and favorites/retweets counts. It will be interesting to look closer at these variables using plots and see if there are any patterns which correlogram did not detect."
   ]
  },
  {
   "cell_type": "markdown",
   "metadata": {},
   "source": [
    "### Tweets over time\n",
    "\n",
    "Let's start from looking at how many tweets we have and from which period they come from."
   ]
  },
  {
   "cell_type": "code",
   "execution_count": null,
   "metadata": {},
   "outputs": [],
   "source": [
    "# group data by month and year\n",
    "tweets_time = pd.DataFrame(df.timestamp)\n",
    "tweets_time = tweets_time.groupby([df.timestamp.dt.year, tweets_time.timestamp.dt.month]).count()\n",
    "tweets_time.index = [datetime(year=int(y), month=int(m), day=15) for y, m in tweets_time.index]\n",
    "\n",
    "# plot\n",
    "plot_line(tweets_time.index, \n",
    "          tweets_time.timestamp,\n",
    "          title=\"Tweets over time\",\n",
    "          ylabel=\"Tweets\")"
   ]
  },
  {
   "cell_type": "markdown",
   "metadata": {},
   "source": [
    "Most of the tweets we have come from the beginning of 2016. Then, the number of tweets gradually decreases. We can suppose that at the beginning, WeRateDogs account created more tweets trying to gain popularity. Once it became popular, the number of tweets fell."
   ]
  },
  {
   "cell_type": "markdown",
   "metadata": {},
   "source": [
    "### Tweets by Source\n",
    "\n",
    "We can also have a look at the source of tweets."
   ]
  },
  {
   "cell_type": "code",
   "execution_count": null,
   "metadata": {},
   "outputs": [],
   "source": [
    "# get value counts and save as dataframe\n",
    "source_types = pd.DataFrame(df.source.value_counts())\n",
    "\n",
    "# plot\n",
    "plot_bar(source_types.index, \n",
    "         source_types.source, \n",
    "         width=0.25)"
   ]
  },
  {
   "cell_type": "markdown",
   "metadata": {},
   "source": [
    "It is interesting to see that almost all tweets were created from the iPhone app and only a fraction from the web browser."
   ]
  },
  {
   "cell_type": "markdown",
   "metadata": {},
   "source": [
    "### Dog names\n",
    "\n",
    "Each tweet gives us a lot of information. One of them is a dog name. Thanks to this, we can easily see which dog names are the most popular."
   ]
  },
  {
   "cell_type": "code",
   "execution_count": null,
   "metadata": {},
   "outputs": [],
   "source": [
    "# join all names but skip NaNs\n",
    "# https://stackoverflow.com/a/944712/7382214\n",
    "text = \" \".join(str(name) for name in df.name if name == name)"
   ]
  },
  {
   "cell_type": "code",
   "execution_count": null,
   "metadata": {},
   "outputs": [],
   "source": [
    "# generate wordCloud with dog names\n",
    "wordcloud = WordCloud(background_color=\"white\").generate(text)\n",
    "\n",
    "plt.figure(figsize=[10,7])\n",
    "plt.imshow(wordcloud, interpolation='bilinear')\n",
    "plt.axis(\"off\")\n",
    "plt.show()"
   ]
  },
  {
   "cell_type": "markdown",
   "metadata": {},
   "source": [
    "As we can see in the above word cloud, Charlie, Cooper, Lucy, Oliver, Tucker, and Penny are the most popular dog names :)"
   ]
  },
  {
   "cell_type": "markdown",
   "metadata": {},
   "source": [
    "### Dog Types\n",
    "\n",
    "WeRateDogs classifies dogs into one of four stages: doggo, pupper, puppo, and floof(er). The detail description of each stage is provided below. Let's check how many dogs we have for each category.\n",
    "\n",
    "<p align=\"center\">\n",
    "  <img src=\"img/dogtionary-combined.png\">\n",
    "</p>"
   ]
  },
  {
   "cell_type": "code",
   "execution_count": null,
   "metadata": {},
   "outputs": [],
   "source": [
    "# plot dog types\n",
    "dog_types = pd.DataFrame(df.dog_type.value_counts())\n",
    "\n",
    "plot_bar(dog_types.index,\n",
    "         dog_types.dog_type,\n",
    "         width=0.25, \n",
    "         title=\"Dog Types\", \n",
    "         ylabel=\"Count\")"
   ]
  },
  {
   "cell_type": "markdown",
   "metadata": {},
   "source": [
    "Pupper is the most common dog category, followed by Doggo. Floofer is very rare."
   ]
  },
  {
   "cell_type": "markdown",
   "metadata": {},
   "source": [
    "### Dog Breeds\n",
    "\n",
    "Another interesting information is the dog breed. This information comes from the image predictions file, which we merged with the tweeter archive at the end of the cleaning section. Dog breeds were generated by running images through the neural network that can classify breeds of dogs. Check my [DL--Dog-Breed-Classifier](https://github.com/BarbaraStempien/DL--Dog-Breed-Classifier) repository to see an example of such neural network."
   ]
  },
  {
   "cell_type": "code",
   "execution_count": null,
   "metadata": {},
   "outputs": [],
   "source": [
    "# plot 25 most popular dog breeds\n",
    "dog_breeds = pd.DataFrame(df.breed_predicted.value_counts()[:25])\n",
    "\n",
    "plot_barh(dog_breeds.index,\n",
    "          dog_breeds.breed_predicted,\n",
    "          title=\"25 Most Popular Breeds\")"
   ]
  },
  {
   "cell_type": "markdown",
   "metadata": {},
   "source": [
    "Golden Retriever, Labrador Retriever, Pembroke, and Chihuahua are leading! \n",
    "\n",
    "Now let's check if any specific dog breed gets a higher rating than others."
   ]
  },
  {
   "cell_type": "code",
   "execution_count": null,
   "metadata": {},
   "outputs": [],
   "source": [
    "# aggregate data\n",
    "dog_breeds_rating = pd.DataFrame(df[['breed_predicted', 'rating']]).groupby(['breed_predicted'], as_index=False).agg(['mean', 'count'])\n",
    "\n",
    "# drop multiindex and rename columns\n",
    "dog_breeds_rating.columns = dog_breeds_rating.columns.droplevel()\n",
    "dog_breeds_rating.columns = ['rating_mean', 'breed_count']\n",
    "\n",
    "# sort by rating\n",
    "dog_breeds_rating.sort_values('rating_mean', ascending=False, inplace=True)\n",
    "\n",
    "# display sample of data\n",
    "dog_breeds_rating.sample(3)"
   ]
  },
  {
   "cell_type": "code",
   "execution_count": null,
   "metadata": {},
   "outputs": [],
   "source": [
    "# plot top 25 breeds in terms of rating\n",
    "df_range = range(1, len(dog_breeds_rating.iloc[:26,:].index) + 1)\n",
    " \n",
    "# Vertical lollipop plot\n",
    "\n",
    "plt.figure(figsize=(10,7)) \n",
    "\n",
    "ax = plt.subplot(111)  \n",
    "ax.spines[\"top\"].set_visible(False)  \n",
    "ax.spines[\"right\"].set_visible(False)    \n",
    "ax.grid(which='major', axis='x', linestyle='--', alpha=0.5, color=\"#3F5D7D\")\n",
    "\n",
    "plt.xticks(fontsize=14)\n",
    "plt.yticks(df_range, dog_breeds_rating.iloc[:26,:].index, fontsize=14)\n",
    "\n",
    "plt.xlim(1,1.35)\n",
    "\n",
    "plt.tick_params(axis=\"both\", which=\"both\", bottom=False, top=False,\n",
    "                    labelbottom=True, left=False, right=False, labelleft=True) \n",
    "    \n",
    "plt.hlines(y = df_range, xmin = 0, xmax = dog_breeds_rating.iloc[:26,:].rating_mean, color = '#3F5D7D')\n",
    "plt.plot(dog_breeds_rating.iloc[:26,:].rating_mean, df_range, \"D\")\n",
    "\n",
    "plt.title(\"Top 25 breeds in terms of rating\",\n",
    "          fontsize=18)\n",
    "    \n",
    "plt.xlabel(\"Rating\",\n",
    "           fontsize=14) \n",
    "    \n",
    "plt.show()"
   ]
  },
  {
   "cell_type": "markdown",
   "metadata": {},
   "source": [
    "The highest rated dog breed is Bouvier Des Flandres, followed by Saluki and Briard. Now, let's see how the most common breeds are rated."
   ]
  },
  {
   "cell_type": "code",
   "execution_count": null,
   "metadata": {},
   "outputs": [],
   "source": [
    "# plot rating of 25 most common breeds\n",
    "dog_breeds_rating_count = dog_breeds_rating.sort_values('breed_count', ascending=False)\n",
    "df_range = range(1, len(dog_breeds_rating_count.iloc[:26,:].index) + 1)\n",
    " \n",
    "# Vertical lollipop plot\n",
    "\n",
    "plt.figure(figsize=(10,7)) \n",
    "\n",
    "ax = plt.subplot(111)  \n",
    "ax.spines[\"top\"].set_visible(False)  \n",
    "ax.spines[\"right\"].set_visible(False)    \n",
    "ax.grid(which='major', axis='x', linestyle='--', alpha=0.5, color=\"#3F5D7D\")\n",
    "\n",
    "plt.xticks(fontsize=14)\n",
    "plt.yticks(df_range, dog_breeds_rating_count.iloc[:26,:].index, fontsize=14)\n",
    "\n",
    "plt.xlim(0.9,1.2)\n",
    "\n",
    "plt.tick_params(axis=\"both\", which=\"both\", bottom=False, top=False,\n",
    "                    labelbottom=True, left=False, right=False, labelleft=True) \n",
    "    \n",
    "plt.hlines(y = df_range, xmin = 0, xmax = dog_breeds_rating_count.iloc[:26,:].rating_mean, color = '#3F5D7D')\n",
    "plt.plot(dog_breeds_rating_count.iloc[:26,:].rating_mean, df_range, \"D\")\n",
    "\n",
    "plt.title(\"Rating of the 25 most common breeds\",\n",
    "          fontsize=18)\n",
    "    \n",
    "plt.xlabel(\"Rating\",\n",
    "           fontsize=14) \n",
    "    \n",
    "plt.show()"
   ]
  },
  {
   "cell_type": "markdown",
   "metadata": {},
   "source": [
    "Rating of the most popular dog breeds varies from breed to breed. The most popular Golden Retriever has quite high raring, however very popular Pugs are rated much lower. \n",
    "\n",
    "Let's try to understand WeRateDogs rating system a bit better!"
   ]
  },
  {
   "cell_type": "markdown",
   "metadata": {},
   "source": [
    "### Rating\n",
    "\n",
    "WeRateDogs rates people's dogs with a humorous comment about the dog. These ratings almost always have a denominator of 10. The numerators, though? Almost always greater than 10. 11/10, 12/10, 13/10, etc. Why? Because [\"they're good dogs Brent.\"](https://knowyourmeme.com/memes/theyre-good-dogs-brent). Let's have a closer look!\n",
    "\n",
    "<p align=\"center\">\n",
    "  <img src=\"img/8c6.jpg\" width=\"400\">\n",
    "</p>"
   ]
  },
  {
   "cell_type": "code",
   "execution_count": null,
   "metadata": {},
   "outputs": [],
   "source": [
    "# display basic stats\n",
    "df.rating.describe()"
   ]
  },
  {
   "cell_type": "code",
   "execution_count": null,
   "metadata": {},
   "outputs": [],
   "source": [
    "# plot rating over time\n",
    "plot_line(df.timestamp, \n",
    "          df.rating,\n",
    "          title=\"Rating over time\", \n",
    "          ylabel=\"Rating\", \n",
    "          marker='o', \n",
    "          linestyle='', \n",
    "          ylim=(0,1.5), \n",
    "          xrotation=75)"
   ]
  },
  {
   "cell_type": "markdown",
   "metadata": {},
   "source": [
    "At the beginning of the account activity, the lower ratings were more frequent. With the elapse of time, less and less dogs received a low rating, and more and more high. \n",
    "\n",
    "Another interesting thing to check if a relation of rating to retweets and favorites."
   ]
  },
  {
   "cell_type": "code",
   "execution_count": null,
   "metadata": {},
   "outputs": [],
   "source": [
    "# plot rating and retweets count\n",
    "rating_quantile = df.rating.quantile(q=0.99)\n",
    "retweets_quantile = df.retweets.quantile(q=0.99)\n",
    "\n",
    "plot_line(df.retweets, \n",
    "          df.rating,\n",
    "          title=\"Retweets by rating\",\n",
    "          xlabel=\"Retweets\", \n",
    "          ylabel=\"Rating\",\n",
    "          marker='o', \n",
    "          linestyle='',\n",
    "          ylim=(0, rating_quantile + 0.1),\n",
    "          xlim=(0, retweets_quantile))"
   ]
  },
  {
   "cell_type": "markdown",
   "metadata": {},
   "source": [
    "As we can see in the above plot, tweets with high ratings are often retweeted. Let's see if the same relationship exists for favorites."
   ]
  },
  {
   "cell_type": "code",
   "execution_count": null,
   "metadata": {},
   "outputs": [],
   "source": [
    "# plot rating and favorites count\n",
    "favorites_quantile = df.favorites.quantile(q=0.99)\n",
    "\n",
    "plot_line(df.favorites, \n",
    "          df.rating,\n",
    "          title=\"Favorites by rating\",\n",
    "          xlabel=\"Favorites\", \n",
    "          ylabel=\"Rating\",\n",
    "          marker='o', \n",
    "          linestyle='',\n",
    "          ylim=(0, rating_quantile + 0.1),\n",
    "          xlim=(0, retweets_quantile))"
   ]
  },
  {
   "cell_type": "markdown",
   "metadata": {},
   "source": [
    "Here again, we see that the higher rating links with more favorites. Retweets and favorites and generally very interesting, so now we look closer at these two."
   ]
  },
  {
   "cell_type": "markdown",
   "metadata": {},
   "source": [
    "### Favorites and Retweets "
   ]
  },
  {
   "cell_type": "code",
   "execution_count": null,
   "metadata": {},
   "outputs": [],
   "source": [
    "# display basic stats\n",
    "df.favorites.describe()"
   ]
  },
  {
   "cell_type": "code",
   "execution_count": null,
   "metadata": {},
   "outputs": [],
   "source": [
    "# plot favorites frequency\n",
    "favorites_quantile = df.favorites.quantile(q=0.99)\n",
    "\n",
    "plot_hist(df.favorites,\n",
    "          title=\"Favorites\",\n",
    "          xlabel=\"Favorites\",\n",
    "          ylabel=\"Frequency\",\n",
    "          xlim=(0,favorites_quantile))"
   ]
  },
  {
   "cell_type": "markdown",
   "metadata": {},
   "source": [
    "Most of the posts get less than 11k favorites (75% quartile). The average number of favorites is 9233.\n",
    "\n",
    "The most popular tweet had 132810 favorites. Let's see that tweet:"
   ]
  },
  {
   "cell_type": "code",
   "execution_count": null,
   "metadata": {},
   "outputs": [],
   "source": [
    "# get tweet text\n",
    "text = df.loc[df.favorites.idxmax()]['text']\n",
    "\n",
    "# get tweet image\n",
    "size = 512, 512\n",
    "image_url = df.loc[df.favorites.idxmax()]['image_url']\n",
    "image = Image.open(requests.get(image_url, stream=True).raw)\n",
    "image.thumbnail(size)\n",
    "\n",
    "# display text and image\n",
    "print(text)\n",
    "image"
   ]
  },
  {
   "cell_type": "code",
   "execution_count": null,
   "metadata": {},
   "outputs": [],
   "source": [
    "# plot favorites over time\n",
    "plot_line(df.timestamp, \n",
    "          df.favorites,\n",
    "          title=\"Favorites over time\", \n",
    "          ylabel=\"Favorites\", \n",
    "          marker='o', \n",
    "          linestyle='',\n",
    "          xrotation=75)"
   ]
  },
  {
   "cell_type": "markdown",
   "metadata": {},
   "source": [
    "We see an upward trend in the number of favorites. We can suppose that tweets were getting more and more favorites as WeRateDog account was becoming more and more popular. Now, let's look at retweets."
   ]
  },
  {
   "cell_type": "code",
   "execution_count": null,
   "metadata": {},
   "outputs": [],
   "source": [
    "# display basic stats\n",
    "df.retweets.describe()"
   ]
  },
  {
   "cell_type": "code",
   "execution_count": null,
   "metadata": {},
   "outputs": [],
   "source": [
    "# plot retweets frequency\n",
    "retweets_quantile = df.retweets.quantile(q=0.99)\n",
    "\n",
    "plot_hist(df.retweets,\n",
    "          title=\"Retweets\",\n",
    "          xlabel=\"Retweets\",\n",
    "          ylabel=\"Frequency\",\n",
    "          xlim=(0,retweets_quantile))"
   ]
  },
  {
   "cell_type": "markdown",
   "metadata": {},
   "source": [
    "Most of the tweets get less than 3k retweets (75% quartile). The average number of retweets is 2817. The most popular tweet had 79515 retweets. Let's see that tweet:"
   ]
  },
  {
   "cell_type": "code",
   "execution_count": null,
   "metadata": {},
   "outputs": [],
   "source": [
    "# get tweet text\n",
    "text = df.loc[df.retweets.idxmax()]['text']\n",
    "\n",
    "# get tweet image\n",
    "size = 512, 512\n",
    "image_url = df.loc[df.retweets.idxmax()]['image_url']\n",
    "image = Image.open(requests.get(image_url, stream=True).raw)\n",
    "image.thumbnail(size)\n",
    "\n",
    "# display text and image\n",
    "print(text)\n",
    "image"
   ]
  },
  {
   "cell_type": "code",
   "execution_count": null,
   "metadata": {},
   "outputs": [],
   "source": [
    "# plot retweets over time\n",
    "plot_line(df.timestamp, \n",
    "          df.retweets,\n",
    "          title=\"Retweets over time\", \n",
    "          ylabel=\"Retweets\", \n",
    "          marker='o', \n",
    "          linestyle='',\n",
    "          xrotation=75)"
   ]
  },
  {
   "cell_type": "markdown",
   "metadata": {},
   "source": [
    "The amount of retweets seems to be quite constant, with a slight increase in recent years. Now let's look at the retweets and favorites relation."
   ]
  },
  {
   "cell_type": "code",
   "execution_count": null,
   "metadata": {},
   "outputs": [],
   "source": [
    "# plot favorites and retweets\n",
    "plot_scatter(df.favorites,\n",
    "             df.retweets,\n",
    "             title=\"Favorites and retweets relation\",\n",
    "             xlabel=\"Favorites\",\n",
    "             ylabel=\"Retweets\")"
   ]
  },
  {
   "cell_type": "markdown",
   "metadata": {},
   "source": [
    "In the plot above, we see correlations between the values. This relationship will be even more evident if we use log10."
   ]
  },
  {
   "cell_type": "code",
   "execution_count": null,
   "metadata": {},
   "outputs": [],
   "source": [
    "# plot favorites and retweets log10\n",
    "plot_scatter(df.favorites,\n",
    "             df.retweets, \n",
    "             title=\"Favorites and retweets relation (log10)\",\n",
    "             xlabel=\"Favorites (log10)\",\n",
    "             ylabel=\"Retweets (log10)\",\n",
    "             xscale=\"log\", \n",
    "             yscale=\"log\")"
   ]
  },
  {
   "cell_type": "markdown",
   "metadata": {},
   "source": [
    "After using log10, the correlation very visible. "
   ]
  },
  {
   "cell_type": "markdown",
   "metadata": {},
   "source": [
    "## Conclusions"
   ]
  },
  {
   "cell_type": "markdown",
   "metadata": {},
   "source": [
    "In this notebook, I tried to look closely at the data associated with the WeRateDogs account on the tweeter. I have loaded data from three different sources, then I cleared the data and finally analyzed it. This allowed a better understanding of the profile's activities on the tweeter."
   ]
  }
 ],
 "metadata": {
  "kernelspec": {
   "display_name": "Python 3",
   "language": "python",
   "name": "python3"
  },
  "language_info": {
   "codemirror_mode": {
    "name": "ipython",
    "version": 3
   },
   "file_extension": ".py",
   "mimetype": "text/x-python",
   "name": "python",
   "nbconvert_exporter": "python",
   "pygments_lexer": "ipython3",
   "version": "3.7.1"
  }
 },
 "nbformat": 4,
 "nbformat_minor": 2
}
